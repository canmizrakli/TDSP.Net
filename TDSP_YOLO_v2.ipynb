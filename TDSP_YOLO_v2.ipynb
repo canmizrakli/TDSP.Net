{
 "nbformat": 4,
 "nbformat_minor": 0,
 "metadata": {
  "colab": {
   "provenance": [],
   "toc_visible": true,
   "collapsed_sections": [
    "sOcOlatpYeaQ",
    "Rf84tUFzBAO4"
   ],
   "gpuType": "L4",
   "authorship_tag": "ABX9TyMXEoc/nrrtXOVvg2Bjrhxm",
   "include_colab_link": true
  },
  "kernelspec": {
   "name": "python3",
   "display_name": "Python 3"
  },
  "language_info": {
   "name": "python"
  },
  "accelerator": "GPU"
 },
 "cells": [
  {
   "cell_type": "markdown",
   "metadata": {
    "id": "view-in-github",
    "colab_type": "text"
   },
   "source": [
    "<a href=\"https://colab.research.google.com/github/canmizrakli/TDSP.Net/blob/main/TDSP_YOLO_v2.ipynb\" target=\"_parent\"><img src=\"https://colab.research.google.com/assets/colab-badge.svg\" alt=\"Open In Colab\"/></a>"
   ]
  },
  {
   "cell_type": "markdown",
   "source": [
    "# YOLO-based Task-driven Visual Saliency Prediction\n",
    "\n"
   ],
   "metadata": {
    "id": "A7GG_LwmgPIw"
   }
  },
  {
   "cell_type": "markdown",
   "source": [
    "This notebook demonstrates a complete workflow for building a YOLO-based architecture for task-based visual saliency prediction.\n",
    "\n",
    "**Dataset Structure**  \n",
    "Your dataset (stored on Google Drive at `/content/drive/MyDrive/TDSP/Task-based-eye-fixation-dataset_1024x768`) should be organized as follows:\n",
    "\n",
    "\n",
    "\n",
    "**Task Definitions**  \n",
    "- **task1** → free view  \n",
    "- **task2** → count people  \n",
    "- **task3** → detect the emotion  \n",
    "- **task4** → identify the action\n",
    "\n",
    "The notebook includes:  \n",
    "- Paired data augmentation  \n",
    "- A YOLO-based backbone (pre-trained)  \n",
    "- A TaskEncoder using Sentence-BERT for rich task embeddings  \n",
    "- A saliency-specific loss function"
   ],
   "metadata": {
    "id": "SVBlc8flNsBC"
   }
  },
  {
   "cell_type": "markdown",
   "source": [
    "## Preprocessing"
   ],
   "metadata": {
    "id": "3rG2LzGKtahj"
   }
  },
  {
   "cell_type": "code",
   "source": [
    "# 1. Mount Google Drive\n",
    "from google.colab import drive\n",
    "drive.mount('/content/drive')"
   ],
   "metadata": {
    "id": "D3FqRtHIgRhN",
    "colab": {
     "base_uri": "https://localhost:8080/"
    },
    "outputId": "2132871f-9837-4e1a-8579-b6c9fd3fe74e"
   },
   "execution_count": null,
   "outputs": [
    {
     "output_type": "stream",
     "name": "stdout",
     "text": [
      "Mounted at /content/drive\n"
     ]
    }
   ]
  },
  {
   "cell_type": "code",
   "source": [
    "# 2. Install Dependencies\n",
    "!pip install --upgrade torch torchvision einops\n",
    "!pip install ultralytics"
   ],
   "metadata": {
    "collapsed": true,
    "id": "atkSTRsggTrO",
    "colab": {
     "base_uri": "https://localhost:8080/"
    },
    "outputId": "504f4a49-ea1e-48d2-905e-135dc5dda5f8"
   },
   "execution_count": null,
   "outputs": [
    {
     "output_type": "stream",
     "name": "stdout",
     "text": [
      "Requirement already satisfied: torch in /usr/local/lib/python3.11/dist-packages (2.6.0+cu124)\n",
      "Requirement already satisfied: torchvision in /usr/local/lib/python3.11/dist-packages (0.21.0+cu124)\n",
      "Requirement already satisfied: einops in /usr/local/lib/python3.11/dist-packages (0.8.1)\n",
      "Requirement already satisfied: filelock in /usr/local/lib/python3.11/dist-packages (from torch) (3.18.0)\n",
      "Requirement already satisfied: typing-extensions>=4.10.0 in /usr/local/lib/python3.11/dist-packages (from torch) (4.12.2)\n",
      "Requirement already satisfied: networkx in /usr/local/lib/python3.11/dist-packages (from torch) (3.4.2)\n",
      "Requirement already satisfied: jinja2 in /usr/local/lib/python3.11/dist-packages (from torch) (3.1.6)\n",
      "Requirement already satisfied: fsspec in /usr/local/lib/python3.11/dist-packages (from torch) (2025.3.0)\n",
      "Collecting nvidia-cuda-nvrtc-cu12==12.4.127 (from torch)\n",
      "  Downloading nvidia_cuda_nvrtc_cu12-12.4.127-py3-none-manylinux2014_x86_64.whl.metadata (1.5 kB)\n",
      "Collecting nvidia-cuda-runtime-cu12==12.4.127 (from torch)\n",
      "  Downloading nvidia_cuda_runtime_cu12-12.4.127-py3-none-manylinux2014_x86_64.whl.metadata (1.5 kB)\n",
      "Collecting nvidia-cuda-cupti-cu12==12.4.127 (from torch)\n",
      "  Downloading nvidia_cuda_cupti_cu12-12.4.127-py3-none-manylinux2014_x86_64.whl.metadata (1.6 kB)\n",
      "Collecting nvidia-cudnn-cu12==9.1.0.70 (from torch)\n",
      "  Downloading nvidia_cudnn_cu12-9.1.0.70-py3-none-manylinux2014_x86_64.whl.metadata (1.6 kB)\n",
      "Collecting nvidia-cublas-cu12==12.4.5.8 (from torch)\n",
      "  Downloading nvidia_cublas_cu12-12.4.5.8-py3-none-manylinux2014_x86_64.whl.metadata (1.5 kB)\n",
      "Collecting nvidia-cufft-cu12==11.2.1.3 (from torch)\n",
      "  Downloading nvidia_cufft_cu12-11.2.1.3-py3-none-manylinux2014_x86_64.whl.metadata (1.5 kB)\n",
      "Collecting nvidia-curand-cu12==10.3.5.147 (from torch)\n",
      "  Downloading nvidia_curand_cu12-10.3.5.147-py3-none-manylinux2014_x86_64.whl.metadata (1.5 kB)\n",
      "Collecting nvidia-cusolver-cu12==11.6.1.9 (from torch)\n",
      "  Downloading nvidia_cusolver_cu12-11.6.1.9-py3-none-manylinux2014_x86_64.whl.metadata (1.6 kB)\n",
      "Collecting nvidia-cusparse-cu12==12.3.1.170 (from torch)\n",
      "  Downloading nvidia_cusparse_cu12-12.3.1.170-py3-none-manylinux2014_x86_64.whl.metadata (1.6 kB)\n",
      "Requirement already satisfied: nvidia-cusparselt-cu12==0.6.2 in /usr/local/lib/python3.11/dist-packages (from torch) (0.6.2)\n",
      "Requirement already satisfied: nvidia-nccl-cu12==2.21.5 in /usr/local/lib/python3.11/dist-packages (from torch) (2.21.5)\n",
      "Requirement already satisfied: nvidia-nvtx-cu12==12.4.127 in /usr/local/lib/python3.11/dist-packages (from torch) (12.4.127)\n",
      "Collecting nvidia-nvjitlink-cu12==12.4.127 (from torch)\n",
      "  Downloading nvidia_nvjitlink_cu12-12.4.127-py3-none-manylinux2014_x86_64.whl.metadata (1.5 kB)\n",
      "Requirement already satisfied: triton==3.2.0 in /usr/local/lib/python3.11/dist-packages (from torch) (3.2.0)\n",
      "Requirement already satisfied: sympy==1.13.1 in /usr/local/lib/python3.11/dist-packages (from torch) (1.13.1)\n",
      "Requirement already satisfied: mpmath<1.4,>=1.1.0 in /usr/local/lib/python3.11/dist-packages (from sympy==1.13.1->torch) (1.3.0)\n",
      "Requirement already satisfied: numpy in /usr/local/lib/python3.11/dist-packages (from torchvision) (2.0.2)\n",
      "Requirement already satisfied: pillow!=8.3.*,>=5.3.0 in /usr/local/lib/python3.11/dist-packages (from torchvision) (11.1.0)\n",
      "Requirement already satisfied: MarkupSafe>=2.0 in /usr/local/lib/python3.11/dist-packages (from jinja2->torch) (3.0.2)\n",
      "Downloading nvidia_cublas_cu12-12.4.5.8-py3-none-manylinux2014_x86_64.whl (363.4 MB)\n",
      "\u001b[2K   \u001b[90m━━━━━━━━━━━━━━━━━━━━━━━━━━━━━━━━━━━━━━━━\u001b[0m \u001b[32m363.4/363.4 MB\u001b[0m \u001b[31m1.4 MB/s\u001b[0m eta \u001b[36m0:00:00\u001b[0m\n",
      "\u001b[?25hDownloading nvidia_cuda_cupti_cu12-12.4.127-py3-none-manylinux2014_x86_64.whl (13.8 MB)\n",
      "\u001b[2K   \u001b[90m━━━━━━━━━━━━━━━━━━━━━━━━━━━━━━━━━━━━━━━━\u001b[0m \u001b[32m13.8/13.8 MB\u001b[0m \u001b[31m100.8 MB/s\u001b[0m eta \u001b[36m0:00:00\u001b[0m\n",
      "\u001b[?25hDownloading nvidia_cuda_nvrtc_cu12-12.4.127-py3-none-manylinux2014_x86_64.whl (24.6 MB)\n",
      "\u001b[2K   \u001b[90m━━━━━━━━━━━━━━━━━━━━━━━━━━━━━━━━━━━━━━━━\u001b[0m \u001b[32m24.6/24.6 MB\u001b[0m \u001b[31m78.0 MB/s\u001b[0m eta \u001b[36m0:00:00\u001b[0m\n",
      "\u001b[?25hDownloading nvidia_cuda_runtime_cu12-12.4.127-py3-none-manylinux2014_x86_64.whl (883 kB)\n",
      "\u001b[2K   \u001b[90m━━━━━━━━━━━━━━━━━━━━━━━━━━━━━━━━━━━━━━━━\u001b[0m \u001b[32m883.7/883.7 kB\u001b[0m \u001b[31m43.5 MB/s\u001b[0m eta \u001b[36m0:00:00\u001b[0m\n",
      "\u001b[?25hDownloading nvidia_cudnn_cu12-9.1.0.70-py3-none-manylinux2014_x86_64.whl (664.8 MB)\n",
      "\u001b[2K   \u001b[90m━━━━━━━━━━━━━━━━━━━━━━━━━━━━━━━━━━━━━━━━\u001b[0m \u001b[32m664.8/664.8 MB\u001b[0m \u001b[31m2.8 MB/s\u001b[0m eta \u001b[36m0:00:00\u001b[0m\n",
      "\u001b[?25hDownloading nvidia_cufft_cu12-11.2.1.3-py3-none-manylinux2014_x86_64.whl (211.5 MB)\n",
      "\u001b[2K   \u001b[90m━━━━━━━━━━━━━━━━━━━━━━━━━━━━━━━━━━━━━━━━\u001b[0m \u001b[32m211.5/211.5 MB\u001b[0m \u001b[31m5.6 MB/s\u001b[0m eta \u001b[36m0:00:00\u001b[0m\n",
      "\u001b[?25hDownloading nvidia_curand_cu12-10.3.5.147-py3-none-manylinux2014_x86_64.whl (56.3 MB)\n",
      "\u001b[2K   \u001b[90m━━━━━━━━━━━━━━━━━━━━━━━━━━━━━━━━━━━━━━━━\u001b[0m \u001b[32m56.3/56.3 MB\u001b[0m \u001b[31m13.3 MB/s\u001b[0m eta \u001b[36m0:00:00\u001b[0m\n",
      "\u001b[?25hDownloading nvidia_cusolver_cu12-11.6.1.9-py3-none-manylinux2014_x86_64.whl (127.9 MB)\n",
      "\u001b[2K   \u001b[90m━━━━━━━━━━━━━━━━━━━━━━━━━━━━━━━━━━━━━━━━\u001b[0m \u001b[32m127.9/127.9 MB\u001b[0m \u001b[31m7.2 MB/s\u001b[0m eta \u001b[36m0:00:00\u001b[0m\n",
      "\u001b[?25hDownloading nvidia_cusparse_cu12-12.3.1.170-py3-none-manylinux2014_x86_64.whl (207.5 MB)\n",
      "\u001b[2K   \u001b[90m━━━━━━━━━━━━━━━━━━━━━━━━━━━━━━━━━━━━━━━━\u001b[0m \u001b[32m207.5/207.5 MB\u001b[0m \u001b[31m7.7 MB/s\u001b[0m eta \u001b[36m0:00:00\u001b[0m\n",
      "\u001b[?25hDownloading nvidia_nvjitlink_cu12-12.4.127-py3-none-manylinux2014_x86_64.whl (21.1 MB)\n",
      "\u001b[2K   \u001b[90m━━━━━━━━━━━━━━━━━━━━━━━━━━━━━━━━━━━━━━━━\u001b[0m \u001b[32m21.1/21.1 MB\u001b[0m \u001b[31m84.3 MB/s\u001b[0m eta \u001b[36m0:00:00\u001b[0m\n",
      "\u001b[?25hInstalling collected packages: nvidia-nvjitlink-cu12, nvidia-curand-cu12, nvidia-cufft-cu12, nvidia-cuda-runtime-cu12, nvidia-cuda-nvrtc-cu12, nvidia-cuda-cupti-cu12, nvidia-cublas-cu12, nvidia-cusparse-cu12, nvidia-cudnn-cu12, nvidia-cusolver-cu12\n",
      "  Attempting uninstall: nvidia-nvjitlink-cu12\n",
      "    Found existing installation: nvidia-nvjitlink-cu12 12.5.82\n",
      "    Uninstalling nvidia-nvjitlink-cu12-12.5.82:\n",
      "      Successfully uninstalled nvidia-nvjitlink-cu12-12.5.82\n",
      "  Attempting uninstall: nvidia-curand-cu12\n",
      "    Found existing installation: nvidia-curand-cu12 10.3.6.82\n",
      "    Uninstalling nvidia-curand-cu12-10.3.6.82:\n",
      "      Successfully uninstalled nvidia-curand-cu12-10.3.6.82\n",
      "  Attempting uninstall: nvidia-cufft-cu12\n",
      "    Found existing installation: nvidia-cufft-cu12 11.2.3.61\n",
      "    Uninstalling nvidia-cufft-cu12-11.2.3.61:\n",
      "      Successfully uninstalled nvidia-cufft-cu12-11.2.3.61\n",
      "  Attempting uninstall: nvidia-cuda-runtime-cu12\n",
      "    Found existing installation: nvidia-cuda-runtime-cu12 12.5.82\n",
      "    Uninstalling nvidia-cuda-runtime-cu12-12.5.82:\n",
      "      Successfully uninstalled nvidia-cuda-runtime-cu12-12.5.82\n",
      "  Attempting uninstall: nvidia-cuda-nvrtc-cu12\n",
      "    Found existing installation: nvidia-cuda-nvrtc-cu12 12.5.82\n",
      "    Uninstalling nvidia-cuda-nvrtc-cu12-12.5.82:\n",
      "      Successfully uninstalled nvidia-cuda-nvrtc-cu12-12.5.82\n",
      "  Attempting uninstall: nvidia-cuda-cupti-cu12\n",
      "    Found existing installation: nvidia-cuda-cupti-cu12 12.5.82\n",
      "    Uninstalling nvidia-cuda-cupti-cu12-12.5.82:\n",
      "      Successfully uninstalled nvidia-cuda-cupti-cu12-12.5.82\n",
      "  Attempting uninstall: nvidia-cublas-cu12\n",
      "    Found existing installation: nvidia-cublas-cu12 12.5.3.2\n",
      "    Uninstalling nvidia-cublas-cu12-12.5.3.2:\n",
      "      Successfully uninstalled nvidia-cublas-cu12-12.5.3.2\n",
      "  Attempting uninstall: nvidia-cusparse-cu12\n",
      "    Found existing installation: nvidia-cusparse-cu12 12.5.1.3\n",
      "    Uninstalling nvidia-cusparse-cu12-12.5.1.3:\n",
      "      Successfully uninstalled nvidia-cusparse-cu12-12.5.1.3\n",
      "  Attempting uninstall: nvidia-cudnn-cu12\n",
      "    Found existing installation: nvidia-cudnn-cu12 9.3.0.75\n",
      "    Uninstalling nvidia-cudnn-cu12-9.3.0.75:\n",
      "      Successfully uninstalled nvidia-cudnn-cu12-9.3.0.75\n",
      "  Attempting uninstall: nvidia-cusolver-cu12\n",
      "    Found existing installation: nvidia-cusolver-cu12 11.6.3.83\n",
      "    Uninstalling nvidia-cusolver-cu12-11.6.3.83:\n",
      "      Successfully uninstalled nvidia-cusolver-cu12-11.6.3.83\n",
      "Successfully installed nvidia-cublas-cu12-12.4.5.8 nvidia-cuda-cupti-cu12-12.4.127 nvidia-cuda-nvrtc-cu12-12.4.127 nvidia-cuda-runtime-cu12-12.4.127 nvidia-cudnn-cu12-9.1.0.70 nvidia-cufft-cu12-11.2.1.3 nvidia-curand-cu12-10.3.5.147 nvidia-cusolver-cu12-11.6.1.9 nvidia-cusparse-cu12-12.3.1.170 nvidia-nvjitlink-cu12-12.4.127\n",
      "Collecting ultralytics\n",
      "  Downloading ultralytics-8.3.94-py3-none-any.whl.metadata (35 kB)\n",
      "Requirement already satisfied: numpy<=2.1.1,>=1.23.0 in /usr/local/lib/python3.11/dist-packages (from ultralytics) (2.0.2)\n",
      "Requirement already satisfied: matplotlib>=3.3.0 in /usr/local/lib/python3.11/dist-packages (from ultralytics) (3.10.0)\n",
      "Requirement already satisfied: opencv-python>=4.6.0 in /usr/local/lib/python3.11/dist-packages (from ultralytics) (4.11.0.86)\n",
      "Requirement already satisfied: pillow>=7.1.2 in /usr/local/lib/python3.11/dist-packages (from ultralytics) (11.1.0)\n",
      "Requirement already satisfied: pyyaml>=5.3.1 in /usr/local/lib/python3.11/dist-packages (from ultralytics) (6.0.2)\n",
      "Requirement already satisfied: requests>=2.23.0 in /usr/local/lib/python3.11/dist-packages (from ultralytics) (2.32.3)\n",
      "Requirement already satisfied: scipy>=1.4.1 in /usr/local/lib/python3.11/dist-packages (from ultralytics) (1.14.1)\n",
      "Requirement already satisfied: torch>=1.8.0 in /usr/local/lib/python3.11/dist-packages (from ultralytics) (2.6.0+cu124)\n",
      "Requirement already satisfied: torchvision>=0.9.0 in /usr/local/lib/python3.11/dist-packages (from ultralytics) (0.21.0+cu124)\n",
      "Requirement already satisfied: tqdm>=4.64.0 in /usr/local/lib/python3.11/dist-packages (from ultralytics) (4.67.1)\n",
      "Requirement already satisfied: psutil in /usr/local/lib/python3.11/dist-packages (from ultralytics) (5.9.5)\n",
      "Requirement already satisfied: py-cpuinfo in /usr/local/lib/python3.11/dist-packages (from ultralytics) (9.0.0)\n",
      "Requirement already satisfied: pandas>=1.1.4 in /usr/local/lib/python3.11/dist-packages (from ultralytics) (2.2.2)\n",
      "Requirement already satisfied: seaborn>=0.11.0 in /usr/local/lib/python3.11/dist-packages (from ultralytics) (0.13.2)\n",
      "Collecting ultralytics-thop>=2.0.0 (from ultralytics)\n",
      "  Downloading ultralytics_thop-2.0.14-py3-none-any.whl.metadata (9.4 kB)\n",
      "Requirement already satisfied: contourpy>=1.0.1 in /usr/local/lib/python3.11/dist-packages (from matplotlib>=3.3.0->ultralytics) (1.3.1)\n",
      "Requirement already satisfied: cycler>=0.10 in /usr/local/lib/python3.11/dist-packages (from matplotlib>=3.3.0->ultralytics) (0.12.1)\n",
      "Requirement already satisfied: fonttools>=4.22.0 in /usr/local/lib/python3.11/dist-packages (from matplotlib>=3.3.0->ultralytics) (4.56.0)\n",
      "Requirement already satisfied: kiwisolver>=1.3.1 in /usr/local/lib/python3.11/dist-packages (from matplotlib>=3.3.0->ultralytics) (1.4.8)\n",
      "Requirement already satisfied: packaging>=20.0 in /usr/local/lib/python3.11/dist-packages (from matplotlib>=3.3.0->ultralytics) (24.2)\n",
      "Requirement already satisfied: pyparsing>=2.3.1 in /usr/local/lib/python3.11/dist-packages (from matplotlib>=3.3.0->ultralytics) (3.2.1)\n",
      "Requirement already satisfied: python-dateutil>=2.7 in /usr/local/lib/python3.11/dist-packages (from matplotlib>=3.3.0->ultralytics) (2.8.2)\n",
      "Requirement already satisfied: pytz>=2020.1 in /usr/local/lib/python3.11/dist-packages (from pandas>=1.1.4->ultralytics) (2025.1)\n",
      "Requirement already satisfied: tzdata>=2022.7 in /usr/local/lib/python3.11/dist-packages (from pandas>=1.1.4->ultralytics) (2025.1)\n",
      "Requirement already satisfied: charset-normalizer<4,>=2 in /usr/local/lib/python3.11/dist-packages (from requests>=2.23.0->ultralytics) (3.4.1)\n",
      "Requirement already satisfied: idna<4,>=2.5 in /usr/local/lib/python3.11/dist-packages (from requests>=2.23.0->ultralytics) (3.10)\n",
      "Requirement already satisfied: urllib3<3,>=1.21.1 in /usr/local/lib/python3.11/dist-packages (from requests>=2.23.0->ultralytics) (2.3.0)\n",
      "Requirement already satisfied: certifi>=2017.4.17 in /usr/local/lib/python3.11/dist-packages (from requests>=2.23.0->ultralytics) (2025.1.31)\n",
      "Requirement already satisfied: filelock in /usr/local/lib/python3.11/dist-packages (from torch>=1.8.0->ultralytics) (3.18.0)\n",
      "Requirement already satisfied: typing-extensions>=4.10.0 in /usr/local/lib/python3.11/dist-packages (from torch>=1.8.0->ultralytics) (4.12.2)\n",
      "Requirement already satisfied: networkx in /usr/local/lib/python3.11/dist-packages (from torch>=1.8.0->ultralytics) (3.4.2)\n",
      "Requirement already satisfied: jinja2 in /usr/local/lib/python3.11/dist-packages (from torch>=1.8.0->ultralytics) (3.1.6)\n",
      "Requirement already satisfied: fsspec in /usr/local/lib/python3.11/dist-packages (from torch>=1.8.0->ultralytics) (2025.3.0)\n",
      "Requirement already satisfied: nvidia-cuda-nvrtc-cu12==12.4.127 in /usr/local/lib/python3.11/dist-packages (from torch>=1.8.0->ultralytics) (12.4.127)\n",
      "Requirement already satisfied: nvidia-cuda-runtime-cu12==12.4.127 in /usr/local/lib/python3.11/dist-packages (from torch>=1.8.0->ultralytics) (12.4.127)\n",
      "Requirement already satisfied: nvidia-cuda-cupti-cu12==12.4.127 in /usr/local/lib/python3.11/dist-packages (from torch>=1.8.0->ultralytics) (12.4.127)\n",
      "Requirement already satisfied: nvidia-cudnn-cu12==9.1.0.70 in /usr/local/lib/python3.11/dist-packages (from torch>=1.8.0->ultralytics) (9.1.0.70)\n",
      "Requirement already satisfied: nvidia-cublas-cu12==12.4.5.8 in /usr/local/lib/python3.11/dist-packages (from torch>=1.8.0->ultralytics) (12.4.5.8)\n",
      "Requirement already satisfied: nvidia-cufft-cu12==11.2.1.3 in /usr/local/lib/python3.11/dist-packages (from torch>=1.8.0->ultralytics) (11.2.1.3)\n",
      "Requirement already satisfied: nvidia-curand-cu12==10.3.5.147 in /usr/local/lib/python3.11/dist-packages (from torch>=1.8.0->ultralytics) (10.3.5.147)\n",
      "Requirement already satisfied: nvidia-cusolver-cu12==11.6.1.9 in /usr/local/lib/python3.11/dist-packages (from torch>=1.8.0->ultralytics) (11.6.1.9)\n",
      "Requirement already satisfied: nvidia-cusparse-cu12==12.3.1.170 in /usr/local/lib/python3.11/dist-packages (from torch>=1.8.0->ultralytics) (12.3.1.170)\n",
      "Requirement already satisfied: nvidia-cusparselt-cu12==0.6.2 in /usr/local/lib/python3.11/dist-packages (from torch>=1.8.0->ultralytics) (0.6.2)\n",
      "Requirement already satisfied: nvidia-nccl-cu12==2.21.5 in /usr/local/lib/python3.11/dist-packages (from torch>=1.8.0->ultralytics) (2.21.5)\n",
      "Requirement already satisfied: nvidia-nvtx-cu12==12.4.127 in /usr/local/lib/python3.11/dist-packages (from torch>=1.8.0->ultralytics) (12.4.127)\n",
      "Requirement already satisfied: nvidia-nvjitlink-cu12==12.4.127 in /usr/local/lib/python3.11/dist-packages (from torch>=1.8.0->ultralytics) (12.4.127)\n",
      "Requirement already satisfied: triton==3.2.0 in /usr/local/lib/python3.11/dist-packages (from torch>=1.8.0->ultralytics) (3.2.0)\n",
      "Requirement already satisfied: sympy==1.13.1 in /usr/local/lib/python3.11/dist-packages (from torch>=1.8.0->ultralytics) (1.13.1)\n",
      "Requirement already satisfied: mpmath<1.4,>=1.1.0 in /usr/local/lib/python3.11/dist-packages (from sympy==1.13.1->torch>=1.8.0->ultralytics) (1.3.0)\n",
      "Requirement already satisfied: six>=1.5 in /usr/local/lib/python3.11/dist-packages (from python-dateutil>=2.7->matplotlib>=3.3.0->ultralytics) (1.17.0)\n",
      "Requirement already satisfied: MarkupSafe>=2.0 in /usr/local/lib/python3.11/dist-packages (from jinja2->torch>=1.8.0->ultralytics) (3.0.2)\n",
      "Downloading ultralytics-8.3.94-py3-none-any.whl (949 kB)\n",
      "\u001b[2K   \u001b[90m━━━━━━━━━━━━━━━━━━━━━━━━━━━━━━━━━━━━━━━━\u001b[0m \u001b[32m949.8/949.8 kB\u001b[0m \u001b[31m47.0 MB/s\u001b[0m eta \u001b[36m0:00:00\u001b[0m\n",
      "\u001b[?25hDownloading ultralytics_thop-2.0.14-py3-none-any.whl (26 kB)\n",
      "Installing collected packages: ultralytics-thop, ultralytics\n",
      "Successfully installed ultralytics-8.3.94 ultralytics-thop-2.0.14\n"
     ]
    }
   ]
  },
  {
   "cell_type": "markdown",
   "source": [
    "### Data Augmentation & Paired Transforms"
   ],
   "metadata": {
    "id": "u1nt_deHwyRv"
   }
  },
  {
   "cell_type": "code",
   "source": [
    "import random\n",
    "import torchvision.transforms.functional as TF  # Use TF to avoid conflicts with torch.nn.functional\n",
    "\n",
    "# Paired random horizontal flip\n",
    "class PairedRandomHorizontalFlip:\n",
    "    def __init__(self, p=0.5):\n",
    "        self.p = p\n",
    "\n",
    "    def __call__(self, img, sal):\n",
    "        if random.random() < self.p:\n",
    "            img = TF.hflip(img)\n",
    "            sal = TF.hflip(sal)\n",
    "        return img, sal\n",
    "\n",
    "# Paired random rotation\n",
    "class PairedRandomRotation:\n",
    "    def __init__(self, degrees=10):\n",
    "        self.degrees = degrees\n",
    "\n",
    "    def __call__(self, img, sal):\n",
    "        angle = random.uniform(-self.degrees, self.degrees)\n",
    "        img = TF.rotate(img, angle)\n",
    "        sal = TF.rotate(sal, angle)\n",
    "        return img, sal"
   ],
   "metadata": {
    "id": "Jkc_8acKwzzH"
   },
   "execution_count": null,
   "outputs": []
  },
  {
   "cell_type": "markdown",
   "source": [
    "## Dataset Definition"
   ],
   "metadata": {
    "id": "24M8sb9Kggy8"
   }
  },
  {
   "cell_type": "code",
   "source": [
    "import os\n",
    "import glob\n",
    "import torch\n",
    "from torch.utils.data import Dataset, DataLoader\n",
    "from PIL import Image\n",
    "import torchvision.transforms as T\n",
    "\n",
    "# Define task mapping from folder names to descriptive labels.\n",
    "task_mapping = {\n",
    "    \"task1\": \"free view\",\n",
    "    \"task2\": \"count people\",\n",
    "    \"task3\": \"detect the emotion\",\n",
    "    \"task4\": \"identify the action\"\n",
    "}\n",
    "\n",
    "class TaskSaliencyDataset(Dataset):\n",
    "    def __init__(self, data_root, task_mapping, transform=None, saliency_transform=None, paired_transforms=None):\n",
    "        \"\"\"\n",
    "        data_root: Root path of the dataset.\n",
    "        task_mapping: Dictionary mapping task folder names (e.g., \"task1\") to task descriptions.\n",
    "        transform: Transforms for stimuli images (e.g., resizing, ToTensor).\n",
    "        saliency_transform: Transforms for saliency maps.\n",
    "        paired_transforms: List of callables that apply the same random transform to both stimuli and saliency.\n",
    "        \"\"\"\n",
    "        self.data_root = data_root\n",
    "        self.task_mapping = task_mapping\n",
    "        self.transform = transform\n",
    "        self.saliency_transform = saliency_transform\n",
    "        self.paired_transforms = paired_transforms\n",
    "\n",
    "        self.tasks = list(task_mapping.keys())\n",
    "        self.samples = []\n",
    "\n",
    "        # Iterate over each task folder and gather samples\n",
    "        for task in self.tasks:\n",
    "            task_folder = os.path.join(data_root, task)\n",
    "            fdm_folder = os.path.join(task_folder, \"fdm\")\n",
    "            fdm_files = glob.glob(os.path.join(fdm_folder, \"*.png\"))\n",
    "            for fdm_file in fdm_files:\n",
    "                filename = os.path.basename(fdm_file)\n",
    "                base = os.path.splitext(filename)[0]\n",
    "                # Look for corresponding stimuli image (.jpg or .png)\n",
    "                stimuli_path_jpg = os.path.join(data_root, \"stimuli\", base + \".jpg\")\n",
    "                stimuli_path_png = os.path.join(data_root, \"stimuli\", base + \".png\")\n",
    "                if os.path.exists(stimuli_path_jpg):\n",
    "                    stimuli_path = stimuli_path_jpg\n",
    "                elif os.path.exists(stimuli_path_png):\n",
    "                    stimuli_path = stimuli_path_png\n",
    "                else:\n",
    "                    continue\n",
    "                self.samples.append((stimuli_path, fdm_file, task))\n",
    "\n",
    "    def __len__(self):\n",
    "        return len(self.samples)\n",
    "\n",
    "    def __getitem__(self, idx):\n",
    "        stimuli_path, fdm_path, task = self.samples[idx]\n",
    "        stimuli_img = Image.open(stimuli_path).convert(\"RGB\")\n",
    "        fdm_img = Image.open(fdm_path).convert(\"L\")\n",
    "\n",
    "        if self.transform:\n",
    "            stimuli_img = self.transform(stimuli_img)\n",
    "        if self.saliency_transform:\n",
    "            fdm_img = self.saliency_transform(fdm_img)\n",
    "        else:\n",
    "            fdm_img = T.ToTensor()(fdm_img)\n",
    "\n",
    "        # Apply paired transforms if defined\n",
    "        if self.paired_transforms is not None:\n",
    "            for t in self.paired_transforms:\n",
    "                stimuli_img, fdm_img = t(stimuli_img, fdm_img)\n",
    "\n",
    "        task_description = self.task_mapping[task]\n",
    "\n",
    "        return {\n",
    "            \"stimuli\": stimuli_img,\n",
    "            \"fdm\": fdm_img,\n",
    "            \"task\": task,\n",
    "            \"task_description\": task_description\n",
    "        }\n",
    "\n",
    "# Define transforms\n",
    "input_transform = T.Compose([\n",
    "    T.Resize((384, 384)),\n",
    "    T.ToTensor(),\n",
    "])\n",
    "saliency_transform = T.Compose([\n",
    "    T.Resize((384, 384)),\n",
    "    T.ToTensor(),\n",
    "])\n",
    "paired_transforms = [\n",
    "    PairedRandomHorizontalFlip(p=0.5),\n",
    "    PairedRandomRotation(degrees=10)\n",
    "]\n",
    "\n",
    "# Path to your dataset (adjust the path if needed)\n",
    "DATA_PATH = \"/content/drive/MyDrive/TDSP/Task-based-eye-fixation-dataset_1024x768\"\n",
    "\n",
    "dataset = TaskSaliencyDataset(\n",
    "    data_root=DATA_PATH,\n",
    "    task_mapping=task_mapping,\n",
    "    transform=input_transform,\n",
    "    saliency_transform=saliency_transform,\n",
    "    paired_transforms=paired_transforms\n",
    ")\n",
    "dataloader = DataLoader(dataset, batch_size=32, shuffle=True, num_workers=0)\n",
    "\n",
    "print(\"Tasks found:\", dataset.tasks)\n",
    "print(\"Number of samples:\", len(dataset))\n"
   ],
   "metadata": {
    "id": "2PYNliOdgU3e",
    "colab": {
     "base_uri": "https://localhost:8080/"
    },
    "outputId": "8f3895fd-757f-4006-a37a-574e17ef4a6e"
   },
   "execution_count": null,
   "outputs": [
    {
     "output_type": "stream",
     "name": "stdout",
     "text": [
      "Tasks found: ['task1', 'task2', 'task3', 'task4']\n",
      "Number of samples: 1968\n"
     ]
    }
   ]
  },
  {
   "cell_type": "markdown",
   "source": [
    "## Model Components"
   ],
   "metadata": {
    "id": "S9MhzaNvglvi"
   }
  },
  {
   "cell_type": "markdown",
   "source": [
    "Imports"
   ],
   "metadata": {
    "id": "xGl5b1RupvnT"
   }
  },
  {
   "cell_type": "code",
   "source": [
    "import torch.nn as nn\n",
    "import torch.nn.functional as F\n",
    "from einops import rearrange\n",
    "from ultralytics import YOLO\n",
    "from sentence_transformers import SentenceTransformer"
   ],
   "metadata": {
    "id": "1ijv3WTPovaL",
    "colab": {
     "base_uri": "https://localhost:8080/"
    },
    "outputId": "0cd7be26-129a-41a7-bff7-41a08617aa24"
   },
   "execution_count": null,
   "outputs": [
    {
     "output_type": "stream",
     "name": "stdout",
     "text": [
      "Creating new Ultralytics Settings v0.0.6 file ✅ \n",
      "View Ultralytics Settings with 'yolo settings' or at '/root/.config/Ultralytics/settings.json'\n",
      "Update Settings with 'yolo settings key=value', i.e. 'yolo settings runs_dir=path/to/dir'. For help see https://docs.ultralytics.com/quickstart/#ultralytics-settings.\n"
     ]
    }
   ]
  },
  {
   "cell_type": "markdown",
   "source": [
    "###1. Pre-trained YOLO Backbone\n"
   ],
   "metadata": {
    "id": "UCeCe-vnoxNn"
   }
  },
  {
   "cell_type": "markdown",
   "source": [
    "A YOLO (YOLOv5) model with its final detection layers removed, leaving only the feature extraction layers. This part extracts deep visual features from the input image."
   ],
   "metadata": {
    "id": "Kj6LT1ry-pr5"
   }
  },
  {
   "cell_type": "code",
   "source": [
    "class YOLOBackbone(nn.Module):\n",
    "    def __init__(self, model_name=\"yolov5s.pt\"):\n",
    "        super().__init__()\n",
    "        # Load pre-trained YOLO model by specifying the weight file\n",
    "        self.yolo_model = YOLO(model_name)\n",
    "        # Retain only the feature extraction layers (adjust slicing as needed)\n",
    "        self.feature_extractor = self.yolo_model.model.model[:10]\n",
    "\n",
    "    def forward(self, x):\n",
    "        return self.feature_extractor(x)\n",
    "\n",
    "    def train(self, mode=True):\n",
    "        # Override train method to only set training mode on the feature extractor\n",
    "        self.feature_extractor.train(mode)\n",
    "        return self"
   ],
   "metadata": {
    "id": "vB-krZ47o1gA"
   },
   "execution_count": null,
   "outputs": []
  },
  {
   "cell_type": "markdown",
   "source": [
    "### 2. Feature Pyramid Network (FPN)\n",
    "\n"
   ],
   "metadata": {
    "id": "GA9_wTjKo2gv"
   }
  },
  {
   "cell_type": "markdown",
   "source": [
    "A simple FPN-like module that reduces the channel dimension from (e.g.) 512 to 128. It takes the complex features from the YOLO backbone and simplifies them.This helps unify the feature map so it can be fused with the task embedding."
   ],
   "metadata": {
    "id": "gAuoU4aC-tKC"
   }
  },
  {
   "cell_type": "code",
   "source": [
    "class SimpleFPN(nn.Module):\n",
    "    def __init__(self, in_channels=512, out_channels=128):\n",
    "        super().__init__()\n",
    "        self.conv_out = nn.Conv2d(in_channels, out_channels, kernel_size=1)\n",
    "\n",
    "    def forward(self, backbone_feats):\n",
    "        x = self.conv_out(backbone_feats)\n",
    "        return x"
   ],
   "metadata": {
    "id": "VyL_A3o6pGtJ"
   },
   "execution_count": null,
   "outputs": []
  },
  {
   "cell_type": "markdown",
   "source": [
    "### 3. Task Encoder\n",
    "\n"
   ],
   "metadata": {
    "id": "WswUT1edpHKC"
   }
  },
  {
   "cell_type": "markdown",
   "source": [
    "Uses Sentence-BERT to convert a short text description (e.g., “count people”) into a dense embedding (e.g., 64 dimensions). This embedding captures semantic information about the task."
   ],
   "metadata": {
    "id": "cUPbCho5-vRD"
   }
  },
  {
   "cell_type": "code",
   "source": [
    "class TaskEncoder(nn.Module):\n",
    "    def __init__(self, output_dim=64):\n",
    "        super().__init__()\n",
    "        self.text_encoder = SentenceTransformer('all-MiniLM-L6-v2')\n",
    "        # Sentence-BERT outputs 384-dimensional embeddings; reduce to output_dim.\n",
    "        self.linear = nn.Linear(384, output_dim)\n",
    "\n",
    "    def forward(self, task_descriptions):\n",
    "        # Process a list of task description strings\n",
    "        embeddings = self.text_encoder.encode(task_descriptions, convert_to_tensor=True)\n",
    "        embeddings = self.linear(embeddings)\n",
    "        return F.relu(embeddings)"
   ],
   "metadata": {
    "id": "NjXrk9UppOO7"
   },
   "execution_count": null,
   "outputs": []
  },
  {
   "cell_type": "markdown",
   "source": [
    "###4. Transformer Fusion Module\n",
    "\n"
   ],
   "metadata": {
    "id": "4Hl-k5y7pQIc"
   }
  },
  {
   "cell_type": "markdown",
   "source": [
    "  This module fuses visual features with the task description, enabling the model to integrate contextual task information with the image’s visual representation.\n",
    "\n",
    "- **How it works**  \n",
    "  - **Flattening**  \n",
    "    The two-dimensional feature map produced by the YOLO backbone and FPN is reshaped into a one-dimensional sequence of tokens. This process is analogous to decomposing an image into a series of small patches or segments.\n",
    "\n",
    "  - **Adding the Task Token**  \n",
    "    The task embedding, generated by the Task Encoder, is projected into a compatible feature space and then prepended to the sequence as an extra token. This token injects task-specific context into the sequence.\n",
    "\n",
    "  - **Processing**  \n",
    "    The combined sequence—comprising both the visual tokens and the task token—is processed by a transformer encoder. The encoder’s self-attention mechanism learns to correlate and integrate information from both the image details and the task description.\n",
    "\n",
    "  - **Reshaping Back**  \n",
    "    After processing, the enriched sequence is reshaped back into a two-dimensional feature map. This map, now infused with task-aware information, is used by the saliency decoder to generate the final saliency map."
   ],
   "metadata": {
    "id": "q1r-Kske-x_b"
   }
  },
  {
   "cell_type": "code",
   "source": [
    "class TransformerFusion(nn.Module):\n",
    "    def __init__(self, d_model=128, nhead=4, num_layers=1, task_embed_dim=64):\n",
    "        super().__init__()\n",
    "        self.query_proj = nn.Linear(task_embed_dim, d_model)\n",
    "        encoder_layer = nn.TransformerEncoderLayer(d_model=d_model, nhead=nhead)\n",
    "        self.transformer_encoder = nn.TransformerEncoder(encoder_layer, num_layers=num_layers)\n",
    "\n",
    "    def forward(self, vision_feats, task_embed):\n",
    "        B, C, H, W = vision_feats.shape\n",
    "        vision_seq = rearrange(vision_feats, 'b c h w -> (h w) b c')\n",
    "        task_query = self.query_proj(task_embed)\n",
    "        task_query = rearrange(task_query, 'b d -> 1 b d')\n",
    "        fused_seq = torch.cat([task_query, vision_seq], dim=0)\n",
    "        encoded_seq = self.transformer_encoder(fused_seq)\n",
    "        encoded_vision = encoded_seq[1:, :, :]\n",
    "        encoded_vision = rearrange(encoded_vision, '(h w) b c -> b c h w', h=H, w=W)\n",
    "        return encoded_vision"
   ],
   "metadata": {
    "id": "H3JwOWhXpWa5"
   },
   "execution_count": null,
   "outputs": []
  },
  {
   "cell_type": "markdown",
   "source": [
    "###5. Saliency Decoder\n",
    "\n"
   ],
   "metadata": {
    "id": "0MO8g0oHpWz_"
   }
  },
  {
   "cell_type": "markdown",
   "source": [
    "A small decoder (convolutional layers + batch normalization + ReLU) that converts the fused feature map into a single-channel saliency map. A final sigmoid squashes values into the [0,1] range."
   ],
   "metadata": {
    "id": "md80E2T4-2_i"
   }
  },
  {
   "cell_type": "code",
   "source": [
    "class SaliencyDecoder(nn.Module):\n",
    "    def __init__(self, in_channels=128):\n",
    "        super().__init__()\n",
    "        self.conv1 = nn.Conv2d(in_channels, 64, kernel_size=3, padding=1)\n",
    "        self.bn1 = nn.BatchNorm2d(64)\n",
    "        self.conv2 = nn.Conv2d(64, 1, kernel_size=1)\n",
    "\n",
    "    def forward(self, x):\n",
    "        x = F.relu(self.bn1(self.conv1(x)))\n",
    "        x = self.conv2(x)\n",
    "        return torch.sigmoid(x)"
   ],
   "metadata": {
    "id": "IzOztQLcpeb1"
   },
   "execution_count": null,
   "outputs": []
  },
  {
   "cell_type": "markdown",
   "source": [
    "###6. The Complete Model: YOLOTaskSaliencyModel"
   ],
   "metadata": {
    "id": "UsUDo6OFpjlW"
   }
  },
  {
   "cell_type": "code",
   "source": [
    "device = torch.device(\"cuda\" if torch.cuda.is_available() else \"cpu\")\n",
    "\n",
    "# 6.6 Complete Model: YOLOTaskSaliencyModel\n",
    "class YOLOTaskSaliencyModel(nn.Module):\n",
    "    def __init__(self, task_embed_dim=64, vision_dim=128, nhead=4, num_layers=1):\n",
    "        super().__init__()\n",
    "        self.backbone = YOLOBackbone(model_name=\"yolov5s.pt\")\n",
    "        self.fpn = SimpleFPN(in_channels=512, out_channels=128)  # Updated here\n",
    "        self.task_encoder = TaskEncoder(output_dim=task_embed_dim)\n",
    "        self.transformer_fusion = TransformerFusion(d_model=vision_dim, nhead=nhead,\n",
    "                                                    num_layers=num_layers, task_embed_dim=task_embed_dim)\n",
    "        self.saliency_decoder = SaliencyDecoder(in_channels=vision_dim)\n",
    "\n",
    "    def forward(self, images, task_descriptions):\n",
    "        feat = self.backbone(images)          # Output shape: [B, 512, H/?, W/?]\n",
    "        feat = self.fpn(feat)                 # Now shape becomes [B, 128, H/?, W/?]\n",
    "        task_embed = self.task_encoder(task_descriptions)  # [B, task_embed_dim]\n",
    "        fused_feat = self.transformer_fusion(feat, task_embed)  # [B, 128, H/?, W/?]\n",
    "        saliency_map = self.saliency_decoder(fused_feat)  # [B, 1, H/?, W/?]\n",
    "        saliency_map_upsampled = F.interpolate(\n",
    "            saliency_map,\n",
    "            size=(images.shape[2], images.shape[3]),  # match input's H, W\n",
    "            mode='bilinear',\n",
    "            align_corners=False\n",
    "        )\n",
    "        return saliency_map_upsampled"
   ],
   "metadata": {
    "id": "qszHw6OUgid2"
   },
   "execution_count": null,
   "outputs": []
  },
  {
   "cell_type": "markdown",
   "source": [
    "## Loss Function"
   ],
   "metadata": {
    "id": "PuHxlP11tobx"
   }
  },
  {
   "cell_type": "markdown",
   "source": [
    "Saliency-Specific Loss Function\n",
    "\n",
    "A custom loss combining KL Divergence and (1 - Pearson’s Correlation Coefficient). Encourages the predicted map to match the ground-truth saliency distribution while being correlated with it spatially."
   ],
   "metadata": {
    "id": "zvioZoYwyyjT"
   }
  },
  {
   "cell_type": "code",
   "source": [
    "class SaliencyLoss(nn.Module):\n",
    "    def __init__(self, alpha=1.0, beta=1.0):\n",
    "        \"\"\"\n",
    "        alpha: Weight for the KL Divergence term.\n",
    "        beta: Weight for (1 - Pearson's Correlation Coefficient) term.\n",
    "        \"\"\"\n",
    "        super().__init__()\n",
    "        self.alpha = alpha\n",
    "        self.beta = beta\n",
    "\n",
    "    def forward(self, pred, gt):\n",
    "        # Ensure shape is [B, H, W]\n",
    "        if len(pred.shape) == 4:\n",
    "            pred = pred[:, 0]\n",
    "        if len(gt.shape) == 4:\n",
    "            gt = gt[:, 0]\n",
    "\n",
    "        B, H, W = pred.shape\n",
    "        pred = pred.reshape(B, -1)\n",
    "        gt = gt.reshape(B, -1)\n",
    "        eps = 1e-12\n",
    "        pred_norm = pred / (pred.sum(dim=1, keepdim=True) + eps)\n",
    "        gt_norm = gt / (gt.sum(dim=1, keepdim=True) + eps)\n",
    "\n",
    "        # KL Divergence: sum(gt * log(gt/pred))\n",
    "        kl = (gt_norm * torch.log((gt_norm + eps) / (pred_norm + eps))).sum(dim=1).mean()\n",
    "\n",
    "        # Pearson's Correlation Coefficient (CC)\n",
    "        pred_mean = pred.mean(dim=1, keepdim=True)\n",
    "        gt_mean = gt.mean(dim=1, keepdim=True)\n",
    "        numerator = ((pred - pred_mean) * (gt - gt_mean)).sum(dim=1)\n",
    "        denominator = torch.sqrt(((pred - pred_mean)**2).sum(dim=1) * ((gt - gt_mean)**2).sum(dim=1)) + eps\n",
    "        cc = (numerator / denominator).mean()\n",
    "\n",
    "        loss = self.alpha * kl + self.beta * (1 - cc)\n",
    "        return loss"
   ],
   "metadata": {
    "id": "KWnuKmBVyzQi"
   },
   "execution_count": null,
   "outputs": []
  },
  {
   "cell_type": "markdown",
   "source": [
    "## Training"
   ],
   "metadata": {
    "id": "6HqtHz9Ytqlz"
   }
  },
  {
   "cell_type": "markdown",
   "source": [
    "### Initial training that calculates loss per batch"
   ],
   "metadata": {
    "id": "RFWYbo_KYXIQ"
   }
  },
  {
   "cell_type": "code",
   "source": [
    "import torch.optim as optim\n",
    "\n",
    "device = torch.device(\"cuda\" if torch.cuda.is_available() else \"cpu\")\n",
    "lr = 1e-4\n",
    "num_epochs = 15\n",
    "\n",
    "model = YOLOTaskSaliencyModel().to(device)\n",
    "optimizer = optim.Adam(model.parameters(), lr=lr)\n",
    "criterion = SaliencyLoss(alpha=1.0, beta=1.0)"
   ],
   "metadata": {
    "colab": {
     "base_uri": "https://localhost:8080/"
    },
    "collapsed": true,
    "id": "uWvrNrYptBhU",
    "outputId": "49640782-bd4a-4b32-87e4-274375fe6fcb"
   },
   "execution_count": null,
   "outputs": [
    {
     "output_type": "stream",
     "name": "stdout",
     "text": [
      "PRO TIP 💡 Replace 'model=yolov5s.pt' with new 'model=yolov5su.pt'.\n",
      "YOLOv5 'u' models are trained with https://github.com/ultralytics/ultralytics and feature improved performance vs standard YOLOv5 models trained with https://github.com/ultralytics/yolov5.\n",
      "\n"
     ]
    }
   ]
  },
  {
   "cell_type": "code",
   "source": [
    "print(model)"
   ],
   "metadata": {
    "colab": {
     "base_uri": "https://localhost:8080/"
    },
    "collapsed": true,
    "id": "TP8Ltm9-8OkW",
    "outputId": "60433fc9-e7d2-4f84-a832-293eef214de4"
   },
   "execution_count": null,
   "outputs": [
    {
     "output_type": "stream",
     "name": "stdout",
     "text": [
      "YOLOTaskSaliencyModel(\n",
      "  (backbone): YOLOBackbone(\n",
      "    (yolo_model): YOLO(\n",
      "      (model): DetectionModel(\n",
      "        (model): Sequential(\n",
      "          (0): Conv(\n",
      "            (conv): Conv2d(3, 32, kernel_size=(6, 6), stride=(2, 2), padding=(2, 2), bias=False)\n",
      "            (bn): BatchNorm2d(32, eps=0.001, momentum=0.03, affine=True, track_running_stats=True)\n",
      "            (act): SiLU(inplace=True)\n",
      "          )\n",
      "          (1): Conv(\n",
      "            (conv): Conv2d(32, 64, kernel_size=(3, 3), stride=(2, 2), padding=(1, 1), bias=False)\n",
      "            (bn): BatchNorm2d(64, eps=0.001, momentum=0.03, affine=True, track_running_stats=True)\n",
      "            (act): SiLU(inplace=True)\n",
      "          )\n",
      "          (2): C3(\n",
      "            (cv1): Conv(\n",
      "              (conv): Conv2d(64, 32, kernel_size=(1, 1), stride=(1, 1), bias=False)\n",
      "              (bn): BatchNorm2d(32, eps=0.001, momentum=0.03, affine=True, track_running_stats=True)\n",
      "              (act): SiLU(inplace=True)\n",
      "            )\n",
      "            (cv2): Conv(\n",
      "              (conv): Conv2d(64, 32, kernel_size=(1, 1), stride=(1, 1), bias=False)\n",
      "              (bn): BatchNorm2d(32, eps=0.001, momentum=0.03, affine=True, track_running_stats=True)\n",
      "              (act): SiLU(inplace=True)\n",
      "            )\n",
      "            (cv3): Conv(\n",
      "              (conv): Conv2d(64, 64, kernel_size=(1, 1), stride=(1, 1), bias=False)\n",
      "              (bn): BatchNorm2d(64, eps=0.001, momentum=0.03, affine=True, track_running_stats=True)\n",
      "              (act): SiLU(inplace=True)\n",
      "            )\n",
      "            (m): Sequential(\n",
      "              (0): Bottleneck(\n",
      "                (cv1): Conv(\n",
      "                  (conv): Conv2d(32, 32, kernel_size=(1, 1), stride=(1, 1), bias=False)\n",
      "                  (bn): BatchNorm2d(32, eps=0.001, momentum=0.03, affine=True, track_running_stats=True)\n",
      "                  (act): SiLU(inplace=True)\n",
      "                )\n",
      "                (cv2): Conv(\n",
      "                  (conv): Conv2d(32, 32, kernel_size=(3, 3), stride=(1, 1), padding=(1, 1), bias=False)\n",
      "                  (bn): BatchNorm2d(32, eps=0.001, momentum=0.03, affine=True, track_running_stats=True)\n",
      "                  (act): SiLU(inplace=True)\n",
      "                )\n",
      "              )\n",
      "            )\n",
      "          )\n",
      "          (3): Conv(\n",
      "            (conv): Conv2d(64, 128, kernel_size=(3, 3), stride=(2, 2), padding=(1, 1), bias=False)\n",
      "            (bn): BatchNorm2d(128, eps=0.001, momentum=0.03, affine=True, track_running_stats=True)\n",
      "            (act): SiLU(inplace=True)\n",
      "          )\n",
      "          (4): C3(\n",
      "            (cv1): Conv(\n",
      "              (conv): Conv2d(128, 64, kernel_size=(1, 1), stride=(1, 1), bias=False)\n",
      "              (bn): BatchNorm2d(64, eps=0.001, momentum=0.03, affine=True, track_running_stats=True)\n",
      "              (act): SiLU(inplace=True)\n",
      "            )\n",
      "            (cv2): Conv(\n",
      "              (conv): Conv2d(128, 64, kernel_size=(1, 1), stride=(1, 1), bias=False)\n",
      "              (bn): BatchNorm2d(64, eps=0.001, momentum=0.03, affine=True, track_running_stats=True)\n",
      "              (act): SiLU(inplace=True)\n",
      "            )\n",
      "            (cv3): Conv(\n",
      "              (conv): Conv2d(128, 128, kernel_size=(1, 1), stride=(1, 1), bias=False)\n",
      "              (bn): BatchNorm2d(128, eps=0.001, momentum=0.03, affine=True, track_running_stats=True)\n",
      "              (act): SiLU(inplace=True)\n",
      "            )\n",
      "            (m): Sequential(\n",
      "              (0): Bottleneck(\n",
      "                (cv1): Conv(\n",
      "                  (conv): Conv2d(64, 64, kernel_size=(1, 1), stride=(1, 1), bias=False)\n",
      "                  (bn): BatchNorm2d(64, eps=0.001, momentum=0.03, affine=True, track_running_stats=True)\n",
      "                  (act): SiLU(inplace=True)\n",
      "                )\n",
      "                (cv2): Conv(\n",
      "                  (conv): Conv2d(64, 64, kernel_size=(3, 3), stride=(1, 1), padding=(1, 1), bias=False)\n",
      "                  (bn): BatchNorm2d(64, eps=0.001, momentum=0.03, affine=True, track_running_stats=True)\n",
      "                  (act): SiLU(inplace=True)\n",
      "                )\n",
      "              )\n",
      "              (1): Bottleneck(\n",
      "                (cv1): Conv(\n",
      "                  (conv): Conv2d(64, 64, kernel_size=(1, 1), stride=(1, 1), bias=False)\n",
      "                  (bn): BatchNorm2d(64, eps=0.001, momentum=0.03, affine=True, track_running_stats=True)\n",
      "                  (act): SiLU(inplace=True)\n",
      "                )\n",
      "                (cv2): Conv(\n",
      "                  (conv): Conv2d(64, 64, kernel_size=(3, 3), stride=(1, 1), padding=(1, 1), bias=False)\n",
      "                  (bn): BatchNorm2d(64, eps=0.001, momentum=0.03, affine=True, track_running_stats=True)\n",
      "                  (act): SiLU(inplace=True)\n",
      "                )\n",
      "              )\n",
      "            )\n",
      "          )\n",
      "          (5): Conv(\n",
      "            (conv): Conv2d(128, 256, kernel_size=(3, 3), stride=(2, 2), padding=(1, 1), bias=False)\n",
      "            (bn): BatchNorm2d(256, eps=0.001, momentum=0.03, affine=True, track_running_stats=True)\n",
      "            (act): SiLU(inplace=True)\n",
      "          )\n",
      "          (6): C3(\n",
      "            (cv1): Conv(\n",
      "              (conv): Conv2d(256, 128, kernel_size=(1, 1), stride=(1, 1), bias=False)\n",
      "              (bn): BatchNorm2d(128, eps=0.001, momentum=0.03, affine=True, track_running_stats=True)\n",
      "              (act): SiLU(inplace=True)\n",
      "            )\n",
      "            (cv2): Conv(\n",
      "              (conv): Conv2d(256, 128, kernel_size=(1, 1), stride=(1, 1), bias=False)\n",
      "              (bn): BatchNorm2d(128, eps=0.001, momentum=0.03, affine=True, track_running_stats=True)\n",
      "              (act): SiLU(inplace=True)\n",
      "            )\n",
      "            (cv3): Conv(\n",
      "              (conv): Conv2d(256, 256, kernel_size=(1, 1), stride=(1, 1), bias=False)\n",
      "              (bn): BatchNorm2d(256, eps=0.001, momentum=0.03, affine=True, track_running_stats=True)\n",
      "              (act): SiLU(inplace=True)\n",
      "            )\n",
      "            (m): Sequential(\n",
      "              (0): Bottleneck(\n",
      "                (cv1): Conv(\n",
      "                  (conv): Conv2d(128, 128, kernel_size=(1, 1), stride=(1, 1), bias=False)\n",
      "                  (bn): BatchNorm2d(128, eps=0.001, momentum=0.03, affine=True, track_running_stats=True)\n",
      "                  (act): SiLU(inplace=True)\n",
      "                )\n",
      "                (cv2): Conv(\n",
      "                  (conv): Conv2d(128, 128, kernel_size=(3, 3), stride=(1, 1), padding=(1, 1), bias=False)\n",
      "                  (bn): BatchNorm2d(128, eps=0.001, momentum=0.03, affine=True, track_running_stats=True)\n",
      "                  (act): SiLU(inplace=True)\n",
      "                )\n",
      "              )\n",
      "              (1): Bottleneck(\n",
      "                (cv1): Conv(\n",
      "                  (conv): Conv2d(128, 128, kernel_size=(1, 1), stride=(1, 1), bias=False)\n",
      "                  (bn): BatchNorm2d(128, eps=0.001, momentum=0.03, affine=True, track_running_stats=True)\n",
      "                  (act): SiLU(inplace=True)\n",
      "                )\n",
      "                (cv2): Conv(\n",
      "                  (conv): Conv2d(128, 128, kernel_size=(3, 3), stride=(1, 1), padding=(1, 1), bias=False)\n",
      "                  (bn): BatchNorm2d(128, eps=0.001, momentum=0.03, affine=True, track_running_stats=True)\n",
      "                  (act): SiLU(inplace=True)\n",
      "                )\n",
      "              )\n",
      "              (2): Bottleneck(\n",
      "                (cv1): Conv(\n",
      "                  (conv): Conv2d(128, 128, kernel_size=(1, 1), stride=(1, 1), bias=False)\n",
      "                  (bn): BatchNorm2d(128, eps=0.001, momentum=0.03, affine=True, track_running_stats=True)\n",
      "                  (act): SiLU(inplace=True)\n",
      "                )\n",
      "                (cv2): Conv(\n",
      "                  (conv): Conv2d(128, 128, kernel_size=(3, 3), stride=(1, 1), padding=(1, 1), bias=False)\n",
      "                  (bn): BatchNorm2d(128, eps=0.001, momentum=0.03, affine=True, track_running_stats=True)\n",
      "                  (act): SiLU(inplace=True)\n",
      "                )\n",
      "              )\n",
      "            )\n",
      "          )\n",
      "          (7): Conv(\n",
      "            (conv): Conv2d(256, 512, kernel_size=(3, 3), stride=(2, 2), padding=(1, 1), bias=False)\n",
      "            (bn): BatchNorm2d(512, eps=0.001, momentum=0.03, affine=True, track_running_stats=True)\n",
      "            (act): SiLU(inplace=True)\n",
      "          )\n",
      "          (8): C3(\n",
      "            (cv1): Conv(\n",
      "              (conv): Conv2d(512, 256, kernel_size=(1, 1), stride=(1, 1), bias=False)\n",
      "              (bn): BatchNorm2d(256, eps=0.001, momentum=0.03, affine=True, track_running_stats=True)\n",
      "              (act): SiLU(inplace=True)\n",
      "            )\n",
      "            (cv2): Conv(\n",
      "              (conv): Conv2d(512, 256, kernel_size=(1, 1), stride=(1, 1), bias=False)\n",
      "              (bn): BatchNorm2d(256, eps=0.001, momentum=0.03, affine=True, track_running_stats=True)\n",
      "              (act): SiLU(inplace=True)\n",
      "            )\n",
      "            (cv3): Conv(\n",
      "              (conv): Conv2d(512, 512, kernel_size=(1, 1), stride=(1, 1), bias=False)\n",
      "              (bn): BatchNorm2d(512, eps=0.001, momentum=0.03, affine=True, track_running_stats=True)\n",
      "              (act): SiLU(inplace=True)\n",
      "            )\n",
      "            (m): Sequential(\n",
      "              (0): Bottleneck(\n",
      "                (cv1): Conv(\n",
      "                  (conv): Conv2d(256, 256, kernel_size=(1, 1), stride=(1, 1), bias=False)\n",
      "                  (bn): BatchNorm2d(256, eps=0.001, momentum=0.03, affine=True, track_running_stats=True)\n",
      "                  (act): SiLU(inplace=True)\n",
      "                )\n",
      "                (cv2): Conv(\n",
      "                  (conv): Conv2d(256, 256, kernel_size=(3, 3), stride=(1, 1), padding=(1, 1), bias=False)\n",
      "                  (bn): BatchNorm2d(256, eps=0.001, momentum=0.03, affine=True, track_running_stats=True)\n",
      "                  (act): SiLU(inplace=True)\n",
      "                )\n",
      "              )\n",
      "            )\n",
      "          )\n",
      "          (9): SPPF(\n",
      "            (cv1): Conv(\n",
      "              (conv): Conv2d(512, 256, kernel_size=(1, 1), stride=(1, 1), bias=False)\n",
      "              (bn): BatchNorm2d(256, eps=0.001, momentum=0.03, affine=True, track_running_stats=True)\n",
      "              (act): SiLU(inplace=True)\n",
      "            )\n",
      "            (cv2): Conv(\n",
      "              (conv): Conv2d(1024, 512, kernel_size=(1, 1), stride=(1, 1), bias=False)\n",
      "              (bn): BatchNorm2d(512, eps=0.001, momentum=0.03, affine=True, track_running_stats=True)\n",
      "              (act): SiLU(inplace=True)\n",
      "            )\n",
      "            (m): MaxPool2d(kernel_size=5, stride=1, padding=2, dilation=1, ceil_mode=False)\n",
      "          )\n",
      "          (10): Conv(\n",
      "            (conv): Conv2d(512, 256, kernel_size=(1, 1), stride=(1, 1), bias=False)\n",
      "            (bn): BatchNorm2d(256, eps=0.001, momentum=0.03, affine=True, track_running_stats=True)\n",
      "            (act): SiLU(inplace=True)\n",
      "          )\n",
      "          (11): Upsample(scale_factor=2.0, mode='nearest')\n",
      "          (12): Concat()\n",
      "          (13): C3(\n",
      "            (cv1): Conv(\n",
      "              (conv): Conv2d(512, 128, kernel_size=(1, 1), stride=(1, 1), bias=False)\n",
      "              (bn): BatchNorm2d(128, eps=0.001, momentum=0.03, affine=True, track_running_stats=True)\n",
      "              (act): SiLU(inplace=True)\n",
      "            )\n",
      "            (cv2): Conv(\n",
      "              (conv): Conv2d(512, 128, kernel_size=(1, 1), stride=(1, 1), bias=False)\n",
      "              (bn): BatchNorm2d(128, eps=0.001, momentum=0.03, affine=True, track_running_stats=True)\n",
      "              (act): SiLU(inplace=True)\n",
      "            )\n",
      "            (cv3): Conv(\n",
      "              (conv): Conv2d(256, 256, kernel_size=(1, 1), stride=(1, 1), bias=False)\n",
      "              (bn): BatchNorm2d(256, eps=0.001, momentum=0.03, affine=True, track_running_stats=True)\n",
      "              (act): SiLU(inplace=True)\n",
      "            )\n",
      "            (m): Sequential(\n",
      "              (0): Bottleneck(\n",
      "                (cv1): Conv(\n",
      "                  (conv): Conv2d(128, 128, kernel_size=(1, 1), stride=(1, 1), bias=False)\n",
      "                  (bn): BatchNorm2d(128, eps=0.001, momentum=0.03, affine=True, track_running_stats=True)\n",
      "                  (act): SiLU(inplace=True)\n",
      "                )\n",
      "                (cv2): Conv(\n",
      "                  (conv): Conv2d(128, 128, kernel_size=(3, 3), stride=(1, 1), padding=(1, 1), bias=False)\n",
      "                  (bn): BatchNorm2d(128, eps=0.001, momentum=0.03, affine=True, track_running_stats=True)\n",
      "                  (act): SiLU(inplace=True)\n",
      "                )\n",
      "              )\n",
      "            )\n",
      "          )\n",
      "          (14): Conv(\n",
      "            (conv): Conv2d(256, 128, kernel_size=(1, 1), stride=(1, 1), bias=False)\n",
      "            (bn): BatchNorm2d(128, eps=0.001, momentum=0.03, affine=True, track_running_stats=True)\n",
      "            (act): SiLU(inplace=True)\n",
      "          )\n",
      "          (15): Upsample(scale_factor=2.0, mode='nearest')\n",
      "          (16): Concat()\n",
      "          (17): C3(\n",
      "            (cv1): Conv(\n",
      "              (conv): Conv2d(256, 64, kernel_size=(1, 1), stride=(1, 1), bias=False)\n",
      "              (bn): BatchNorm2d(64, eps=0.001, momentum=0.03, affine=True, track_running_stats=True)\n",
      "              (act): SiLU(inplace=True)\n",
      "            )\n",
      "            (cv2): Conv(\n",
      "              (conv): Conv2d(256, 64, kernel_size=(1, 1), stride=(1, 1), bias=False)\n",
      "              (bn): BatchNorm2d(64, eps=0.001, momentum=0.03, affine=True, track_running_stats=True)\n",
      "              (act): SiLU(inplace=True)\n",
      "            )\n",
      "            (cv3): Conv(\n",
      "              (conv): Conv2d(128, 128, kernel_size=(1, 1), stride=(1, 1), bias=False)\n",
      "              (bn): BatchNorm2d(128, eps=0.001, momentum=0.03, affine=True, track_running_stats=True)\n",
      "              (act): SiLU(inplace=True)\n",
      "            )\n",
      "            (m): Sequential(\n",
      "              (0): Bottleneck(\n",
      "                (cv1): Conv(\n",
      "                  (conv): Conv2d(64, 64, kernel_size=(1, 1), stride=(1, 1), bias=False)\n",
      "                  (bn): BatchNorm2d(64, eps=0.001, momentum=0.03, affine=True, track_running_stats=True)\n",
      "                  (act): SiLU(inplace=True)\n",
      "                )\n",
      "                (cv2): Conv(\n",
      "                  (conv): Conv2d(64, 64, kernel_size=(3, 3), stride=(1, 1), padding=(1, 1), bias=False)\n",
      "                  (bn): BatchNorm2d(64, eps=0.001, momentum=0.03, affine=True, track_running_stats=True)\n",
      "                  (act): SiLU(inplace=True)\n",
      "                )\n",
      "              )\n",
      "            )\n",
      "          )\n",
      "          (18): Conv(\n",
      "            (conv): Conv2d(128, 128, kernel_size=(3, 3), stride=(2, 2), padding=(1, 1), bias=False)\n",
      "            (bn): BatchNorm2d(128, eps=0.001, momentum=0.03, affine=True, track_running_stats=True)\n",
      "            (act): SiLU(inplace=True)\n",
      "          )\n",
      "          (19): Concat()\n",
      "          (20): C3(\n",
      "            (cv1): Conv(\n",
      "              (conv): Conv2d(256, 128, kernel_size=(1, 1), stride=(1, 1), bias=False)\n",
      "              (bn): BatchNorm2d(128, eps=0.001, momentum=0.03, affine=True, track_running_stats=True)\n",
      "              (act): SiLU(inplace=True)\n",
      "            )\n",
      "            (cv2): Conv(\n",
      "              (conv): Conv2d(256, 128, kernel_size=(1, 1), stride=(1, 1), bias=False)\n",
      "              (bn): BatchNorm2d(128, eps=0.001, momentum=0.03, affine=True, track_running_stats=True)\n",
      "              (act): SiLU(inplace=True)\n",
      "            )\n",
      "            (cv3): Conv(\n",
      "              (conv): Conv2d(256, 256, kernel_size=(1, 1), stride=(1, 1), bias=False)\n",
      "              (bn): BatchNorm2d(256, eps=0.001, momentum=0.03, affine=True, track_running_stats=True)\n",
      "              (act): SiLU(inplace=True)\n",
      "            )\n",
      "            (m): Sequential(\n",
      "              (0): Bottleneck(\n",
      "                (cv1): Conv(\n",
      "                  (conv): Conv2d(128, 128, kernel_size=(1, 1), stride=(1, 1), bias=False)\n",
      "                  (bn): BatchNorm2d(128, eps=0.001, momentum=0.03, affine=True, track_running_stats=True)\n",
      "                  (act): SiLU(inplace=True)\n",
      "                )\n",
      "                (cv2): Conv(\n",
      "                  (conv): Conv2d(128, 128, kernel_size=(3, 3), stride=(1, 1), padding=(1, 1), bias=False)\n",
      "                  (bn): BatchNorm2d(128, eps=0.001, momentum=0.03, affine=True, track_running_stats=True)\n",
      "                  (act): SiLU(inplace=True)\n",
      "                )\n",
      "              )\n",
      "            )\n",
      "          )\n",
      "          (21): Conv(\n",
      "            (conv): Conv2d(256, 256, kernel_size=(3, 3), stride=(2, 2), padding=(1, 1), bias=False)\n",
      "            (bn): BatchNorm2d(256, eps=0.001, momentum=0.03, affine=True, track_running_stats=True)\n",
      "            (act): SiLU(inplace=True)\n",
      "          )\n",
      "          (22): Concat()\n",
      "          (23): C3(\n",
      "            (cv1): Conv(\n",
      "              (conv): Conv2d(512, 256, kernel_size=(1, 1), stride=(1, 1), bias=False)\n",
      "              (bn): BatchNorm2d(256, eps=0.001, momentum=0.03, affine=True, track_running_stats=True)\n",
      "              (act): SiLU(inplace=True)\n",
      "            )\n",
      "            (cv2): Conv(\n",
      "              (conv): Conv2d(512, 256, kernel_size=(1, 1), stride=(1, 1), bias=False)\n",
      "              (bn): BatchNorm2d(256, eps=0.001, momentum=0.03, affine=True, track_running_stats=True)\n",
      "              (act): SiLU(inplace=True)\n",
      "            )\n",
      "            (cv3): Conv(\n",
      "              (conv): Conv2d(512, 512, kernel_size=(1, 1), stride=(1, 1), bias=False)\n",
      "              (bn): BatchNorm2d(512, eps=0.001, momentum=0.03, affine=True, track_running_stats=True)\n",
      "              (act): SiLU(inplace=True)\n",
      "            )\n",
      "            (m): Sequential(\n",
      "              (0): Bottleneck(\n",
      "                (cv1): Conv(\n",
      "                  (conv): Conv2d(256, 256, kernel_size=(1, 1), stride=(1, 1), bias=False)\n",
      "                  (bn): BatchNorm2d(256, eps=0.001, momentum=0.03, affine=True, track_running_stats=True)\n",
      "                  (act): SiLU(inplace=True)\n",
      "                )\n",
      "                (cv2): Conv(\n",
      "                  (conv): Conv2d(256, 256, kernel_size=(3, 3), stride=(1, 1), padding=(1, 1), bias=False)\n",
      "                  (bn): BatchNorm2d(256, eps=0.001, momentum=0.03, affine=True, track_running_stats=True)\n",
      "                  (act): SiLU(inplace=True)\n",
      "                )\n",
      "              )\n",
      "            )\n",
      "          )\n",
      "          (24): Detect(\n",
      "            (cv2): ModuleList(\n",
      "              (0): Sequential(\n",
      "                (0): Conv(\n",
      "                  (conv): Conv2d(128, 64, kernel_size=(3, 3), stride=(1, 1), padding=(1, 1), bias=False)\n",
      "                  (bn): BatchNorm2d(64, eps=0.001, momentum=0.03, affine=True, track_running_stats=True)\n",
      "                  (act): SiLU(inplace=True)\n",
      "                )\n",
      "                (1): Conv(\n",
      "                  (conv): Conv2d(64, 64, kernel_size=(3, 3), stride=(1, 1), padding=(1, 1), bias=False)\n",
      "                  (bn): BatchNorm2d(64, eps=0.001, momentum=0.03, affine=True, track_running_stats=True)\n",
      "                  (act): SiLU(inplace=True)\n",
      "                )\n",
      "                (2): Conv2d(64, 64, kernel_size=(1, 1), stride=(1, 1))\n",
      "              )\n",
      "              (1): Sequential(\n",
      "                (0): Conv(\n",
      "                  (conv): Conv2d(256, 64, kernel_size=(3, 3), stride=(1, 1), padding=(1, 1), bias=False)\n",
      "                  (bn): BatchNorm2d(64, eps=0.001, momentum=0.03, affine=True, track_running_stats=True)\n",
      "                  (act): SiLU(inplace=True)\n",
      "                )\n",
      "                (1): Conv(\n",
      "                  (conv): Conv2d(64, 64, kernel_size=(3, 3), stride=(1, 1), padding=(1, 1), bias=False)\n",
      "                  (bn): BatchNorm2d(64, eps=0.001, momentum=0.03, affine=True, track_running_stats=True)\n",
      "                  (act): SiLU(inplace=True)\n",
      "                )\n",
      "                (2): Conv2d(64, 64, kernel_size=(1, 1), stride=(1, 1))\n",
      "              )\n",
      "              (2): Sequential(\n",
      "                (0): Conv(\n",
      "                  (conv): Conv2d(512, 64, kernel_size=(3, 3), stride=(1, 1), padding=(1, 1), bias=False)\n",
      "                  (bn): BatchNorm2d(64, eps=0.001, momentum=0.03, affine=True, track_running_stats=True)\n",
      "                  (act): SiLU(inplace=True)\n",
      "                )\n",
      "                (1): Conv(\n",
      "                  (conv): Conv2d(64, 64, kernel_size=(3, 3), stride=(1, 1), padding=(1, 1), bias=False)\n",
      "                  (bn): BatchNorm2d(64, eps=0.001, momentum=0.03, affine=True, track_running_stats=True)\n",
      "                  (act): SiLU(inplace=True)\n",
      "                )\n",
      "                (2): Conv2d(64, 64, kernel_size=(1, 1), stride=(1, 1))\n",
      "              )\n",
      "            )\n",
      "            (cv3): ModuleList(\n",
      "              (0): Sequential(\n",
      "                (0): Conv(\n",
      "                  (conv): Conv2d(128, 128, kernel_size=(3, 3), stride=(1, 1), padding=(1, 1), bias=False)\n",
      "                  (bn): BatchNorm2d(128, eps=0.001, momentum=0.03, affine=True, track_running_stats=True)\n",
      "                  (act): SiLU(inplace=True)\n",
      "                )\n",
      "                (1): Conv(\n",
      "                  (conv): Conv2d(128, 128, kernel_size=(3, 3), stride=(1, 1), padding=(1, 1), bias=False)\n",
      "                  (bn): BatchNorm2d(128, eps=0.001, momentum=0.03, affine=True, track_running_stats=True)\n",
      "                  (act): SiLU(inplace=True)\n",
      "                )\n",
      "                (2): Conv2d(128, 80, kernel_size=(1, 1), stride=(1, 1))\n",
      "              )\n",
      "              (1): Sequential(\n",
      "                (0): Conv(\n",
      "                  (conv): Conv2d(256, 128, kernel_size=(3, 3), stride=(1, 1), padding=(1, 1), bias=False)\n",
      "                  (bn): BatchNorm2d(128, eps=0.001, momentum=0.03, affine=True, track_running_stats=True)\n",
      "                  (act): SiLU(inplace=True)\n",
      "                )\n",
      "                (1): Conv(\n",
      "                  (conv): Conv2d(128, 128, kernel_size=(3, 3), stride=(1, 1), padding=(1, 1), bias=False)\n",
      "                  (bn): BatchNorm2d(128, eps=0.001, momentum=0.03, affine=True, track_running_stats=True)\n",
      "                  (act): SiLU(inplace=True)\n",
      "                )\n",
      "                (2): Conv2d(128, 80, kernel_size=(1, 1), stride=(1, 1))\n",
      "              )\n",
      "              (2): Sequential(\n",
      "                (0): Conv(\n",
      "                  (conv): Conv2d(512, 128, kernel_size=(3, 3), stride=(1, 1), padding=(1, 1), bias=False)\n",
      "                  (bn): BatchNorm2d(128, eps=0.001, momentum=0.03, affine=True, track_running_stats=True)\n",
      "                  (act): SiLU(inplace=True)\n",
      "                )\n",
      "                (1): Conv(\n",
      "                  (conv): Conv2d(128, 128, kernel_size=(3, 3), stride=(1, 1), padding=(1, 1), bias=False)\n",
      "                  (bn): BatchNorm2d(128, eps=0.001, momentum=0.03, affine=True, track_running_stats=True)\n",
      "                  (act): SiLU(inplace=True)\n",
      "                )\n",
      "                (2): Conv2d(128, 80, kernel_size=(1, 1), stride=(1, 1))\n",
      "              )\n",
      "            )\n",
      "            (dfl): DFL(\n",
      "              (conv): Conv2d(16, 1, kernel_size=(1, 1), stride=(1, 1), bias=False)\n",
      "            )\n",
      "          )\n",
      "        )\n",
      "      )\n",
      "    )\n",
      "    (feature_extractor): Sequential(\n",
      "      (0): Conv(\n",
      "        (conv): Conv2d(3, 32, kernel_size=(6, 6), stride=(2, 2), padding=(2, 2), bias=False)\n",
      "        (bn): BatchNorm2d(32, eps=0.001, momentum=0.03, affine=True, track_running_stats=True)\n",
      "        (act): SiLU(inplace=True)\n",
      "      )\n",
      "      (1): Conv(\n",
      "        (conv): Conv2d(32, 64, kernel_size=(3, 3), stride=(2, 2), padding=(1, 1), bias=False)\n",
      "        (bn): BatchNorm2d(64, eps=0.001, momentum=0.03, affine=True, track_running_stats=True)\n",
      "        (act): SiLU(inplace=True)\n",
      "      )\n",
      "      (2): C3(\n",
      "        (cv1): Conv(\n",
      "          (conv): Conv2d(64, 32, kernel_size=(1, 1), stride=(1, 1), bias=False)\n",
      "          (bn): BatchNorm2d(32, eps=0.001, momentum=0.03, affine=True, track_running_stats=True)\n",
      "          (act): SiLU(inplace=True)\n",
      "        )\n",
      "        (cv2): Conv(\n",
      "          (conv): Conv2d(64, 32, kernel_size=(1, 1), stride=(1, 1), bias=False)\n",
      "          (bn): BatchNorm2d(32, eps=0.001, momentum=0.03, affine=True, track_running_stats=True)\n",
      "          (act): SiLU(inplace=True)\n",
      "        )\n",
      "        (cv3): Conv(\n",
      "          (conv): Conv2d(64, 64, kernel_size=(1, 1), stride=(1, 1), bias=False)\n",
      "          (bn): BatchNorm2d(64, eps=0.001, momentum=0.03, affine=True, track_running_stats=True)\n",
      "          (act): SiLU(inplace=True)\n",
      "        )\n",
      "        (m): Sequential(\n",
      "          (0): Bottleneck(\n",
      "            (cv1): Conv(\n",
      "              (conv): Conv2d(32, 32, kernel_size=(1, 1), stride=(1, 1), bias=False)\n",
      "              (bn): BatchNorm2d(32, eps=0.001, momentum=0.03, affine=True, track_running_stats=True)\n",
      "              (act): SiLU(inplace=True)\n",
      "            )\n",
      "            (cv2): Conv(\n",
      "              (conv): Conv2d(32, 32, kernel_size=(3, 3), stride=(1, 1), padding=(1, 1), bias=False)\n",
      "              (bn): BatchNorm2d(32, eps=0.001, momentum=0.03, affine=True, track_running_stats=True)\n",
      "              (act): SiLU(inplace=True)\n",
      "            )\n",
      "          )\n",
      "        )\n",
      "      )\n",
      "      (3): Conv(\n",
      "        (conv): Conv2d(64, 128, kernel_size=(3, 3), stride=(2, 2), padding=(1, 1), bias=False)\n",
      "        (bn): BatchNorm2d(128, eps=0.001, momentum=0.03, affine=True, track_running_stats=True)\n",
      "        (act): SiLU(inplace=True)\n",
      "      )\n",
      "      (4): C3(\n",
      "        (cv1): Conv(\n",
      "          (conv): Conv2d(128, 64, kernel_size=(1, 1), stride=(1, 1), bias=False)\n",
      "          (bn): BatchNorm2d(64, eps=0.001, momentum=0.03, affine=True, track_running_stats=True)\n",
      "          (act): SiLU(inplace=True)\n",
      "        )\n",
      "        (cv2): Conv(\n",
      "          (conv): Conv2d(128, 64, kernel_size=(1, 1), stride=(1, 1), bias=False)\n",
      "          (bn): BatchNorm2d(64, eps=0.001, momentum=0.03, affine=True, track_running_stats=True)\n",
      "          (act): SiLU(inplace=True)\n",
      "        )\n",
      "        (cv3): Conv(\n",
      "          (conv): Conv2d(128, 128, kernel_size=(1, 1), stride=(1, 1), bias=False)\n",
      "          (bn): BatchNorm2d(128, eps=0.001, momentum=0.03, affine=True, track_running_stats=True)\n",
      "          (act): SiLU(inplace=True)\n",
      "        )\n",
      "        (m): Sequential(\n",
      "          (0): Bottleneck(\n",
      "            (cv1): Conv(\n",
      "              (conv): Conv2d(64, 64, kernel_size=(1, 1), stride=(1, 1), bias=False)\n",
      "              (bn): BatchNorm2d(64, eps=0.001, momentum=0.03, affine=True, track_running_stats=True)\n",
      "              (act): SiLU(inplace=True)\n",
      "            )\n",
      "            (cv2): Conv(\n",
      "              (conv): Conv2d(64, 64, kernel_size=(3, 3), stride=(1, 1), padding=(1, 1), bias=False)\n",
      "              (bn): BatchNorm2d(64, eps=0.001, momentum=0.03, affine=True, track_running_stats=True)\n",
      "              (act): SiLU(inplace=True)\n",
      "            )\n",
      "          )\n",
      "          (1): Bottleneck(\n",
      "            (cv1): Conv(\n",
      "              (conv): Conv2d(64, 64, kernel_size=(1, 1), stride=(1, 1), bias=False)\n",
      "              (bn): BatchNorm2d(64, eps=0.001, momentum=0.03, affine=True, track_running_stats=True)\n",
      "              (act): SiLU(inplace=True)\n",
      "            )\n",
      "            (cv2): Conv(\n",
      "              (conv): Conv2d(64, 64, kernel_size=(3, 3), stride=(1, 1), padding=(1, 1), bias=False)\n",
      "              (bn): BatchNorm2d(64, eps=0.001, momentum=0.03, affine=True, track_running_stats=True)\n",
      "              (act): SiLU(inplace=True)\n",
      "            )\n",
      "          )\n",
      "        )\n",
      "      )\n",
      "      (5): Conv(\n",
      "        (conv): Conv2d(128, 256, kernel_size=(3, 3), stride=(2, 2), padding=(1, 1), bias=False)\n",
      "        (bn): BatchNorm2d(256, eps=0.001, momentum=0.03, affine=True, track_running_stats=True)\n",
      "        (act): SiLU(inplace=True)\n",
      "      )\n",
      "      (6): C3(\n",
      "        (cv1): Conv(\n",
      "          (conv): Conv2d(256, 128, kernel_size=(1, 1), stride=(1, 1), bias=False)\n",
      "          (bn): BatchNorm2d(128, eps=0.001, momentum=0.03, affine=True, track_running_stats=True)\n",
      "          (act): SiLU(inplace=True)\n",
      "        )\n",
      "        (cv2): Conv(\n",
      "          (conv): Conv2d(256, 128, kernel_size=(1, 1), stride=(1, 1), bias=False)\n",
      "          (bn): BatchNorm2d(128, eps=0.001, momentum=0.03, affine=True, track_running_stats=True)\n",
      "          (act): SiLU(inplace=True)\n",
      "        )\n",
      "        (cv3): Conv(\n",
      "          (conv): Conv2d(256, 256, kernel_size=(1, 1), stride=(1, 1), bias=False)\n",
      "          (bn): BatchNorm2d(256, eps=0.001, momentum=0.03, affine=True, track_running_stats=True)\n",
      "          (act): SiLU(inplace=True)\n",
      "        )\n",
      "        (m): Sequential(\n",
      "          (0): Bottleneck(\n",
      "            (cv1): Conv(\n",
      "              (conv): Conv2d(128, 128, kernel_size=(1, 1), stride=(1, 1), bias=False)\n",
      "              (bn): BatchNorm2d(128, eps=0.001, momentum=0.03, affine=True, track_running_stats=True)\n",
      "              (act): SiLU(inplace=True)\n",
      "            )\n",
      "            (cv2): Conv(\n",
      "              (conv): Conv2d(128, 128, kernel_size=(3, 3), stride=(1, 1), padding=(1, 1), bias=False)\n",
      "              (bn): BatchNorm2d(128, eps=0.001, momentum=0.03, affine=True, track_running_stats=True)\n",
      "              (act): SiLU(inplace=True)\n",
      "            )\n",
      "          )\n",
      "          (1): Bottleneck(\n",
      "            (cv1): Conv(\n",
      "              (conv): Conv2d(128, 128, kernel_size=(1, 1), stride=(1, 1), bias=False)\n",
      "              (bn): BatchNorm2d(128, eps=0.001, momentum=0.03, affine=True, track_running_stats=True)\n",
      "              (act): SiLU(inplace=True)\n",
      "            )\n",
      "            (cv2): Conv(\n",
      "              (conv): Conv2d(128, 128, kernel_size=(3, 3), stride=(1, 1), padding=(1, 1), bias=False)\n",
      "              (bn): BatchNorm2d(128, eps=0.001, momentum=0.03, affine=True, track_running_stats=True)\n",
      "              (act): SiLU(inplace=True)\n",
      "            )\n",
      "          )\n",
      "          (2): Bottleneck(\n",
      "            (cv1): Conv(\n",
      "              (conv): Conv2d(128, 128, kernel_size=(1, 1), stride=(1, 1), bias=False)\n",
      "              (bn): BatchNorm2d(128, eps=0.001, momentum=0.03, affine=True, track_running_stats=True)\n",
      "              (act): SiLU(inplace=True)\n",
      "            )\n",
      "            (cv2): Conv(\n",
      "              (conv): Conv2d(128, 128, kernel_size=(3, 3), stride=(1, 1), padding=(1, 1), bias=False)\n",
      "              (bn): BatchNorm2d(128, eps=0.001, momentum=0.03, affine=True, track_running_stats=True)\n",
      "              (act): SiLU(inplace=True)\n",
      "            )\n",
      "          )\n",
      "        )\n",
      "      )\n",
      "      (7): Conv(\n",
      "        (conv): Conv2d(256, 512, kernel_size=(3, 3), stride=(2, 2), padding=(1, 1), bias=False)\n",
      "        (bn): BatchNorm2d(512, eps=0.001, momentum=0.03, affine=True, track_running_stats=True)\n",
      "        (act): SiLU(inplace=True)\n",
      "      )\n",
      "      (8): C3(\n",
      "        (cv1): Conv(\n",
      "          (conv): Conv2d(512, 256, kernel_size=(1, 1), stride=(1, 1), bias=False)\n",
      "          (bn): BatchNorm2d(256, eps=0.001, momentum=0.03, affine=True, track_running_stats=True)\n",
      "          (act): SiLU(inplace=True)\n",
      "        )\n",
      "        (cv2): Conv(\n",
      "          (conv): Conv2d(512, 256, kernel_size=(1, 1), stride=(1, 1), bias=False)\n",
      "          (bn): BatchNorm2d(256, eps=0.001, momentum=0.03, affine=True, track_running_stats=True)\n",
      "          (act): SiLU(inplace=True)\n",
      "        )\n",
      "        (cv3): Conv(\n",
      "          (conv): Conv2d(512, 512, kernel_size=(1, 1), stride=(1, 1), bias=False)\n",
      "          (bn): BatchNorm2d(512, eps=0.001, momentum=0.03, affine=True, track_running_stats=True)\n",
      "          (act): SiLU(inplace=True)\n",
      "        )\n",
      "        (m): Sequential(\n",
      "          (0): Bottleneck(\n",
      "            (cv1): Conv(\n",
      "              (conv): Conv2d(256, 256, kernel_size=(1, 1), stride=(1, 1), bias=False)\n",
      "              (bn): BatchNorm2d(256, eps=0.001, momentum=0.03, affine=True, track_running_stats=True)\n",
      "              (act): SiLU(inplace=True)\n",
      "            )\n",
      "            (cv2): Conv(\n",
      "              (conv): Conv2d(256, 256, kernel_size=(3, 3), stride=(1, 1), padding=(1, 1), bias=False)\n",
      "              (bn): BatchNorm2d(256, eps=0.001, momentum=0.03, affine=True, track_running_stats=True)\n",
      "              (act): SiLU(inplace=True)\n",
      "            )\n",
      "          )\n",
      "        )\n",
      "      )\n",
      "      (9): SPPF(\n",
      "        (cv1): Conv(\n",
      "          (conv): Conv2d(512, 256, kernel_size=(1, 1), stride=(1, 1), bias=False)\n",
      "          (bn): BatchNorm2d(256, eps=0.001, momentum=0.03, affine=True, track_running_stats=True)\n",
      "          (act): SiLU(inplace=True)\n",
      "        )\n",
      "        (cv2): Conv(\n",
      "          (conv): Conv2d(1024, 512, kernel_size=(1, 1), stride=(1, 1), bias=False)\n",
      "          (bn): BatchNorm2d(512, eps=0.001, momentum=0.03, affine=True, track_running_stats=True)\n",
      "          (act): SiLU(inplace=True)\n",
      "        )\n",
      "        (m): MaxPool2d(kernel_size=5, stride=1, padding=2, dilation=1, ceil_mode=False)\n",
      "      )\n",
      "    )\n",
      "  )\n",
      "  (fpn): SimpleFPN(\n",
      "    (conv_out): Conv2d(512, 128, kernel_size=(1, 1), stride=(1, 1))\n",
      "  )\n",
      "  (task_encoder): TaskEncoder(\n",
      "    (text_encoder): SentenceTransformer(\n",
      "      (0): Transformer({'max_seq_length': 256, 'do_lower_case': False}) with Transformer model: BertModel \n",
      "      (1): Pooling({'word_embedding_dimension': 384, 'pooling_mode_cls_token': False, 'pooling_mode_mean_tokens': True, 'pooling_mode_max_tokens': False, 'pooling_mode_mean_sqrt_len_tokens': False, 'pooling_mode_weightedmean_tokens': False, 'pooling_mode_lasttoken': False, 'include_prompt': True})\n",
      "      (2): Normalize()\n",
      "    )\n",
      "    (linear): Linear(in_features=384, out_features=64, bias=True)\n",
      "  )\n",
      "  (transformer_fusion): TransformerFusion(\n",
      "    (query_proj): Linear(in_features=64, out_features=128, bias=True)\n",
      "    (transformer_encoder): TransformerEncoder(\n",
      "      (layers): ModuleList(\n",
      "        (0): TransformerEncoderLayer(\n",
      "          (self_attn): MultiheadAttention(\n",
      "            (out_proj): NonDynamicallyQuantizableLinear(in_features=128, out_features=128, bias=True)\n",
      "          )\n",
      "          (linear1): Linear(in_features=128, out_features=2048, bias=True)\n",
      "          (dropout): Dropout(p=0.1, inplace=False)\n",
      "          (linear2): Linear(in_features=2048, out_features=128, bias=True)\n",
      "          (norm1): LayerNorm((128,), eps=1e-05, elementwise_affine=True)\n",
      "          (norm2): LayerNorm((128,), eps=1e-05, elementwise_affine=True)\n",
      "          (dropout1): Dropout(p=0.1, inplace=False)\n",
      "          (dropout2): Dropout(p=0.1, inplace=False)\n",
      "        )\n",
      "      )\n",
      "    )\n",
      "  )\n",
      "  (saliency_decoder): SaliencyDecoder(\n",
      "    (conv1): Conv2d(128, 64, kernel_size=(3, 3), stride=(1, 1), padding=(1, 1))\n",
      "    (bn1): BatchNorm2d(64, eps=1e-05, momentum=0.1, affine=True, track_running_stats=True)\n",
      "    (conv2): Conv2d(64, 1, kernel_size=(1, 1), stride=(1, 1))\n",
      "  )\n",
      ")\n"
     ]
    }
   ]
  },
  {
   "cell_type": "code",
   "source": [
    "print(\"Batch size:\", dataloader.batch_size)"
   ],
   "metadata": {
    "id": "_JwWwMJR9_FH",
    "colab": {
     "base_uri": "https://localhost:8080/"
    },
    "outputId": "24d7e7ba-9867-4497-cc7c-d82cb9eca239"
   },
   "execution_count": null,
   "outputs": [
    {
     "output_type": "stream",
     "name": "stdout",
     "text": [
      "Batch size: 32\n"
     ]
    }
   ]
  },
  {
   "cell_type": "code",
   "source": [
    "for epoch in range(num_epochs):\n",
    "    model.train()\n",
    "    running_loss = 0.0\n",
    "    for batch_idx, batch_data in enumerate(dataloader):\n",
    "        images = batch_data[\"stimuli\"].to(device)   # [B, 3, H, W]\n",
    "        fdm = batch_data[\"fdm\"].to(device)           # [B, 1, H, W]\n",
    "        # Task descriptions are returned as a list of strings\n",
    "        task_descs = batch_data[\"task_description\"]\n",
    "\n",
    "        optimizer.zero_grad()\n",
    "        pred_saliency = model(images, task_descs)    # Forward pass using task descriptions\n",
    "        loss = criterion(pred_saliency, fdm)\n",
    "        loss.backward()\n",
    "        optimizer.step()\n",
    "\n",
    "        running_loss += loss.item()\n",
    "        if (batch_idx + 1) % 30 == 0:\n",
    "            print(f\"Epoch [{epoch+1}/{num_epochs}], Batch [{batch_idx+1}/{len(dataloader)}] Loss: {loss.item():.4f}\", flush=True)\n",
    "    epoch_loss = running_loss / len(dataloader)\n",
    "    print(f\"Epoch [{epoch+1}/{num_epochs}] Average Loss: {epoch_loss:.4f}\", flush=True)\n"
   ],
   "metadata": {
    "id": "VMLl6KIagnqR",
    "colab": {
     "base_uri": "https://localhost:8080/"
    },
    "outputId": "0c7011a9-f620-4491-f310-ec7bc08d8512",
    "collapsed": true
   },
   "execution_count": null,
   "outputs": [
    {
     "output_type": "stream",
     "name": "stdout",
     "text": [
      "Epoch [1/15], Batch [30/62] Loss: 2.3827\n",
      "Epoch [1/15], Batch [60/62] Loss: 2.2982\n",
      "Epoch [1/15] Average Loss: 2.4225\n",
      "Epoch [2/15], Batch [30/62] Loss: 2.2171\n",
      "Epoch [2/15], Batch [60/62] Loss: 2.1686\n",
      "Epoch [2/15] Average Loss: 2.1786\n",
      "Epoch [3/15], Batch [30/62] Loss: 2.0398\n",
      "Epoch [3/15], Batch [60/62] Loss: 1.9932\n",
      "Epoch [3/15] Average Loss: 2.0754\n",
      "Epoch [4/15], Batch [30/62] Loss: 1.9555\n",
      "Epoch [4/15], Batch [60/62] Loss: 1.9822\n",
      "Epoch [4/15] Average Loss: 1.9966\n",
      "Epoch [5/15], Batch [30/62] Loss: 2.0348\n",
      "Epoch [5/15], Batch [60/62] Loss: 1.9661\n",
      "Epoch [5/15] Average Loss: 1.9303\n",
      "Epoch [6/15], Batch [30/62] Loss: 1.9683\n",
      "Epoch [6/15], Batch [60/62] Loss: 1.8700\n",
      "Epoch [6/15] Average Loss: 1.8746\n",
      "Epoch [7/15], Batch [30/62] Loss: 1.8174\n",
      "Epoch [7/15], Batch [60/62] Loss: 1.9095\n",
      "Epoch [7/15] Average Loss: 1.8255\n",
      "Epoch [8/15], Batch [30/62] Loss: 1.7446\n",
      "Epoch [8/15], Batch [60/62] Loss: 1.7640\n",
      "Epoch [8/15] Average Loss: 1.7772\n",
      "Epoch [9/15], Batch [30/62] Loss: 1.7078\n",
      "Epoch [9/15], Batch [60/62] Loss: 1.7626\n",
      "Epoch [9/15] Average Loss: 1.7399\n",
      "Epoch [10/15], Batch [30/62] Loss: 1.7017\n",
      "Epoch [10/15], Batch [60/62] Loss: 1.6894\n",
      "Epoch [10/15] Average Loss: 1.6987\n",
      "Epoch [11/15], Batch [30/62] Loss: 1.6409\n",
      "Epoch [11/15], Batch [60/62] Loss: 1.6055\n",
      "Epoch [11/15] Average Loss: 1.6584\n",
      "Epoch [12/15], Batch [30/62] Loss: 1.5958\n",
      "Epoch [12/15], Batch [60/62] Loss: 1.6857\n",
      "Epoch [12/15] Average Loss: 1.6290\n",
      "Epoch [13/15], Batch [30/62] Loss: 1.5415\n",
      "Epoch [13/15], Batch [60/62] Loss: 1.5739\n",
      "Epoch [13/15] Average Loss: 1.5982\n",
      "Epoch [14/15], Batch [30/62] Loss: 1.6034\n",
      "Epoch [14/15], Batch [60/62] Loss: 1.5542\n",
      "Epoch [14/15] Average Loss: 1.5738\n",
      "Epoch [15/15], Batch [30/62] Loss: 1.6460\n",
      "Epoch [15/15], Batch [60/62] Loss: 1.5111\n",
      "Epoch [15/15] Average Loss: 1.5399\n"
     ]
    }
   ]
  },
  {
   "cell_type": "code",
   "source": [
    "# Full Dataset Loss Calculation Cell\n",
    "\n",
    "import torch\n",
    "\n",
    "# Make sure your model is in evaluation mode\n",
    "model.eval()\n",
    "\n",
    "# Lists to accumulate predictions and ground truths\n",
    "all_preds = []\n",
    "all_gts = []\n",
    "\n",
    "# Iterate through the dataloader and move predictions and ground truths to CPU\n",
    "with torch.no_grad():\n",
    "    for batch_data in dataloader:\n",
    "        images = batch_data[\"stimuli\"].to(device)  # [B, 3, H, W]\n",
    "        gts = batch_data[\"fdm\"].to(device)           # [B, 1, H, W]\n",
    "        task_descs = batch_data[\"task_description\"]  # list of task strings\n",
    "\n",
    "        # Forward pass through the model\n",
    "        preds = model(images, task_descs)  # [B, 1, H, W]\n",
    "\n",
    "        # Append predictions and ground truths to lists after moving to CPU\n",
    "        all_preds.append(preds.cpu())\n",
    "        all_gts.append(gts.cpu())\n",
    "\n",
    "# Concatenate all predictions and ground truths\n",
    "full_preds = torch.cat(all_preds, dim=0)\n",
    "full_gts = torch.cat(all_gts, dim=0)\n",
    "\n",
    "# Move the full tensors back to the device (if required) for loss computation\n",
    "full_loss = criterion(full_preds.to(device), full_gts.to(device))\n",
    "print(f\"Full Dataset Loss: {full_loss.item():.4f}\")"
   ],
   "metadata": {
    "colab": {
     "base_uri": "https://localhost:8080/"
    },
    "id": "_JZR-zGUCled",
    "outputId": "b42c356e-1398-49a1-b1a2-96070eb5cce9"
   },
   "execution_count": null,
   "outputs": [
    {
     "output_type": "stream",
     "name": "stdout",
     "text": [
      "Full Dataset Loss: 1.5264\n"
     ]
    }
   ]
  },
  {
   "cell_type": "markdown",
   "source": [
    "### Alternative training that calculates loss on the whole dataset"
   ],
   "metadata": {
    "id": "sOcOlatpYeaQ"
   }
  },
  {
   "cell_type": "code",
   "source": [
    "import torch.optim as optim\n",
    "\n",
    "device = torch.device(\"cuda\" if torch.cuda.is_available() else \"cpu\")\n",
    "lr = 1e-4\n",
    "num_epochs = 5\n",
    "\n",
    "model = YOLOTaskSaliencyModel().to(device)\n",
    "optimizer = optim.Adam(model.parameters(), lr=lr)\n",
    "criterion = SaliencyLoss(alpha=1.0, beta=1.0)"
   ],
   "metadata": {
    "id": "WPvzHLhZYwCE",
    "colab": {
     "base_uri": "https://localhost:8080/"
    },
    "outputId": "9af7dce2-8afd-4100-8f9d-ca0572b5bfc9"
   },
   "execution_count": null,
   "outputs": [
    {
     "output_type": "stream",
     "name": "stdout",
     "text": [
      "PRO TIP 💡 Replace 'model=yolov5s.pt' with new 'model=yolov5su.pt'.\n",
      "YOLOv5 'u' models are trained with https://github.com/ultralytics/ultralytics and feature improved performance vs standard YOLOv5 models trained with https://github.com/ultralytics/yolov5.\n",
      "\n"
     ]
    },
    {
     "output_type": "stream",
     "name": "stderr",
     "text": [
      "/usr/local/lib/python3.11/dist-packages/huggingface_hub/utils/_auth.py:94: UserWarning: \n",
      "The secret `HF_TOKEN` does not exist in your Colab secrets.\n",
      "To authenticate with the Hugging Face Hub, create a token in your settings tab (https://huggingface.co/settings/tokens), set it as secret in your Google Colab and restart your session.\n",
      "You will be able to reuse this secret in all of your notebooks.\n",
      "Please note that authentication is recommended but still optional to access public models or datasets.\n",
      "  warnings.warn(\n",
      "/usr/local/lib/python3.11/dist-packages/torch/nn/modules/transformer.py:385: UserWarning: enable_nested_tensor is True, but self.use_nested_tensor is False because encoder_layer.self_attn.batch_first was not True(use batch_first for better inference performance)\n",
      "  warnings.warn(\n"
     ]
    }
   ]
  },
  {
   "cell_type": "code",
   "source": [
    "print(\"Batch size:\", dataloader.batch_size)\n",
    "\n",
    "for epoch in range(num_epochs):\n",
    "    model.train()\n",
    "    all_preds = []\n",
    "    all_gts = []\n",
    "    total_batches = len(dataloader)\n",
    "\n",
    "    for batch_idx, batch_data in enumerate(dataloader):\n",
    "        images = batch_data[\"stimuli\"].to(device)   # [B, 3, H, W]\n",
    "        gts = batch_data[\"fdm\"].to(device)            # [B, 1, H, W]\n",
    "        task_descs = batch_data[\"task_description\"]   # list of strings\n",
    "\n",
    "        # Forward pass for the batch\n",
    "        preds = model(images, task_descs)             # [B, 1, H, W]\n",
    "\n",
    "        # Accumulate predictions and ground truths\n",
    "        all_preds.append(preds)\n",
    "        all_gts.append(gts)\n",
    "\n",
    "        # Every 30 batches, compute and print the running loss on the accumulated data so far\n",
    "        if (batch_idx + 1) % 30 == 0:\n",
    "            partial_preds = torch.cat(all_preds, dim=0)\n",
    "            partial_gts = torch.cat(all_gts, dim=0)\n",
    "            partial_loss = criterion(partial_preds, partial_gts)\n",
    "            print(f\"Epoch [{epoch+1}/{num_epochs}], Batch [{batch_idx+1}/{total_batches}] Running Loss: {partial_loss.item():.4f}\", flush=True)\n",
    "\n",
    "    # At the end of the epoch, compute the full loss over the entire dataset (epoch)\n",
    "    full_preds = torch.cat(all_preds, dim=0)\n",
    "    full_gts = torch.cat(all_gts, dim=0)\n",
    "    loss = criterion(full_preds, full_gts)\n",
    "\n",
    "    optimizer.zero_grad()\n",
    "    loss.backward()\n",
    "    optimizer.step()\n",
    "\n",
    "    print(f\"Epoch [{epoch+1}/{num_epochs}] Full Dataset Loss: {loss.item():.4f}\", flush=True)"
   ],
   "metadata": {
    "id": "EWz37Q31YURJ",
    "colab": {
     "base_uri": "https://localhost:8080/",
     "height": 520
    },
    "outputId": "eb60a782-59f2-4f68-d2e3-8c75a018a10c"
   },
   "execution_count": null,
   "outputs": [
    {
     "output_type": "stream",
     "name": "stdout",
     "text": [
      "Batch size: 8\n",
      "Epoch [1/5], Batch [30/246] Running Loss: 3.2159\n",
      "Epoch [1/5], Batch [60/246] Running Loss: 3.2169\n",
      "Epoch [1/5], Batch [90/246] Running Loss: 3.1975\n",
      "Epoch [1/5], Batch [120/246] Running Loss: 3.1959\n"
     ]
    },
    {
     "output_type": "error",
     "ename": "OutOfMemoryError",
     "evalue": "CUDA out of memory. Tried to allocate 676.00 MiB. GPU 0 has a total capacity of 14.74 GiB of which 378.12 MiB is free. Process 171588 has 14.37 GiB memory in use. Of the allocated memory 14.15 GiB is allocated by PyTorch, and 70.97 MiB is reserved by PyTorch but unallocated. If reserved but unallocated memory is large try setting PYTORCH_CUDA_ALLOC_CONF=expandable_segments:True to avoid fragmentation.  See documentation for Memory Management  (https://pytorch.org/docs/stable/notes/cuda.html#environment-variables)",
     "traceback": [
      "\u001b[0;31m---------------------------------------------------------------------------\u001b[0m",
      "\u001b[0;31mOutOfMemoryError\u001b[0m                          Traceback (most recent call last)",
      "\u001b[0;32m<ipython-input-14-6f78d15ca109>\u001b[0m in \u001b[0;36m<cell line: 0>\u001b[0;34m()\u001b[0m\n\u001b[1;32m     23\u001b[0m             \u001b[0mpartial_preds\u001b[0m \u001b[0;34m=\u001b[0m \u001b[0mtorch\u001b[0m\u001b[0;34m.\u001b[0m\u001b[0mcat\u001b[0m\u001b[0;34m(\u001b[0m\u001b[0mall_preds\u001b[0m\u001b[0;34m,\u001b[0m \u001b[0mdim\u001b[0m\u001b[0;34m=\u001b[0m\u001b[0;36m0\u001b[0m\u001b[0;34m)\u001b[0m\u001b[0;34m\u001b[0m\u001b[0;34m\u001b[0m\u001b[0m\n\u001b[1;32m     24\u001b[0m             \u001b[0mpartial_gts\u001b[0m \u001b[0;34m=\u001b[0m \u001b[0mtorch\u001b[0m\u001b[0;34m.\u001b[0m\u001b[0mcat\u001b[0m\u001b[0;34m(\u001b[0m\u001b[0mall_gts\u001b[0m\u001b[0;34m,\u001b[0m \u001b[0mdim\u001b[0m\u001b[0;34m=\u001b[0m\u001b[0;36m0\u001b[0m\u001b[0;34m)\u001b[0m\u001b[0;34m\u001b[0m\u001b[0;34m\u001b[0m\u001b[0m\n\u001b[0;32m---> 25\u001b[0;31m             \u001b[0mpartial_loss\u001b[0m \u001b[0;34m=\u001b[0m \u001b[0mcriterion\u001b[0m\u001b[0;34m(\u001b[0m\u001b[0mpartial_preds\u001b[0m\u001b[0;34m,\u001b[0m \u001b[0mpartial_gts\u001b[0m\u001b[0;34m)\u001b[0m\u001b[0;34m\u001b[0m\u001b[0;34m\u001b[0m\u001b[0m\n\u001b[0m\u001b[1;32m     26\u001b[0m             \u001b[0mprint\u001b[0m\u001b[0;34m(\u001b[0m\u001b[0;34mf\"Epoch [{epoch+1}/{num_epochs}], Batch [{batch_idx+1}/{total_batches}] Running Loss: {partial_loss.item():.4f}\"\u001b[0m\u001b[0;34m,\u001b[0m \u001b[0mflush\u001b[0m\u001b[0;34m=\u001b[0m\u001b[0;32mTrue\u001b[0m\u001b[0;34m)\u001b[0m\u001b[0;34m\u001b[0m\u001b[0;34m\u001b[0m\u001b[0m\n\u001b[1;32m     27\u001b[0m \u001b[0;34m\u001b[0m\u001b[0m\n",
      "\u001b[0;32m/usr/local/lib/python3.11/dist-packages/torch/nn/modules/module.py\u001b[0m in \u001b[0;36m_wrapped_call_impl\u001b[0;34m(self, *args, **kwargs)\u001b[0m\n\u001b[1;32m   1737\u001b[0m             \u001b[0;32mreturn\u001b[0m \u001b[0mself\u001b[0m\u001b[0;34m.\u001b[0m\u001b[0m_compiled_call_impl\u001b[0m\u001b[0;34m(\u001b[0m\u001b[0;34m*\u001b[0m\u001b[0margs\u001b[0m\u001b[0;34m,\u001b[0m \u001b[0;34m**\u001b[0m\u001b[0mkwargs\u001b[0m\u001b[0;34m)\u001b[0m  \u001b[0;31m# type: ignore[misc]\u001b[0m\u001b[0;34m\u001b[0m\u001b[0;34m\u001b[0m\u001b[0m\n\u001b[1;32m   1738\u001b[0m         \u001b[0;32melse\u001b[0m\u001b[0;34m:\u001b[0m\u001b[0;34m\u001b[0m\u001b[0;34m\u001b[0m\u001b[0m\n\u001b[0;32m-> 1739\u001b[0;31m             \u001b[0;32mreturn\u001b[0m \u001b[0mself\u001b[0m\u001b[0;34m.\u001b[0m\u001b[0m_call_impl\u001b[0m\u001b[0;34m(\u001b[0m\u001b[0;34m*\u001b[0m\u001b[0margs\u001b[0m\u001b[0;34m,\u001b[0m \u001b[0;34m**\u001b[0m\u001b[0mkwargs\u001b[0m\u001b[0;34m)\u001b[0m\u001b[0;34m\u001b[0m\u001b[0;34m\u001b[0m\u001b[0m\n\u001b[0m\u001b[1;32m   1740\u001b[0m \u001b[0;34m\u001b[0m\u001b[0m\n\u001b[1;32m   1741\u001b[0m     \u001b[0;31m# torchrec tests the code consistency with the following code\u001b[0m\u001b[0;34m\u001b[0m\u001b[0;34m\u001b[0m\u001b[0m\n",
      "\u001b[0;32m/usr/local/lib/python3.11/dist-packages/torch/nn/modules/module.py\u001b[0m in \u001b[0;36m_call_impl\u001b[0;34m(self, *args, **kwargs)\u001b[0m\n\u001b[1;32m   1748\u001b[0m                 \u001b[0;32mor\u001b[0m \u001b[0m_global_backward_pre_hooks\u001b[0m \u001b[0;32mor\u001b[0m \u001b[0m_global_backward_hooks\u001b[0m\u001b[0;34m\u001b[0m\u001b[0;34m\u001b[0m\u001b[0m\n\u001b[1;32m   1749\u001b[0m                 or _global_forward_hooks or _global_forward_pre_hooks):\n\u001b[0;32m-> 1750\u001b[0;31m             \u001b[0;32mreturn\u001b[0m \u001b[0mforward_call\u001b[0m\u001b[0;34m(\u001b[0m\u001b[0;34m*\u001b[0m\u001b[0margs\u001b[0m\u001b[0;34m,\u001b[0m \u001b[0;34m**\u001b[0m\u001b[0mkwargs\u001b[0m\u001b[0;34m)\u001b[0m\u001b[0;34m\u001b[0m\u001b[0;34m\u001b[0m\u001b[0m\n\u001b[0m\u001b[1;32m   1751\u001b[0m \u001b[0;34m\u001b[0m\u001b[0m\n\u001b[1;32m   1752\u001b[0m         \u001b[0mresult\u001b[0m \u001b[0;34m=\u001b[0m \u001b[0;32mNone\u001b[0m\u001b[0;34m\u001b[0m\u001b[0;34m\u001b[0m\u001b[0m\n",
      "\u001b[0;32m<ipython-input-12-8faf71f30c72>\u001b[0m in \u001b[0;36mforward\u001b[0;34m(self, pred, gt)\u001b[0m\n\u001b[1;32m     24\u001b[0m \u001b[0;34m\u001b[0m\u001b[0m\n\u001b[1;32m     25\u001b[0m         \u001b[0;31m# KL Divergence: sum(gt * log(gt/pred))\u001b[0m\u001b[0;34m\u001b[0m\u001b[0;34m\u001b[0m\u001b[0m\n\u001b[0;32m---> 26\u001b[0;31m         \u001b[0mkl\u001b[0m \u001b[0;34m=\u001b[0m \u001b[0;34m(\u001b[0m\u001b[0mgt_norm\u001b[0m \u001b[0;34m*\u001b[0m \u001b[0mtorch\u001b[0m\u001b[0;34m.\u001b[0m\u001b[0mlog\u001b[0m\u001b[0;34m(\u001b[0m\u001b[0;34m(\u001b[0m\u001b[0mgt_norm\u001b[0m \u001b[0;34m+\u001b[0m \u001b[0meps\u001b[0m\u001b[0;34m)\u001b[0m \u001b[0;34m/\u001b[0m \u001b[0;34m(\u001b[0m\u001b[0mpred_norm\u001b[0m \u001b[0;34m+\u001b[0m \u001b[0meps\u001b[0m\u001b[0;34m)\u001b[0m\u001b[0;34m)\u001b[0m\u001b[0;34m)\u001b[0m\u001b[0;34m.\u001b[0m\u001b[0msum\u001b[0m\u001b[0;34m(\u001b[0m\u001b[0mdim\u001b[0m\u001b[0;34m=\u001b[0m\u001b[0;36m1\u001b[0m\u001b[0;34m)\u001b[0m\u001b[0;34m.\u001b[0m\u001b[0mmean\u001b[0m\u001b[0;34m(\u001b[0m\u001b[0;34m)\u001b[0m\u001b[0;34m\u001b[0m\u001b[0;34m\u001b[0m\u001b[0m\n\u001b[0m\u001b[1;32m     27\u001b[0m \u001b[0;34m\u001b[0m\u001b[0m\n\u001b[1;32m     28\u001b[0m         \u001b[0;31m# Pearson's Correlation Coefficient (CC)\u001b[0m\u001b[0;34m\u001b[0m\u001b[0;34m\u001b[0m\u001b[0m\n",
      "\u001b[0;31mOutOfMemoryError\u001b[0m: CUDA out of memory. Tried to allocate 676.00 MiB. GPU 0 has a total capacity of 14.74 GiB of which 378.12 MiB is free. Process 171588 has 14.37 GiB memory in use. Of the allocated memory 14.15 GiB is allocated by PyTorch, and 70.97 MiB is reserved by PyTorch but unallocated. If reserved but unallocated memory is large try setting PYTORCH_CUDA_ALLOC_CONF=expandable_segments:True to avoid fragmentation.  See documentation for Memory Management  (https://pytorch.org/docs/stable/notes/cuda.html#environment-variables)"
     ]
    }
   ]
  },
  {
   "cell_type": "markdown",
   "source": [
    "### 3rd Alternative that uses scheduled decreasing learning rate"
   ],
   "metadata": {
    "id": "Rf84tUFzBAO4"
   }
  },
  {
   "cell_type": "code",
   "source": [
    "import torch.optim as optim\n",
    "\n",
    "device = torch.device(\"cuda\" if torch.cuda.is_available() else \"cpu\")\n",
    "lr = 1e-4\n",
    "num_epochs = 15\n",
    "\n",
    "model = YOLOTaskSaliencyModel().to(device)\n",
    "optimizer = optim.Adam(model.parameters(), lr=lr)\n",
    "criterion = SaliencyLoss(alpha=1.0, beta=1.0)"
   ],
   "metadata": {
    "colab": {
     "base_uri": "https://localhost:8080/",
     "height": 593,
     "referenced_widgets": [
      "d1192185bfb54f5d9717a7d65c354ad3",
      "182fc6d7d9744e1fa02deaae6ae1ec98",
      "9f765e11aa7e453e9e2861a50e2178b4",
      "371487b4c90f4ff690db06afc80b476c",
      "ef451f9c0c4f4106a3d926e8456b3bf7",
      "ecd8ddc4e3444848bdbdfaaf3e92ff19",
      "e435a3df7b0f41108dfd66586bff2ec9",
      "e34dbbe7090f41138867a01e53366038",
      "1672a1e995f04abb84ee9f1b8dc0bd98",
      "0017428e2a8c4d0e92d5d9da4e9a8393",
      "93be908fd5e445d992abade182518218",
      "97cf539c7ab64700b1a771345d9d6318",
      "f88d1fda9bc34143beb22719b57de776",
      "fbc02006ad544a10a5c78b4355ca796a",
      "990ee952b6064be59a6a0e0f691d9878",
      "9c9cf1d5416f43129c41a6cfc307bb0d",
      "0d1c2fa766a14939a6cfe196b8d8d2a9",
      "3a7b6dcc976a433fb81c70005bc2a1d2",
      "3d6ad5cbeb844e8fa09d57c7ade3447c",
      "cc78bc161efa4053b8eb176955836459",
      "2a74ba33c3934d599e8b65a219b280ba",
      "89f4186cdad1456dbe2646e47bbb4c4b",
      "b4d414b5004b4a4b9a06ed62f79dcad2",
      "f2e329d75c0f48aaabb1495b3e02b261",
      "0628d857d1b94a199b53a3db11693c6c",
      "c7366969312b44fb8778d190d901a315",
      "eb1371263f6e4e149a63a80130e21d70",
      "7c11e074967040b991b1e45a16cf83a3",
      "d7978424ab9044a8ab332c1f967b540e",
      "3823b6c4eaf5427ba42f7ad1e79e5276",
      "cf3870d9635a4f7c90bd8b56214b812f",
      "8df5e591d19444dca1effdd7d447d2b8",
      "2b1b4dc26d0446c8941d7a8152ce324e",
      "501182c50021412380bce7544f0375b5",
      "2568bfd0548942058c84f9ac8a2b1ae5",
      "e505610a043a4b3987b8ae3b1755512b",
      "9c2a8fdeeef749dc96e42b01b0b2cd99",
      "f3b37574ad2b45d9993a335ad38b49aa",
      "c5b022d32aeb441b9caed86c2af1a736",
      "e11cf1a204744dfbbe8f2abb3075224f",
      "949804be6d904caaac09c6316c9511a4",
      "7e2f1bcc725f468aa62ed430eb95bb06",
      "fd71f10d9ce34a24b65fe1ea7936e0b6",
      "9cb9efb3f2d64134b472e5a5d3609699",
      "4f6b62bdce4e4ccfbabf054c4ee00425",
      "9b243a48a4464d90925d24541d33f283",
      "03a47d21c4cb42468e9079e0deabb988",
      "61e1ebd14755426b8ba6ecc8dc357358",
      "641412c1695b41aab818172fddce6f4c",
      "0426665720e346c9bb4aec52bd3f888c",
      "cc54e6856856489faca54534fe769168",
      "7ef37a5bfb134516ab8df824308db23c",
      "5b9e5a74e0c0467a87bb44f1f1f2bc95",
      "c4c7e30989fa43cb98e5047348cb1b21",
      "81f93db4d65a44efb17fb5017c0b7302",
      "f39b4721abd34f5494340a64f7ea03b8",
      "1172afc94000459a86de828d9ac4a637",
      "67a09e8e29dd47e983ca3a38e7b791e0",
      "46959a75b25a4c2184e323e3ef0e844c",
      "def17e9bb18a40759e0a661f5f0f9846",
      "15aed8938a1945fbb96efd34db6600cd",
      "f2b77103e3414199bb1db1929a5b2848",
      "41aea702611c458996e432f0649fb21f",
      "27770a57412b44b3bcae3d6006579b04",
      "f42d24839c824324afbd3a7b77910930",
      "e13dc5727b6d43a09bc6ff5f736e237c",
      "ab2f0ea1707c45858f18a1f61f44f869",
      "9edfdfdf204f4dcbb3ae644a7663fdb4",
      "5191affcea7b4b7e8a16ef9a0ac036b1",
      "cbbad0d510054bec9e4f2826e0882d5c",
      "7eb94c795b054a99b426d934586da45f",
      "69ec5e3fac5f4abbb38520bf070a9823",
      "cbcf3312ddcb4e778211c1b48bad10e5",
      "f8e213adbb544bdb915d7ad1124e13a3",
      "f1817da040c94073b3485c270eb575cf",
      "80118567c17647cfbc7d9cfe66d4904b",
      "b2a75df34be9449d846624db0c9c1aa9",
      "bf3d11545be74543b17894686f5a2c88",
      "198f2b2698d0422ea3a62d8547a334ce",
      "728fa9803023451387c644a9c195b7a1",
      "6117d754716f4556b270805efa70202a",
      "f86dff97cd6644beafb0741c436cb706",
      "e655d8623e6948f7887ee8145d285916",
      "049c051213634799be1c37affc958967",
      "0ce4ab481a784350911db6a2dee6498b",
      "1a48938c0b6b47e387d0a5a7e27d22a3",
      "f38216e768024076aa771427ea8f841f",
      "2b2b9546364d4ed18fcf043447741658",
      "d5ca9fe5321342f9a732add4d1d19260",
      "76ce8b667c51454db8ece09b88fe0f29",
      "139bc2cf87f34ae99687658f6eb6bf03",
      "cc6fe872ae504f73acca6847fcd83e8a",
      "adb044994a0840be8db6c787169e880a",
      "1b28dd200ee64ec088c759181932a623",
      "1f3ff9b610e8430a8bc2173d7e96b9d1",
      "9b1a1e22aa9c4356a50f66832900faeb",
      "c80c522d584b47d598a18661a8c66345",
      "48307a51ed59429c9bd43528dd72b388",
      "98d7708c78cb4139a6f7aaac806610ac",
      "4658c754693e4b698492bed625b01a53",
      "d6e64c2bc88740e189f7df407e8fa828",
      "c9f279f997aa44a2a27c815d1ec3c3fe",
      "94e86b274e814a0d88076d09773bf964",
      "eafcc27dcd2049f7a40801c1beaba088",
      "58ada65964e24d5cb25ee08b6cab0861",
      "25f829f1cd73430a8612fe976d2f68d3",
      "35be5a26353b4ef9800d42c17754b849",
      "3a4b52b7f82f45569cbb97460c0f63c8",
      "fc8fdf0fe8db4f9b9735ab817519de1a",
      "0f43f45b212b4bffb18519fe937f8913",
      "efe167e74baf462f86f8fe4843855b0a",
      "afda38d75f694fc0a9bba635b80a1c82",
      "f77fa8d3c3114cc0b014c5794e039dae",
      "bcb135569e82464293c7e46d8e1b2d3a",
      "b9e21669e01c40a5bc5ede920c44606e",
      "5f91b227688d4845b5344bbbc352a671",
      "c7f23ef8e45e41a98077f5bcff941952",
      "08f789cf5ffa463a87d77d68015d56c2",
      "185ff9152b93489d9952e4a2c80a1cce",
      "3c7bce1185da4278972e472686b326ee",
      "0103064844164234b3cb24393957d9da"
     ]
    },
    "collapsed": true,
    "id": "6fMBnxgHk5nM",
    "outputId": "a35e4596-983c-4187-fc5a-17a20641218f"
   },
   "execution_count": null,
   "outputs": [
    {
     "output_type": "stream",
     "name": "stdout",
     "text": [
      "PRO TIP 💡 Replace 'model=yolov5s.pt' with new 'model=yolov5su.pt'.\n",
      "YOLOv5 'u' models are trained with https://github.com/ultralytics/ultralytics and feature improved performance vs standard YOLOv5 models trained with https://github.com/ultralytics/yolov5.\n",
      "\n",
      "Downloading https://github.com/ultralytics/assets/releases/download/v8.3.0/yolov5su.pt to 'yolov5su.pt'...\n"
     ]
    },
    {
     "output_type": "stream",
     "name": "stderr",
     "text": [
      "100%|██████████| 17.7M/17.7M [00:00<00:00, 333MB/s]\n",
      "/usr/local/lib/python3.11/dist-packages/huggingface_hub/utils/_auth.py:104: UserWarning: \n",
      "Error while fetching `HF_TOKEN` secret value from your vault: 'Requesting secret HF_TOKEN timed out. Secrets can only be fetched when running from the Colab UI.'.\n",
      "You are not authenticated with the Hugging Face Hub in this notebook.\n",
      "If the error persists, please let us know by opening an issue on GitHub (https://github.com/huggingface/huggingface_hub/issues/new).\n",
      "  warnings.warn(\n"
     ]
    },
    {
     "output_type": "display_data",
     "data": {
      "text/plain": [
       "modules.json:   0%|          | 0.00/349 [00:00<?, ?B/s]"
      ],
      "application/vnd.jupyter.widget-view+json": {
       "version_major": 2,
       "version_minor": 0,
       "model_id": "d1192185bfb54f5d9717a7d65c354ad3"
      }
     },
     "metadata": {}
    },
    {
     "output_type": "display_data",
     "data": {
      "text/plain": [
       "config_sentence_transformers.json:   0%|          | 0.00/116 [00:00<?, ?B/s]"
      ],
      "application/vnd.jupyter.widget-view+json": {
       "version_major": 2,
       "version_minor": 0,
       "model_id": "97cf539c7ab64700b1a771345d9d6318"
      }
     },
     "metadata": {}
    },
    {
     "output_type": "display_data",
     "data": {
      "text/plain": [
       "README.md:   0%|          | 0.00/10.5k [00:00<?, ?B/s]"
      ],
      "application/vnd.jupyter.widget-view+json": {
       "version_major": 2,
       "version_minor": 0,
       "model_id": "b4d414b5004b4a4b9a06ed62f79dcad2"
      }
     },
     "metadata": {}
    },
    {
     "output_type": "display_data",
     "data": {
      "text/plain": [
       "sentence_bert_config.json:   0%|          | 0.00/53.0 [00:00<?, ?B/s]"
      ],
      "application/vnd.jupyter.widget-view+json": {
       "version_major": 2,
       "version_minor": 0,
       "model_id": "501182c50021412380bce7544f0375b5"
      }
     },
     "metadata": {}
    },
    {
     "output_type": "display_data",
     "data": {
      "text/plain": [
       "config.json:   0%|          | 0.00/612 [00:00<?, ?B/s]"
      ],
      "application/vnd.jupyter.widget-view+json": {
       "version_major": 2,
       "version_minor": 0,
       "model_id": "4f6b62bdce4e4ccfbabf054c4ee00425"
      }
     },
     "metadata": {}
    },
    {
     "output_type": "display_data",
     "data": {
      "text/plain": [
       "model.safetensors:   0%|          | 0.00/90.9M [00:00<?, ?B/s]"
      ],
      "application/vnd.jupyter.widget-view+json": {
       "version_major": 2,
       "version_minor": 0,
       "model_id": "f39b4721abd34f5494340a64f7ea03b8"
      }
     },
     "metadata": {}
    },
    {
     "output_type": "display_data",
     "data": {
      "text/plain": [
       "tokenizer_config.json:   0%|          | 0.00/350 [00:00<?, ?B/s]"
      ],
      "application/vnd.jupyter.widget-view+json": {
       "version_major": 2,
       "version_minor": 0,
       "model_id": "ab2f0ea1707c45858f18a1f61f44f869"
      }
     },
     "metadata": {}
    },
    {
     "output_type": "display_data",
     "data": {
      "text/plain": [
       "vocab.txt:   0%|          | 0.00/232k [00:00<?, ?B/s]"
      ],
      "application/vnd.jupyter.widget-view+json": {
       "version_major": 2,
       "version_minor": 0,
       "model_id": "bf3d11545be74543b17894686f5a2c88"
      }
     },
     "metadata": {}
    },
    {
     "output_type": "display_data",
     "data": {
      "text/plain": [
       "tokenizer.json:   0%|          | 0.00/466k [00:00<?, ?B/s]"
      ],
      "application/vnd.jupyter.widget-view+json": {
       "version_major": 2,
       "version_minor": 0,
       "model_id": "d5ca9fe5321342f9a732add4d1d19260"
      }
     },
     "metadata": {}
    },
    {
     "output_type": "display_data",
     "data": {
      "text/plain": [
       "special_tokens_map.json:   0%|          | 0.00/112 [00:00<?, ?B/s]"
      ],
      "application/vnd.jupyter.widget-view+json": {
       "version_major": 2,
       "version_minor": 0,
       "model_id": "4658c754693e4b698492bed625b01a53"
      }
     },
     "metadata": {}
    },
    {
     "output_type": "display_data",
     "data": {
      "text/plain": [
       "config.json:   0%|          | 0.00/190 [00:00<?, ?B/s]"
      ],
      "application/vnd.jupyter.widget-view+json": {
       "version_major": 2,
       "version_minor": 0,
       "model_id": "efe167e74baf462f86f8fe4843855b0a"
      }
     },
     "metadata": {}
    },
    {
     "output_type": "stream",
     "name": "stderr",
     "text": [
      "/usr/local/lib/python3.11/dist-packages/torch/nn/modules/transformer.py:385: UserWarning: enable_nested_tensor is True, but self.use_nested_tensor is False because encoder_layer.self_attn.batch_first was not True(use batch_first for better inference performance)\n",
      "  warnings.warn(\n"
     ]
    }
   ]
  },
  {
   "cell_type": "code",
   "source": [
    "print(\"Batch size:\", dataloader.batch_size)\n",
    "\n",
    "from torch.optim.lr_scheduler import MultiStepLR\n",
    "\n",
    "optimizer = optim.Adam(model.parameters(), lr=1e-2)\n",
    "scheduler = MultiStepLR(optimizer, milestones=[5, 10], gamma=0.1)\n",
    "\n",
    "for epoch in range(num_epochs):\n",
    "    model.train()\n",
    "    running_loss = 0.0\n",
    "    for batch_idx, batch_data in enumerate(dataloader):\n",
    "        images = batch_data[\"stimuli\"].to(device)\n",
    "        fdm = batch_data[\"fdm\"].to(device)\n",
    "        task_descs = batch_data[\"task_description\"]\n",
    "\n",
    "        optimizer.zero_grad()\n",
    "        pred_saliency = model(images, task_descs)\n",
    "        loss = criterion(pred_saliency, fdm)\n",
    "        loss.backward()\n",
    "        optimizer.step()\n",
    "\n",
    "        running_loss += loss.item()\n",
    "        if (batch_idx + 1) % 30 == 0:\n",
    "            print(f\"Epoch [{epoch+1}/{num_epochs}], Batch [{batch_idx+1}/{len(dataloader)}] Loss: {loss.item():.4f}\", flush=True)\n",
    "\n",
    "    scheduler.step()  # Adjusts learning rate according to milestones\n",
    "    epoch_loss = running_loss / len(dataloader)\n",
    "    print(f\"Epoch [{epoch+1}/{num_epochs}] Average Loss: {epoch_loss:.4f}\", flush=True)"
   ],
   "metadata": {
    "id": "eAyUafXHBJcO",
    "colab": {
     "base_uri": "https://localhost:8080/",
     "height": 367
    },
    "outputId": "000573b3-4712-46a9-e5e8-67bb984a0607"
   },
   "execution_count": null,
   "outputs": [
    {
     "output_type": "stream",
     "name": "stdout",
     "text": [
      "Batch size: 32\n"
     ]
    },
    {
     "output_type": "error",
     "ename": "KeyboardInterrupt",
     "evalue": "",
     "traceback": [
      "\u001b[0;31m---------------------------------------------------------------------------\u001b[0m",
      "\u001b[0;31mKeyboardInterrupt\u001b[0m                         Traceback (most recent call last)",
      "\u001b[0;32m<ipython-input-16-aace29dee7ca>\u001b[0m in \u001b[0;36m<cell line: 0>\u001b[0;34m()\u001b[0m\n\u001b[1;32m      9\u001b[0m     \u001b[0mmodel\u001b[0m\u001b[0;34m.\u001b[0m\u001b[0mtrain\u001b[0m\u001b[0;34m(\u001b[0m\u001b[0;34m)\u001b[0m\u001b[0;34m\u001b[0m\u001b[0;34m\u001b[0m\u001b[0m\n\u001b[1;32m     10\u001b[0m     \u001b[0mrunning_loss\u001b[0m \u001b[0;34m=\u001b[0m \u001b[0;36m0.0\u001b[0m\u001b[0;34m\u001b[0m\u001b[0;34m\u001b[0m\u001b[0m\n\u001b[0;32m---> 11\u001b[0;31m     \u001b[0;32mfor\u001b[0m \u001b[0mbatch_idx\u001b[0m\u001b[0;34m,\u001b[0m \u001b[0mbatch_data\u001b[0m \u001b[0;32min\u001b[0m \u001b[0menumerate\u001b[0m\u001b[0;34m(\u001b[0m\u001b[0mdataloader\u001b[0m\u001b[0;34m)\u001b[0m\u001b[0;34m:\u001b[0m\u001b[0;34m\u001b[0m\u001b[0;34m\u001b[0m\u001b[0m\n\u001b[0m\u001b[1;32m     12\u001b[0m         \u001b[0mimages\u001b[0m \u001b[0;34m=\u001b[0m \u001b[0mbatch_data\u001b[0m\u001b[0;34m[\u001b[0m\u001b[0;34m\"stimuli\"\u001b[0m\u001b[0;34m]\u001b[0m\u001b[0;34m.\u001b[0m\u001b[0mto\u001b[0m\u001b[0;34m(\u001b[0m\u001b[0mdevice\u001b[0m\u001b[0;34m)\u001b[0m\u001b[0;34m\u001b[0m\u001b[0;34m\u001b[0m\u001b[0m\n\u001b[1;32m     13\u001b[0m         \u001b[0mfdm\u001b[0m \u001b[0;34m=\u001b[0m \u001b[0mbatch_data\u001b[0m\u001b[0;34m[\u001b[0m\u001b[0;34m\"fdm\"\u001b[0m\u001b[0;34m]\u001b[0m\u001b[0;34m.\u001b[0m\u001b[0mto\u001b[0m\u001b[0;34m(\u001b[0m\u001b[0mdevice\u001b[0m\u001b[0;34m)\u001b[0m\u001b[0;34m\u001b[0m\u001b[0;34m\u001b[0m\u001b[0m\n",
      "\u001b[0;32m/usr/local/lib/python3.11/dist-packages/torch/utils/data/dataloader.py\u001b[0m in \u001b[0;36m__next__\u001b[0;34m(self)\u001b[0m\n\u001b[1;32m    706\u001b[0m                 \u001b[0;31m# TODO(https://github.com/pytorch/pytorch/issues/76750)\u001b[0m\u001b[0;34m\u001b[0m\u001b[0;34m\u001b[0m\u001b[0m\n\u001b[1;32m    707\u001b[0m                 \u001b[0mself\u001b[0m\u001b[0;34m.\u001b[0m\u001b[0m_reset\u001b[0m\u001b[0;34m(\u001b[0m\u001b[0;34m)\u001b[0m  \u001b[0;31m# type: ignore[call-arg]\u001b[0m\u001b[0;34m\u001b[0m\u001b[0;34m\u001b[0m\u001b[0m\n\u001b[0;32m--> 708\u001b[0;31m             \u001b[0mdata\u001b[0m \u001b[0;34m=\u001b[0m \u001b[0mself\u001b[0m\u001b[0;34m.\u001b[0m\u001b[0m_next_data\u001b[0m\u001b[0;34m(\u001b[0m\u001b[0;34m)\u001b[0m\u001b[0;34m\u001b[0m\u001b[0;34m\u001b[0m\u001b[0m\n\u001b[0m\u001b[1;32m    709\u001b[0m             \u001b[0mself\u001b[0m\u001b[0;34m.\u001b[0m\u001b[0m_num_yielded\u001b[0m \u001b[0;34m+=\u001b[0m \u001b[0;36m1\u001b[0m\u001b[0;34m\u001b[0m\u001b[0;34m\u001b[0m\u001b[0m\n\u001b[1;32m    710\u001b[0m             if (\n",
      "\u001b[0;32m/usr/local/lib/python3.11/dist-packages/torch/utils/data/dataloader.py\u001b[0m in \u001b[0;36m_next_data\u001b[0;34m(self)\u001b[0m\n\u001b[1;32m    762\u001b[0m     \u001b[0;32mdef\u001b[0m \u001b[0m_next_data\u001b[0m\u001b[0;34m(\u001b[0m\u001b[0mself\u001b[0m\u001b[0;34m)\u001b[0m\u001b[0;34m:\u001b[0m\u001b[0;34m\u001b[0m\u001b[0;34m\u001b[0m\u001b[0m\n\u001b[1;32m    763\u001b[0m         \u001b[0mindex\u001b[0m \u001b[0;34m=\u001b[0m \u001b[0mself\u001b[0m\u001b[0;34m.\u001b[0m\u001b[0m_next_index\u001b[0m\u001b[0;34m(\u001b[0m\u001b[0;34m)\u001b[0m  \u001b[0;31m# may raise StopIteration\u001b[0m\u001b[0;34m\u001b[0m\u001b[0;34m\u001b[0m\u001b[0m\n\u001b[0;32m--> 764\u001b[0;31m         \u001b[0mdata\u001b[0m \u001b[0;34m=\u001b[0m \u001b[0mself\u001b[0m\u001b[0;34m.\u001b[0m\u001b[0m_dataset_fetcher\u001b[0m\u001b[0;34m.\u001b[0m\u001b[0mfetch\u001b[0m\u001b[0;34m(\u001b[0m\u001b[0mindex\u001b[0m\u001b[0;34m)\u001b[0m  \u001b[0;31m# may raise StopIteration\u001b[0m\u001b[0;34m\u001b[0m\u001b[0;34m\u001b[0m\u001b[0m\n\u001b[0m\u001b[1;32m    765\u001b[0m         \u001b[0;32mif\u001b[0m \u001b[0mself\u001b[0m\u001b[0;34m.\u001b[0m\u001b[0m_pin_memory\u001b[0m\u001b[0;34m:\u001b[0m\u001b[0;34m\u001b[0m\u001b[0;34m\u001b[0m\u001b[0m\n\u001b[1;32m    766\u001b[0m             \u001b[0mdata\u001b[0m \u001b[0;34m=\u001b[0m \u001b[0m_utils\u001b[0m\u001b[0;34m.\u001b[0m\u001b[0mpin_memory\u001b[0m\u001b[0;34m.\u001b[0m\u001b[0mpin_memory\u001b[0m\u001b[0;34m(\u001b[0m\u001b[0mdata\u001b[0m\u001b[0;34m,\u001b[0m \u001b[0mself\u001b[0m\u001b[0;34m.\u001b[0m\u001b[0m_pin_memory_device\u001b[0m\u001b[0;34m)\u001b[0m\u001b[0;34m\u001b[0m\u001b[0;34m\u001b[0m\u001b[0m\n",
      "\u001b[0;32m/usr/local/lib/python3.11/dist-packages/torch/utils/data/_utils/fetch.py\u001b[0m in \u001b[0;36mfetch\u001b[0;34m(self, possibly_batched_index)\u001b[0m\n\u001b[1;32m     50\u001b[0m                 \u001b[0mdata\u001b[0m \u001b[0;34m=\u001b[0m \u001b[0mself\u001b[0m\u001b[0;34m.\u001b[0m\u001b[0mdataset\u001b[0m\u001b[0;34m.\u001b[0m\u001b[0m__getitems__\u001b[0m\u001b[0;34m(\u001b[0m\u001b[0mpossibly_batched_index\u001b[0m\u001b[0;34m)\u001b[0m\u001b[0;34m\u001b[0m\u001b[0;34m\u001b[0m\u001b[0m\n\u001b[1;32m     51\u001b[0m             \u001b[0;32melse\u001b[0m\u001b[0;34m:\u001b[0m\u001b[0;34m\u001b[0m\u001b[0;34m\u001b[0m\u001b[0m\n\u001b[0;32m---> 52\u001b[0;31m                 \u001b[0mdata\u001b[0m \u001b[0;34m=\u001b[0m \u001b[0;34m[\u001b[0m\u001b[0mself\u001b[0m\u001b[0;34m.\u001b[0m\u001b[0mdataset\u001b[0m\u001b[0;34m[\u001b[0m\u001b[0midx\u001b[0m\u001b[0;34m]\u001b[0m \u001b[0;32mfor\u001b[0m \u001b[0midx\u001b[0m \u001b[0;32min\u001b[0m \u001b[0mpossibly_batched_index\u001b[0m\u001b[0;34m]\u001b[0m\u001b[0;34m\u001b[0m\u001b[0;34m\u001b[0m\u001b[0m\n\u001b[0m\u001b[1;32m     53\u001b[0m         \u001b[0;32melse\u001b[0m\u001b[0;34m:\u001b[0m\u001b[0;34m\u001b[0m\u001b[0;34m\u001b[0m\u001b[0m\n\u001b[1;32m     54\u001b[0m             \u001b[0mdata\u001b[0m \u001b[0;34m=\u001b[0m \u001b[0mself\u001b[0m\u001b[0;34m.\u001b[0m\u001b[0mdataset\u001b[0m\u001b[0;34m[\u001b[0m\u001b[0mpossibly_batched_index\u001b[0m\u001b[0;34m]\u001b[0m\u001b[0;34m\u001b[0m\u001b[0;34m\u001b[0m\u001b[0m\n",
      "\u001b[0;32m/usr/local/lib/python3.11/dist-packages/torch/utils/data/_utils/fetch.py\u001b[0m in \u001b[0;36m<listcomp>\u001b[0;34m(.0)\u001b[0m\n\u001b[1;32m     50\u001b[0m                 \u001b[0mdata\u001b[0m \u001b[0;34m=\u001b[0m \u001b[0mself\u001b[0m\u001b[0;34m.\u001b[0m\u001b[0mdataset\u001b[0m\u001b[0;34m.\u001b[0m\u001b[0m__getitems__\u001b[0m\u001b[0;34m(\u001b[0m\u001b[0mpossibly_batched_index\u001b[0m\u001b[0;34m)\u001b[0m\u001b[0;34m\u001b[0m\u001b[0;34m\u001b[0m\u001b[0m\n\u001b[1;32m     51\u001b[0m             \u001b[0;32melse\u001b[0m\u001b[0;34m:\u001b[0m\u001b[0;34m\u001b[0m\u001b[0;34m\u001b[0m\u001b[0m\n\u001b[0;32m---> 52\u001b[0;31m                 \u001b[0mdata\u001b[0m \u001b[0;34m=\u001b[0m \u001b[0;34m[\u001b[0m\u001b[0mself\u001b[0m\u001b[0;34m.\u001b[0m\u001b[0mdataset\u001b[0m\u001b[0;34m[\u001b[0m\u001b[0midx\u001b[0m\u001b[0;34m]\u001b[0m \u001b[0;32mfor\u001b[0m \u001b[0midx\u001b[0m \u001b[0;32min\u001b[0m \u001b[0mpossibly_batched_index\u001b[0m\u001b[0;34m]\u001b[0m\u001b[0;34m\u001b[0m\u001b[0;34m\u001b[0m\u001b[0m\n\u001b[0m\u001b[1;32m     53\u001b[0m         \u001b[0;32melse\u001b[0m\u001b[0;34m:\u001b[0m\u001b[0;34m\u001b[0m\u001b[0;34m\u001b[0m\u001b[0m\n\u001b[1;32m     54\u001b[0m             \u001b[0mdata\u001b[0m \u001b[0;34m=\u001b[0m \u001b[0mself\u001b[0m\u001b[0;34m.\u001b[0m\u001b[0mdataset\u001b[0m\u001b[0;34m[\u001b[0m\u001b[0mpossibly_batched_index\u001b[0m\u001b[0;34m]\u001b[0m\u001b[0;34m\u001b[0m\u001b[0;34m\u001b[0m\u001b[0m\n",
      "\u001b[0;32m<ipython-input-15-f6a9cc339190>\u001b[0m in \u001b[0;36m__getitem__\u001b[0;34m(self, idx)\u001b[0m\n\u001b[1;32m     57\u001b[0m         \u001b[0mstimuli_path\u001b[0m\u001b[0;34m,\u001b[0m \u001b[0mfdm_path\u001b[0m\u001b[0;34m,\u001b[0m \u001b[0mtask\u001b[0m \u001b[0;34m=\u001b[0m \u001b[0mself\u001b[0m\u001b[0;34m.\u001b[0m\u001b[0msamples\u001b[0m\u001b[0;34m[\u001b[0m\u001b[0midx\u001b[0m\u001b[0;34m]\u001b[0m\u001b[0;34m\u001b[0m\u001b[0;34m\u001b[0m\u001b[0m\n\u001b[1;32m     58\u001b[0m         \u001b[0mstimuli_img\u001b[0m \u001b[0;34m=\u001b[0m \u001b[0mImage\u001b[0m\u001b[0;34m.\u001b[0m\u001b[0mopen\u001b[0m\u001b[0;34m(\u001b[0m\u001b[0mstimuli_path\u001b[0m\u001b[0;34m)\u001b[0m\u001b[0;34m.\u001b[0m\u001b[0mconvert\u001b[0m\u001b[0;34m(\u001b[0m\u001b[0;34m\"RGB\"\u001b[0m\u001b[0;34m)\u001b[0m\u001b[0;34m\u001b[0m\u001b[0;34m\u001b[0m\u001b[0m\n\u001b[0;32m---> 59\u001b[0;31m         \u001b[0mfdm_img\u001b[0m \u001b[0;34m=\u001b[0m \u001b[0mImage\u001b[0m\u001b[0;34m.\u001b[0m\u001b[0mopen\u001b[0m\u001b[0;34m(\u001b[0m\u001b[0mfdm_path\u001b[0m\u001b[0;34m)\u001b[0m\u001b[0;34m.\u001b[0m\u001b[0mconvert\u001b[0m\u001b[0;34m(\u001b[0m\u001b[0;34m\"L\"\u001b[0m\u001b[0;34m)\u001b[0m\u001b[0;34m\u001b[0m\u001b[0;34m\u001b[0m\u001b[0m\n\u001b[0m\u001b[1;32m     60\u001b[0m \u001b[0;34m\u001b[0m\u001b[0m\n\u001b[1;32m     61\u001b[0m         \u001b[0;32mif\u001b[0m \u001b[0mself\u001b[0m\u001b[0;34m.\u001b[0m\u001b[0mtransform\u001b[0m\u001b[0;34m:\u001b[0m\u001b[0;34m\u001b[0m\u001b[0;34m\u001b[0m\u001b[0m\n",
      "\u001b[0;32m/usr/local/lib/python3.11/dist-packages/PIL/Image.py\u001b[0m in \u001b[0;36mopen\u001b[0;34m(fp, mode, formats)\u001b[0m\n\u001b[1;32m   3474\u001b[0m         \u001b[0mexclusive_fp\u001b[0m \u001b[0;34m=\u001b[0m \u001b[0;32mTrue\u001b[0m\u001b[0;34m\u001b[0m\u001b[0;34m\u001b[0m\u001b[0m\n\u001b[1;32m   3475\u001b[0m \u001b[0;34m\u001b[0m\u001b[0m\n\u001b[0;32m-> 3476\u001b[0;31m     \u001b[0mprefix\u001b[0m \u001b[0;34m=\u001b[0m \u001b[0mfp\u001b[0m\u001b[0;34m.\u001b[0m\u001b[0mread\u001b[0m\u001b[0;34m(\u001b[0m\u001b[0;36m16\u001b[0m\u001b[0;34m)\u001b[0m\u001b[0;34m\u001b[0m\u001b[0;34m\u001b[0m\u001b[0m\n\u001b[0m\u001b[1;32m   3477\u001b[0m \u001b[0;34m\u001b[0m\u001b[0m\n\u001b[1;32m   3478\u001b[0m     \u001b[0mpreinit\u001b[0m\u001b[0;34m(\u001b[0m\u001b[0;34m)\u001b[0m\u001b[0;34m\u001b[0m\u001b[0;34m\u001b[0m\u001b[0m\n",
      "\u001b[0;31mKeyboardInterrupt\u001b[0m: "
     ]
    }
   ]
  },
  {
   "cell_type": "markdown",
   "source": [
    "### Save the model"
   ],
   "metadata": {
    "id": "xnFCh-mOYk9v"
   }
  },
  {
   "cell_type": "code",
   "source": [
    "import os\n",
    "\n",
    "# Path to your models folder inside TDSP\n",
    "models_dir = \"/content/drive/MyDrive/TDSP/models\"\n",
    "# Create the folder if it doesn't exist\n",
    "os.makedirs(models_dir, exist_ok=True)\n",
    "\n",
    "# Full path where you want to save your model\n",
    "save_path = os.path.join(models_dir, \"yolo_task_saliency_model_v15epoch.pth\")\n",
    "\n",
    "# Save the model state dictionary\n",
    "torch.save(model.state_dict(), save_path)\n",
    "print(f\"Model saved to {save_path}\")"
   ],
   "metadata": {
    "colab": {
     "base_uri": "https://localhost:8080/"
    },
    "id": "LnB1NffpUF-s",
    "outputId": "37844460-f193-4f28-8fa4-9d21680cf4ab"
   },
   "execution_count": null,
   "outputs": [
    {
     "output_type": "stream",
     "name": "stdout",
     "text": [
      "Model saved to /content/drive/MyDrive/TDSP/models/yolo_task_saliency_model_v15epoch.pth\n"
     ]
    }
   ]
  },
  {
   "cell_type": "markdown",
   "source": [
    "## Inference\n"
   ],
   "metadata": {
    "id": "BF5nOw9Nttft"
   }
  },
  {
   "cell_type": "markdown",
   "source": [
    "Evaluation & Visualization"
   ],
   "metadata": {
    "id": "G-xTBSP8y-t1"
   }
  },
  {
   "cell_type": "code",
   "source": [
    "import torch\n",
    "import matplotlib.pyplot as plt\n",
    "\n",
    "# 1. Define the tasks you want to visualize (one sample per task).\n",
    "tasks_to_show = [\"task1\", \"task2\", \"task3\", \"task4\"]\n",
    "\n",
    "# 2. Gather exactly one sample per task from your dataset.\n",
    "samples = []\n",
    "for task_name in tasks_to_show:\n",
    "    # Find the first sample in the dataset that matches this task.\n",
    "    for i in range(len(dataset)):\n",
    "        sample = dataset[i]  # sample is a dict with keys: \"stimuli\", \"fdm\", \"task\", \"task_description\"\n",
    "        if sample[\"task\"] == task_name:\n",
    "            samples.append(sample)\n",
    "            break\n",
    "\n",
    "# 3. Convert these samples into a single batch.\n",
    "images_list = [s[\"stimuli\"] for s in samples]          # Each is [3, H, W] (a torch.Tensor).\n",
    "fdm_list = [s[\"fdm\"] for s in samples]                 # Each is [1, H, W].\n",
    "task_descs = [s[\"task_description\"] for s in samples]  # Each is a string.\n",
    "\n",
    "images_batch = torch.stack(images_list, dim=0)  # shape: [4, 3, H, W]\n",
    "fdm_batch = torch.stack(fdm_list, dim=0)        # shape: [4, 1, H, W]\n",
    "\n",
    "# 4. Load your model from Drive (make sure YOLOTaskSaliencyModel is defined).\n",
    "device = torch.device(\"cuda\" if torch.cuda.is_available() else \"cpu\")\n",
    "model = YOLOTaskSaliencyModel().to(device)\n",
    "\n",
    "saved_model_path = \"/content/drive/MyDrive/TDSP/models/yolo_task_saliency_model_v15epoch.pth\"\n",
    "model.load_state_dict(torch.load(saved_model_path, map_location=device))\n",
    "model.eval()\n",
    "\n",
    "# 5. Move your batch to the same device as the model.\n",
    "images_batch = images_batch.to(device)\n",
    "fdm_batch = fdm_batch.to(device)\n",
    "\n",
    "# 6. Run inference on this 4-sample batch.\n",
    "with torch.no_grad():\n",
    "    pred_saliency = model(images_batch, task_descs)  # [4, 1, H, W]\n",
    "\n",
    "# 7. Convert predictions and ground truth to NumPy arrays for plotting.\n",
    "pred_saliency_np = pred_saliency.cpu().numpy()  # shape: [4, 1, H, W]\n",
    "fdm_np = fdm_batch.cpu().numpy()                # shape: [4, 1, H, W]\n",
    "\n",
    "# 8. Plot them in a 2×4 grid (top row = predictions, bottom row = ground truth).\n",
    "num_samples = len(samples)  # should be 4\n",
    "fig, axes = plt.subplots(2, num_samples, figsize=(15, 6))\n",
    "\n",
    "for i in range(num_samples):\n",
    "    # Show predicted saliency map (in grayscale)\n",
    "    axes[0, i].imshow(pred_saliency_np[i, 0], cmap='gray')\n",
    "    axes[0, i].set_title(f\"Predicted\\nTask: {task_descs[i]}\")\n",
    "    axes[0, i].axis('off')\n",
    "\n",
    "    # Show ground-truth saliency map\n",
    "    axes[1, i].imshow(fdm_np[i, 0], cmap='gray')\n",
    "    axes[1, i].set_title(\"Ground Truth\")\n",
    "    axes[1, i].axis('off')\n",
    "\n",
    "plt.tight_layout()\n",
    "plt.show()"
   ],
   "metadata": {
    "id": "0h_7Nyntp4PA",
    "outputId": "9d82588b-8b89-4def-c746-5734d88ba156",
    "colab": {
     "base_uri": "https://localhost:8080/",
     "height": 564
    }
   },
   "execution_count": null,
   "outputs": [
    {
     "output_type": "stream",
     "name": "stdout",
     "text": [
      "PRO TIP 💡 Replace 'model=yolov5s.pt' with new 'model=yolov5su.pt'.\n",
      "YOLOv5 'u' models are trained with https://github.com/ultralytics/ultralytics and feature improved performance vs standard YOLOv5 models trained with https://github.com/ultralytics/yolov5.\n",
      "\n"
     ]
    },
    {
     "output_type": "display_data",
     "data": {
      "text/plain": [
       "<Figure size 1500x600 with 8 Axes>"
      ],
      "image/png": "[encoded data removed]"
     },
     "metadata": {}
    }
   ]
  },
  {
   "cell_type": "markdown",
   "source": [
    "Evaluate model performance"
   ],
   "metadata": {
    "id": "buITmXRFRjPp"
   }
  },
  {
   "cell_type": "code",
   "source": [
    "import torch\n",
    "\n",
    "def correlation_coefficient(pred, gt):\n",
    "    \"\"\"\n",
    "    Computes Pearson's Correlation Coefficient between two saliency maps.\n",
    "    pred, gt: torch.Tensor of shape [H, W], assumed float in [0,1].\n",
    "    Returns a scalar tensor (higher is better).\n",
    "    \"\"\"\n",
    "    # Flatten to 1D\n",
    "    pred_flat = pred.view(-1)\n",
    "    gt_flat = gt.view(-1)\n",
    "\n",
    "    pred_mean = pred_flat.mean()\n",
    "    gt_mean = gt_flat.mean()\n",
    "\n",
    "    numerator = ((pred_flat - pred_mean) * (gt_flat - gt_mean)).sum()\n",
    "    denominator = torch.sqrt(((pred_flat - pred_mean)**2).sum() * ((gt_flat - gt_mean)**2).sum()) + 1e-12\n",
    "\n",
    "    return numerator / denominator\n",
    "\n",
    "def kl_divergence(pred, gt):\n",
    "    \"\"\"\n",
    "    Computes KL Divergence between two saliency maps treated as probability distributions.\n",
    "    pred, gt: torch.Tensor of shape [H, W], assumed float in [0,1].\n",
    "    Returns a scalar tensor (lower is better).\n",
    "    \"\"\"\n",
    "    eps = 1e-12\n",
    "    # Normalize so each sums to 1\n",
    "    pred_norm = pred / (pred.sum() + eps)\n",
    "    gt_norm = gt / (gt.sum() + eps)\n",
    "\n",
    "    return (gt_norm * torch.log((gt_norm + eps) / (pred_norm + eps))).sum()\n"
   ],
   "metadata": {
    "id": "sW_Vcg8qqBf8"
   },
   "execution_count": null,
   "outputs": []
  },
  {
   "cell_type": "code",
   "source": [
    "def evaluate_saliency_model(model, dataloader, device):\n",
    "    model.eval()\n",
    "    cc_scores = []\n",
    "    kld_scores = []\n",
    "\n",
    "    with torch.no_grad():\n",
    "        for batch_data in dataloader:\n",
    "            images = batch_data[\"stimuli\"].to(device)  # [B, 3, H, W]\n",
    "            fdm = batch_data[\"fdm\"].to(device)         # [B, 1, H, W]\n",
    "            task_descs = batch_data[\"task_description\"]\n",
    "\n",
    "            # 1. Forward pass\n",
    "            pred_saliency = model(images, task_descs)  # [B, 1, H, W]\n",
    "\n",
    "            # 2. For each item in the batch\n",
    "            for i in range(images.size(0)):\n",
    "                pred_map = pred_saliency[i, 0]  # shape [H, W]\n",
    "                gt_map = fdm[i, 0]             # shape [H, W]\n",
    "\n",
    "                # 3. Compute metrics\n",
    "                cc = correlation_coefficient(pred_map, gt_map)\n",
    "                kld = kl_divergence(pred_map, gt_map)\n",
    "\n",
    "                cc_scores.append(cc.item())\n",
    "                kld_scores.append(kld.item())\n",
    "\n",
    "    # 4. Compute averages\n",
    "    avg_cc = sum(cc_scores) / len(cc_scores) if cc_scores else 0\n",
    "    avg_kld = sum(kld_scores) / len(kld_scores) if kld_scores else 0\n",
    "\n",
    "    print(f\"Average CC: {avg_cc:.4f}\")\n",
    "    print(f\"Average KLD: {avg_kld:.4f}\")\n",
    "    return avg_cc, avg_kld\n",
    "\n",
    "# Example usage:\n",
    "device = torch.device(\"cuda\" if torch.cuda.is_available() else \"cpu\")\n",
    "avg_cc, avg_kld = evaluate_saliency_model(model, dataloader, device)\n"
   ],
   "metadata": {
    "id": "u2DYZVgBRlzP"
   },
   "execution_count": null,
   "outputs": []
  }
 ]
}