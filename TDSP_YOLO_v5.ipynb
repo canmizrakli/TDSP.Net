{
 "nbformat": 4,
 "nbformat_minor": 0,
 "metadata": {
  "colab": {
   "provenance": [],
   "collapsed_sections": [
    "sOcOlatpYeaQ",
    "Rf84tUFzBAO4"
   ],
   "gpuType": "A100",
   "authorship_tag": "ABX9TyOoU67qlFDGHz5MwzqoWr+H",
   "include_colab_link": true
  },
  "kernelspec": {
   "name": "python3",
   "display_name": "Python 3"
  },
  "language_info": {
   "name": "python"
  },
  "accelerator": "GPU"
 },
 "cells": [
  {
   "cell_type": "markdown",
   "metadata": {
    "id": "view-in-github",
    "colab_type": "text"
   },
   "source": [
    "<a href=\"https://colab.research.google.com/github/canmizrakli/TDSP.Net/blob/main/TDSP_YOLO_v5.ipynb\" target=\"_parent\"><img src=\"https://colab.research.google.com/assets/colab-badge.svg\" alt=\"Open In Colab\"/></a>"
   ]
  },
  {
   "cell_type": "markdown",
   "source": [
    "# YOLO-based Task-driven Visual Saliency Prediction\n",
    "\n"
   ],
   "metadata": {
    "id": "A7GG_LwmgPIw"
   }
  },
  {
   "cell_type": "markdown",
   "source": [
    "This notebook demonstrates a complete workflow for building a YOLO-based architecture for task-based visual saliency prediction.\n",
    "\n",
    "**Dataset Structure**  \n",
    "Your dataset (stored on Google Drive at `/content/drive/MyDrive/TDSP/Task-based-eye-fixation-dataset_1024x768`) should be organized as follows:\n",
    "\n",
    "\n",
    "\n",
    "**Task Definitions**  \n",
    "- **task1** → free view  \n",
    "- **task2** → count people  \n",
    "- **task3** → detect the emotion  \n",
    "- **task4** → identify the action\n",
    "\n",
    "The notebook includes:  \n",
    "- Paired data augmentation  \n",
    "- A YOLO-based backbone (pre-trained)  \n",
    "- A TaskEncoder using Sentence-BERT for rich task embeddings  \n",
    "- A saliency-specific loss function"
   ],
   "metadata": {
    "id": "SVBlc8flNsBC"
   }
  },
  {
   "cell_type": "markdown",
   "source": [
    "## Preprocessing"
   ],
   "metadata": {
    "id": "3rG2LzGKtahj"
   }
  },
  {
   "cell_type": "code",
   "source": [
    "# 1. Mount Google Drive\n",
    "from google.colab import drive\n",
    "drive.mount('/content/drive')"
   ],
   "metadata": {
    "id": "D3FqRtHIgRhN",
    "colab": {
     "base_uri": "https://localhost:8080/"
    },
    "outputId": "5d65e65f-dc63-4c8a-84a9-46296f9ca4b0"
   },
   "execution_count": 1,
   "outputs": [
    {
     "output_type": "stream",
     "name": "stdout",
     "text": [
      "Mounted at /content/drive\n"
     ]
    }
   ]
  },
  {
   "cell_type": "code",
   "source": [
    "# 2. Install Dependencies\n",
    "!pip install --upgrade torch torchvision einops\n",
    "!pip install ultralytics"
   ],
   "metadata": {
    "collapsed": true,
    "id": "atkSTRsggTrO"
   },
   "execution_count": null,
   "outputs": []
  },
  {
   "cell_type": "markdown",
   "source": [
    "### Data Augmentation & Paired Transforms"
   ],
   "metadata": {
    "id": "u1nt_deHwyRv"
   }
  },
  {
   "cell_type": "code",
   "source": [
    "import random\n",
    "import torchvision.transforms.functional as TF  # Use TF to avoid conflicts with torch.nn.functional\n",
    "\n",
    "# Paired random horizontal flip\n",
    "class PairedRandomHorizontalFlip:\n",
    "    def __init__(self, p=0.5):\n",
    "        self.p = p\n",
    "\n",
    "    def __call__(self, img, sal):\n",
    "        if random.random() < self.p:\n",
    "            img = TF.hflip(img)\n",
    "            sal = TF.hflip(sal)\n",
    "        return img, sal\n",
    "\n",
    "# Paired random rotation\n",
    "class PairedRandomRotation:\n",
    "    def __init__(self, degrees=10):\n",
    "        self.degrees = degrees\n",
    "\n",
    "    def __call__(self, img, sal):\n",
    "        angle = random.uniform(-self.degrees, self.degrees)\n",
    "        img = TF.rotate(img, angle)\n",
    "        sal = TF.rotate(sal, angle)\n",
    "        return img, sal"
   ],
   "metadata": {
    "id": "Jkc_8acKwzzH"
   },
   "execution_count": 3,
   "outputs": []
  },
  {
   "cell_type": "markdown",
   "source": [
    "## Dataset Definition"
   ],
   "metadata": {
    "id": "24M8sb9Kggy8"
   }
  },
  {
   "cell_type": "code",
   "source": [
    "import os\n",
    "import glob\n",
    "import torch\n",
    "from torch.utils.data import Dataset, DataLoader\n",
    "from PIL import Image\n",
    "import torchvision.transforms as T\n",
    "\n",
    "# Define task mapping from folder names to descriptive labels.\n",
    "task_mapping = {\n",
    "    \"task1\": \"free view\",\n",
    "    \"task2\": \"count people\",\n",
    "    \"task3\": \"detect the emotion\",\n",
    "    \"task4\": \"identify the action\"\n",
    "}\n",
    "\n",
    "class TaskSaliencyDataset(Dataset):\n",
    "    def __init__(self, data_root, task_mapping, transform=None, saliency_transform=None, paired_transforms=None):\n",
    "        \"\"\"\n",
    "        data_root: Root path of the dataset.\n",
    "        task_mapping: Dictionary mapping task folder names (e.g., \"task1\") to task descriptions.\n",
    "        transform: Transforms for stimuli images (e.g., resizing, ToTensor).\n",
    "        saliency_transform: Transforms for saliency maps.\n",
    "        paired_transforms: List of callables that apply the same random transform to both stimuli and saliency.\n",
    "        \"\"\"\n",
    "        self.data_root = data_root\n",
    "        self.task_mapping = task_mapping\n",
    "        self.transform = transform\n",
    "        self.saliency_transform = saliency_transform\n",
    "        self.paired_transforms = paired_transforms\n",
    "\n",
    "        self.tasks = list(task_mapping.keys())\n",
    "        self.samples = []\n",
    "\n",
    "        # Iterate over each task folder and gather samples\n",
    "        for task in self.tasks:\n",
    "            task_folder = os.path.join(data_root, task)\n",
    "            fdm_folder = os.path.join(task_folder, \"fdm\")\n",
    "            fdm_files = glob.glob(os.path.join(fdm_folder, \"*.png\"))\n",
    "            for fdm_file in fdm_files:\n",
    "                filename = os.path.basename(fdm_file)\n",
    "                base = os.path.splitext(filename)[0]\n",
    "                # Look for corresponding stimuli image (.jpg or .png)\n",
    "                stimuli_path_jpg = os.path.join(data_root, \"stimuli\", base + \".jpg\")\n",
    "                stimuli_path_png = os.path.join(data_root, \"stimuli\", base + \".png\")\n",
    "                if os.path.exists(stimuli_path_jpg):\n",
    "                    stimuli_path = stimuli_path_jpg\n",
    "                elif os.path.exists(stimuli_path_png):\n",
    "                    stimuli_path = stimuli_path_png\n",
    "                else:\n",
    "                    continue\n",
    "                self.samples.append((stimuli_path, fdm_file, task))\n",
    "\n",
    "    def __len__(self):\n",
    "        return len(self.samples)\n",
    "\n",
    "    def __getitem__(self, idx):\n",
    "        stimuli_path, fdm_path, task = self.samples[idx]\n",
    "        stimuli_img = Image.open(stimuli_path).convert(\"RGB\")\n",
    "        fdm_img = Image.open(fdm_path).convert(\"L\")\n",
    "\n",
    "        if self.transform:\n",
    "            stimuli_img = self.transform(stimuli_img)\n",
    "        if self.saliency_transform:\n",
    "            fdm_img = self.saliency_transform(fdm_img)\n",
    "        else:\n",
    "            fdm_img = T.ToTensor()(fdm_img)\n",
    "\n",
    "        # Apply paired transforms if defined\n",
    "        if self.paired_transforms is not None:\n",
    "            for t in self.paired_transforms:\n",
    "                stimuli_img, fdm_img = t(stimuli_img, fdm_img)\n",
    "\n",
    "        task_description = self.task_mapping[task]\n",
    "\n",
    "        return {\n",
    "            \"stimuli\": stimuli_img,\n",
    "            \"fdm\": fdm_img,\n",
    "            \"task\": task,\n",
    "            \"task_description\": task_description\n",
    "        }\n",
    "\n",
    "# Define transforms\n",
    "input_transform = T.Compose([\n",
    "    T.Resize((384, 384)),\n",
    "    T.ToTensor(),\n",
    "])\n",
    "saliency_transform = T.Compose([\n",
    "    T.Resize((384, 384)),\n",
    "    T.ToTensor(),\n",
    "])\n",
    "paired_transforms = [\n",
    "    PairedRandomHorizontalFlip(p=0.5),\n",
    "    PairedRandomRotation(degrees=10)\n",
    "]\n",
    "\n",
    "# Path to your dataset (adjust the path if needed)\n",
    "DATA_PATH = \"/content/drive/MyDrive/TDSP/Task-based-eye-fixation-dataset_1024x768\"\n",
    "\n",
    "dataset = TaskSaliencyDataset(\n",
    "    data_root=DATA_PATH,\n",
    "    task_mapping=task_mapping,\n",
    "    transform=input_transform,\n",
    "    saliency_transform=saliency_transform,\n",
    "    paired_transforms=paired_transforms\n",
    ")\n",
    "dataloader = DataLoader(dataset, batch_size=8, shuffle=True, num_workers=0)\n",
    "\n",
    "print(\"Tasks found:\", dataset.tasks)\n",
    "print(\"Number of samples:\", len(dataset))\n"
   ],
   "metadata": {
    "id": "2PYNliOdgU3e",
    "colab": {
     "base_uri": "https://localhost:8080/"
    },
    "outputId": "7821caac-11e0-48c2-a2e9-3d7f1bc90339"
   },
   "execution_count": 4,
   "outputs": [
    {
     "output_type": "stream",
     "name": "stdout",
     "text": [
      "Tasks found: ['task1', 'task2', 'task3', 'task4']\n",
      "Number of samples: 1968\n"
     ]
    }
   ]
  },
  {
   "cell_type": "code",
   "source": [
    "from torch.utils.data import random_split, DataLoader\n",
    "import torch\n",
    "\n",
    "total_size = len(dataset)\n",
    "train_size = int(0.70 * total_size)\n",
    "val_size   = int(0.15 * total_size)\n",
    "test_size  = total_size - train_size - val_size\n",
    "\n",
    "# for reproducibility\n",
    "generator = torch.Generator().manual_seed(42)\n",
    "\n",
    "train_ds, val_ds, test_ds = random_split(\n",
    "    dataset,\n",
    "    [train_size, val_size, test_size],\n",
    "    generator=generator\n",
    ")\n",
    "\n",
    "train_loader = DataLoader(train_ds, batch_size=8, shuffle=True,  num_workers=4)\n",
    "val_loader   = DataLoader(val_ds,   batch_size=8, shuffle=False, num_workers=4)\n",
    "test_loader  = DataLoader(test_ds,  batch_size=8, shuffle=False, num_workers=4)\n",
    "\n",
    "print(f\"Train / Val / Test sizes: {len(train_ds)} / {len(val_ds)} / {len(test_ds)}\")\n"
   ],
   "metadata": {
    "colab": {
     "base_uri": "https://localhost:8080/"
    },
    "id": "EJKKrwlU6nR7",
    "outputId": "18d82a0a-bbf6-4b6e-9d48-990a34e811de"
   },
   "execution_count": 5,
   "outputs": [
    {
     "output_type": "stream",
     "name": "stdout",
     "text": [
      "Train / Val / Test sizes: 1377 / 295 / 296\n"
     ]
    }
   ]
  },
  {
   "cell_type": "markdown",
   "source": [
    "## Model Components"
   ],
   "metadata": {
    "id": "S9MhzaNvglvi"
   }
  },
  {
   "cell_type": "markdown",
   "source": [
    "Imports"
   ],
   "metadata": {
    "id": "xGl5b1RupvnT"
   }
  },
  {
   "cell_type": "code",
   "source": [
    "import torch.nn as nn\n",
    "import torch.nn.functional as F\n",
    "from einops import rearrange\n",
    "from ultralytics import YOLO\n",
    "from sentence_transformers import SentenceTransformer"
   ],
   "metadata": {
    "id": "1ijv3WTPovaL",
    "colab": {
     "base_uri": "https://localhost:8080/"
    },
    "outputId": "bb8d0eb3-11ca-49cf-b838-7a70df7b1d48"
   },
   "execution_count": 6,
   "outputs": [
    {
     "output_type": "stream",
     "name": "stdout",
     "text": [
      "Creating new Ultralytics Settings v0.0.6 file ✅ \n",
      "View Ultralytics Settings with 'yolo settings' or at '/root/.config/Ultralytics/settings.json'\n",
      "Update Settings with 'yolo settings key=value', i.e. 'yolo settings runs_dir=path/to/dir'. For help see https://docs.ultralytics.com/quickstart/#ultralytics-settings.\n"
     ]
    }
   ]
  },
  {
   "cell_type": "markdown",
   "source": [
    "###1. Pre-trained YOLO Backbone\n"
   ],
   "metadata": {
    "id": "UCeCe-vnoxNn"
   }
  },
  {
   "cell_type": "markdown",
   "source": [
    "A YOLO (YOLOv5) model with its final detection layers removed, leaving only the feature extraction layers. This part extracts deep visual features from the input image."
   ],
   "metadata": {
    "id": "Kj6LT1ry-pr5"
   }
  },
  {
   "cell_type": "code",
   "source": [
    "class YOLOBackbone(nn.Module):\n",
    "    def __init__(self, model_name=\"yolov5su.pt\"):\n",
    "        super().__init__()\n",
    "        # Load pre-trained YOLO model by specifying the weight file\n",
    "        self.yolo_model = YOLO(model_name)\n",
    "        # Retain only the feature extraction layers (adjust slicing as needed)\n",
    "        self.feature_extractor = self.yolo_model.model.model[:10]\n",
    "\n",
    "    def forward(self, x):\n",
    "        return self.feature_extractor(x)\n",
    "\n",
    "    def train(self, mode=True):\n",
    "        # Override train method to only set training mode on the feature extractor\n",
    "        self.feature_extractor.train(mode)\n",
    "        return self"
   ],
   "metadata": {
    "id": "vB-krZ47o1gA"
   },
   "execution_count": 51,
   "outputs": []
  },
  {
   "cell_type": "markdown",
   "source": [
    "### 2. Feature Pyramid Network (FPN)\n",
    "\n"
   ],
   "metadata": {
    "id": "GA9_wTjKo2gv"
   }
  },
  {
   "cell_type": "markdown",
   "source": [
    "A simple FPN-like module that reduces the channel dimension from (e.g.) 512 to 128. It takes the complex features from the YOLO backbone and simplifies them.This helps unify the feature map so it can be fused with the task embedding."
   ],
   "metadata": {
    "id": "gAuoU4aC-tKC"
   }
  },
  {
   "cell_type": "code",
   "source": [
    "class SimpleFPN(nn.Module):\n",
    "    def __init__(self, in_channels=512, out_channels=128):\n",
    "        super().__init__()\n",
    "        self.conv_out = nn.Conv2d(in_channels, out_channels, kernel_size=1)\n",
    "\n",
    "    def forward(self, backbone_feats):\n",
    "        x = self.conv_out(backbone_feats)\n",
    "        return x"
   ],
   "metadata": {
    "id": "VyL_A3o6pGtJ"
   },
   "execution_count": 8,
   "outputs": []
  },
  {
   "cell_type": "markdown",
   "source": [
    "### 3. Task Encoder\n",
    "\n"
   ],
   "metadata": {
    "id": "WswUT1edpHKC"
   }
  },
  {
   "cell_type": "markdown",
   "source": [
    "Uses Sentence-BERT to convert a short text description (e.g., “count people”) into a dense embedding (e.g., 64 dimensions). This embedding captures semantic information about the task."
   ],
   "metadata": {
    "id": "cUPbCho5-vRD"
   }
  },
  {
   "cell_type": "code",
   "source": [
    "class TaskEncoder(nn.Module):\n",
    "    def __init__(self, output_dim=64):\n",
    "        super().__init__()\n",
    "        self.text_encoder = SentenceTransformer('all-MiniLM-L6-v2')\n",
    "        # Sentence-BERT outputs 384-dimensional embeddings; reduce to output_dim.\n",
    "        self.linear = nn.Linear(384, output_dim)\n",
    "\n",
    "    def forward(self, task_descriptions):\n",
    "        # Process a list of task description strings\n",
    "        embeddings = self.text_encoder.encode(task_descriptions, convert_to_tensor=True)\n",
    "        embeddings = self.linear(embeddings)\n",
    "        return F.relu(embeddings)"
   ],
   "metadata": {
    "id": "NjXrk9UppOO7"
   },
   "execution_count": 9,
   "outputs": []
  },
  {
   "cell_type": "markdown",
   "source": [
    "###4. Transformer Fusion Module\n",
    "\n"
   ],
   "metadata": {
    "id": "4Hl-k5y7pQIc"
   }
  },
  {
   "cell_type": "markdown",
   "source": [
    "  This module fuses visual features with the task description, enabling the model to integrate contextual task information with the image’s visual representation.\n",
    "\n",
    "- **How it works**  \n",
    "  - **Flattening**  \n",
    "    The two-dimensional feature map produced by the YOLO backbone and FPN is reshaped into a one-dimensional sequence of tokens. This process is analogous to decomposing an image into a series of small patches or segments.\n",
    "\n",
    "  - **Adding the Task Token**  \n",
    "    The task embedding, generated by the Task Encoder, is projected into a compatible feature space and then prepended to the sequence as an extra token. This token injects task-specific context into the sequence.\n",
    "\n",
    "  - **Processing**  \n",
    "    The combined sequence—comprising both the visual tokens and the task token—is processed by a transformer encoder. The encoder’s self-attention mechanism learns to correlate and integrate information from both the image details and the task description.\n",
    "\n",
    "  - **Reshaping Back**  \n",
    "    After processing, the enriched sequence is reshaped back into a two-dimensional feature map. This map, now infused with task-aware information, is used by the saliency decoder to generate the final saliency map."
   ],
   "metadata": {
    "id": "q1r-Kske-x_b"
   }
  },
  {
   "cell_type": "code",
   "source": [
    "class TransformerFusion(nn.Module):\n",
    "    def __init__(self, d_model=128, nhead=4, num_layers=1, task_embed_dim=64):\n",
    "        super().__init__()\n",
    "        self.query_proj = nn.Linear(task_embed_dim, d_model)\n",
    "        encoder_layer = nn.TransformerEncoderLayer(d_model=d_model, nhead=nhead)\n",
    "        self.transformer_encoder = nn.TransformerEncoder(encoder_layer, num_layers=num_layers)\n",
    "\n",
    "    def forward(self, vision_feats, task_embed):\n",
    "        B, C, H, W = vision_feats.shape\n",
    "        vision_seq = rearrange(vision_feats, 'b c h w -> (h w) b c')\n",
    "        task_query = self.query_proj(task_embed)\n",
    "        task_query = rearrange(task_query, 'b d -> 1 b d')\n",
    "        fused_seq = torch.cat([task_query, vision_seq], dim=0)\n",
    "        encoded_seq = self.transformer_encoder(fused_seq)\n",
    "        encoded_vision = encoded_seq[1:, :, :]\n",
    "        encoded_vision = rearrange(encoded_vision, '(h w) b c -> b c h w', h=H, w=W)\n",
    "        return encoded_vision"
   ],
   "metadata": {
    "id": "H3JwOWhXpWa5"
   },
   "execution_count": 10,
   "outputs": []
  },
  {
   "cell_type": "markdown",
   "source": [
    "###5. Saliency Decoder\n",
    "\n"
   ],
   "metadata": {
    "id": "0MO8g0oHpWz_"
   }
  },
  {
   "cell_type": "markdown",
   "source": [
    "A small decoder (convolutional layers + batch normalization + ReLU) that converts the fused feature map into a single-channel saliency map. A final sigmoid squashes values into the [0,1] range."
   ],
   "metadata": {
    "id": "md80E2T4-2_i"
   }
  },
  {
   "cell_type": "code",
   "source": [
    "import torch.nn as nn\n",
    "import torch.nn.functional as F\n",
    "\n",
    "class SaliencyDecoder(nn.Module):\n",
    "    def __init__(self, in_channels: int):\n",
    "        super().__init__()\n",
    "        # 1) bring feature channels down\n",
    "        self.conv1   = nn.Conv2d(in_channels,  64, kernel_size=3, padding=1)\n",
    "        # 2) upsample ×2\n",
    "        self.deconv1 = nn.ConvTranspose2d(64,        32,\n",
    "                                          kernel_size=4, stride=2, padding=1)\n",
    "        # 3) upsample ×2 again (so total ×4 from the FPN resolution)\n",
    "        self.deconv2 = nn.ConvTranspose2d(32,         1,\n",
    "                                          kernel_size=4, stride=2, padding=1)\n",
    "\n",
    "    def forward(self, x):\n",
    "        # x is [B, vision_dim, H′, W′] coming out of your transformer\n",
    "        x = F.relu(self.conv1(x))      # still [B,64,H′,W′]\n",
    "        x = F.relu(self.deconv1(x))    # [B,32,2H′,2W′]\n",
    "        x =       self.deconv2(x)      # [B, 1,4H′,4W′]\n",
    "        return torch.sigmoid(x)        # now a full‐resolution map if 4H′=H_inp"
   ],
   "metadata": {
    "id": "IzOztQLcpeb1"
   },
   "execution_count": 11,
   "outputs": []
  },
  {
   "cell_type": "markdown",
   "source": [
    "###6. The Complete Model: YOLOTaskSaliencyModel"
   ],
   "metadata": {
    "id": "UsUDo6OFpjlW"
   }
  },
  {
   "cell_type": "code",
   "source": [
    "device = torch.device(\"cuda\" if torch.cuda.is_available() else \"cpu\")\n",
    "\n",
    "# 6.6 Complete Model: YOLOTaskSaliencyModel\n",
    "class YOLOTaskSaliencyModel(nn.Module):\n",
    "    def __init__(self, task_embed_dim=64, vision_dim=128, nhead=4, num_layers=1):\n",
    "        super().__init__()\n",
    "        self.backbone = YOLOBackbone(model_name=\"yolov5s.pt\")\n",
    "        self.fpn = SimpleFPN(in_channels=512, out_channels=128)  # Updated here\n",
    "        self.task_encoder = TaskEncoder(output_dim=task_embed_dim)\n",
    "        self.transformer_fusion = TransformerFusion(d_model=vision_dim, nhead=nhead,\n",
    "                                                    num_layers=num_layers, task_embed_dim=task_embed_dim)\n",
    "        self.saliency_decoder = SaliencyDecoder(in_channels=vision_dim)\n",
    "\n",
    "    def forward(self, images, task_descriptions):\n",
    "        feat = self.backbone(images)          # Output shape: [B, 512, H/?, W/?]\n",
    "        feat = self.fpn(feat)                 # Now shape becomes [B, 128, H/?, W/?]\n",
    "        task_embed = self.task_encoder(task_descriptions)  # [B, task_embed_dim]\n",
    "        fused_feat = self.transformer_fusion(feat, task_embed)  # [B, 128, H/?, W/?]\n",
    "        saliency_map = self.saliency_decoder(fused_feat)  # [B, 1, H/?, W/?]\n",
    "        return saliency_map"
   ],
   "metadata": {
    "id": "qszHw6OUgid2"
   },
   "execution_count": 12,
   "outputs": []
  },
  {
   "cell_type": "markdown",
   "source": [
    "## Loss Function"
   ],
   "metadata": {
    "id": "PuHxlP11tobx"
   }
  },
  {
   "cell_type": "markdown",
   "source": [
    "Saliency-Specific Loss Function\n",
    "\n",
    "A custom loss combining KL Divergence and (1 - Pearson’s Correlation Coefficient). Encourages the predicted map to match the ground-truth saliency distribution while being correlated with it spatially."
   ],
   "metadata": {
    "id": "zvioZoYwyyjT"
   }
  },
  {
   "cell_type": "code",
   "source": [
    "class SaliencyLoss(nn.Module):\n",
    "    def __init__(self, alpha=1.0, beta=1.0):\n",
    "        \"\"\"\n",
    "        alpha: Weight for the KL Divergence term.\n",
    "        beta: Weight for (1 - Pearson's Correlation Coefficient) term.\n",
    "        \"\"\"\n",
    "        super().__init__()\n",
    "        self.alpha = alpha\n",
    "        self.beta = beta\n",
    "\n",
    "    def forward(self, pred, gt):\n",
    "        # Ensure shape is [B, H, W]\n",
    "        if len(pred.shape) == 4:\n",
    "            pred = pred[:, 0]\n",
    "        if len(gt.shape) == 4:\n",
    "            gt = gt[:, 0]\n",
    "\n",
    "        B, H, W = pred.shape\n",
    "        pred = pred.reshape(B, -1)\n",
    "        gt = gt.reshape(B, -1)\n",
    "        eps = 1e-12\n",
    "        pred_norm = pred / (pred.sum(dim=1, keepdim=True) + eps)\n",
    "        gt_norm = gt / (gt.sum(dim=1, keepdim=True) + eps)\n",
    "\n",
    "        # KL Divergence: sum(gt * log(gt/pred))\n",
    "        kl = (gt_norm * torch.log((gt_norm + eps) / (pred_norm + eps))).sum(dim=1).mean()\n",
    "\n",
    "        # Pearson's Correlation Coefficient (CC)\n",
    "        pred_mean = pred.mean(dim=1, keepdim=True)\n",
    "        gt_mean = gt.mean(dim=1, keepdim=True)\n",
    "        numerator = ((pred - pred_mean) * (gt - gt_mean)).sum(dim=1)\n",
    "        denominator = torch.sqrt(((pred - pred_mean)**2).sum(dim=1) * ((gt - gt_mean)**2).sum(dim=1)) + eps\n",
    "        cc = (numerator / denominator).mean()\n",
    "\n",
    "        loss = self.alpha * kl + self.beta * (1 - cc)\n",
    "        return loss"
   ],
   "metadata": {
    "id": "KWnuKmBVyzQi"
   },
   "execution_count": 13,
   "outputs": []
  },
  {
   "cell_type": "markdown",
   "source": [
    "## Training"
   ],
   "metadata": {
    "id": "6HqtHz9Ytqlz"
   }
  },
  {
   "cell_type": "markdown",
   "source": [
    "### Initial training that calculates loss per batch"
   ],
   "metadata": {
    "id": "RFWYbo_KYXIQ"
   }
  },
  {
   "cell_type": "code",
   "source": [
    "import torch.optim as optim\n",
    "\n",
    "device = torch.device(\"cuda\" if torch.cuda.is_available() else \"cpu\")\n",
    "lr = 1e-4\n",
    "num_epochs = 10\n",
    "\n",
    "model = YOLOTaskSaliencyModel().to(device)\n",
    "optimizer = optim.Adam(model.parameters(), lr=lr)\n",
    "criterion = SaliencyLoss(alpha=1.0, beta=1.0)"
   ],
   "metadata": {
    "colab": {
     "base_uri": "https://localhost:8080/",
     "height": 635,
     "referenced_widgets": [
      "4aa5299795fd44a9bba3dc0ad6782826",
      "0174ad08cc184e77bc63345af67ed19e",
      "7643605b9022437dba74813f18c1669b",
      "5b4e353a9fbb42bc94fb05bc17d10693",
      "be36af63e7634dcf8ae250dc37d4f367",
      "ae63a5d3059945b1b3cde62c3e563d66",
      "20d42dbf88344f42b04c7847b9f06e11",
      "6164d95d3db64171852c35a35319a582",
      "d5d85e113eae4ac0bf6f7b540b16bbac",
      "bff9c71a5d3040fb9b3241b9709d53d8",
      "134e721d5e894982b84bfc1030e4fca4",
      "6b737d7abab04db7a71d7a6193f5d212",
      "61c23a5d8fdf4e69973d09ef9111e2ed",
      "df0c60fa59b94c4398781996fb8ccb4f",
      "1680aad9f86d457496c3a7564a909be7",
      "1f5a3d9e11844d2e8876c98890034e12",
      "714dc15bac864f8cae9b6317fa20d291",
      "7b54629231f7452193174450fa20f2b0",
      "726e7ac31ee44d5c9fb76fa71c1ec7e7",
      "50e116e73b3c422f8ef513dc49f2f0e6",
      "08dec09de73e45019accf548ae2744a2",
      "45c68673069141f9b1c82f55c25996a2",
      "05d636e4250e45c3b5839598330f978a",
      "b8a686690f8d4fdfa3308e9cf2a39e4e",
      "25c7c247418e47a5a4f38f8a9a391dc0",
      "2d4f4ea5fae7485faa37062074443e23",
      "2bfeb50456fc4f31a418ec5897f3a8c1",
      "34583f74e3194d758ead8f0a590ae2eb",
      "538311a16a274617a88f1b5c0fdb66ab",
      "5059103dd08d45efa3e538b07765a1ba",
      "a537832b600a4da996708caea6fd3f24",
      "6222274f720e4bcdbad3a7196e4a8386",
      "c114c2311c9c430f9ef346b558d8fcc5",
      "50b276136a2d4539a17b86d9dc80f2a6",
      "2bf38152ea924ac58f6a3c5c5e0639a0",
      "7a90df97bb95442a9004dfe44814fd1d",
      "2877a1ff47aa4a41bfe2177e9875a637",
      "1c05a88b2e7f4e69ab3aa839bb756ca5",
      "e8efda3ebaeb44e89226e3f814cfc460",
      "f62d267ae4074e2a8748b5651d36607c",
      "45c8e2a9919b488397bc3b56dbaed7f7",
      "dc6a1a38b7cc4d67b494d714b9312f9a",
      "7dd933ff14ae4e1b90a2a451207251ec",
      "caa39bd42d654b2e8c75efd1c99c2591",
      "ee8151a5165d4d90921cbab059f1ee44",
      "abb9f72728104b44aa81567c1d038385",
      "108a8a753ea84c44b0c75666e958abdf",
      "e42f0e5a28784fe7836b4c49573007bd",
      "302d020301f145ebbaa16b23e32a452c",
      "e8730ac318404aa797d2f376cda67cc0",
      "0798cd6a2a7944a7a7cdd87f672ea13d",
      "4c5b947dbc16456fbd137c079e894856",
      "0cebf13d86b44e599f91796946378c42",
      "e4349f93f0944030a6d51869af393902",
      "9852740117644ab3844cd1f278771212",
      "0c15e6b2e6204b3f885396a9d08b29a4",
      "f622548adef14825860059df6989e8a1",
      "292917a506284f3292d83d193ccf3852",
      "f226522049ca45c0b81cf2780d063688",
      "0658e2f4a4f649f7bd3d5bbf2b1efa65",
      "9929540f942248ed9b6b34a619c0ee25",
      "d331c1073033434a94d27233b3d095f7",
      "e82018e583e84531b11e2c0ad900ce3d",
      "e8c31438febc467fb65c22f55b7a95d6",
      "ec31f7afd66042c386c0c4342e598831",
      "b8b854fd015d4ab8b39f70c8e99992fe",
      "20741939473a41cab139ea1be21a2203",
      "a79f135463ec43d78d720f610af20d19",
      "0c96b71fce3549a7abb2ff35746a37ce",
      "52937336c8df4d20b6565e12d5aa86ca",
      "f3b2d410c4dd447c9580494eff90609b",
      "903624c7aebe462f8de098c0a96ea55c",
      "2604f9fa8bdf4e33b44b70b8abe00298",
      "370eed09a1c2452baadaca2fe6a4a21c",
      "d1666a8109444571aa60975e7c02b862",
      "82088626fdac404ca82fd68153829019",
      "c17d9a789a104c9abd891c8bd65eb046",
      "d1691c58b6ca4246a4e45592a24a9b5a",
      "d1a945a5948a4e958c6c0c86640fc269",
      "45a806e2838c43f6b4e2072313d3cbb1",
      "6a1cb51b678547789782a82e746a3720",
      "0b733a3ae9844342b40291063208b273",
      "a65a1918ead1448f80468f940425e5da",
      "8e44be2cfb024589bec2aa5545b72c6d",
      "0b8b76fc3307410f88b43c32cdc59bab",
      "2fd7b89dec5441539fb57c16e473f759",
      "69aef4cd190346a8b5eb419ef8c36a13",
      "79209b6430234bc882a7f12310e1695c",
      "108f566a6f574523a562777f308c90c9",
      "faefb139f2fb4d45b648cad138e91931",
      "4baa7c6506b84139833f0803d0746260",
      "97d276de2f1846e98b8b3e8719917157",
      "9924346a7fb042cea59790bfdd2763f7",
      "68e6849637d04b04b6b690e0ba570feb",
      "3df66c7cf38d40d6a32f18011dd9d119",
      "bf045e3b168b472f8bcd19a0f7799c7c",
      "df05037fbe654427bb74749e03d251f6",
      "1fee1a0adbf54a079b4d51b432ce6675",
      "bfea2e7a4cc44a9bbcb70a300c15c37b",
      "8c60788a3b20455abab611554c55f872",
      "37ade1d0714c4e9c8ff23350a7600121",
      "619a4818affc4e44a456a9b018019eaf",
      "1de1d9cf8be84bbeb8e8cca4ff4c1cdf",
      "1ca3baf90913451cb76a918c214bec9d",
      "562c07a9b77e400bbd6329cabf2b95a9",
      "9a3f1804872c4b91b19bb2d748b7055f",
      "bb0a051bc70e412db6bc23e6170b4938",
      "35e250fc323f4f85a2c1690568ca86dc",
      "317a292de2344966929d7ca3afa9640a",
      "9096bb6b56fe47e696be2e7ccb90f7a6",
      "d0b582f77d424ccf911a4fe59c43835a",
      "79cbd5340dd8443fad8fa2993fe2da91",
      "4eaf5ed554024c01a738890b1fb6c163",
      "47c92caa57c04df0850e5691ab161aba",
      "32ca12ac9ec3458db8ae3973c76f5f37",
      "f0055abd13fd44d6bef324df90d356e7",
      "0b2422206a3243b1be0726dca670d5ce",
      "fa3a19ad3c724bb6b16d8389cf0d4c75",
      "f04cae851f4b4a7cb311345074272593",
      "94af7ae49b51467cbab2b3b4cda6d99f",
      "70bfa718cc104ebaa625b5cd79813571"
     ]
    },
    "id": "uWvrNrYptBhU",
    "outputId": "b5843ff4-90fe-4e3d-859a-089f1e23daff"
   },
   "execution_count": 14,
   "outputs": [
    {
     "output_type": "stream",
     "name": "stdout",
     "text": [
      "PRO TIP 💡 Replace 'model=yolov5s.pt' with new 'model=yolov5su.pt'.\n",
      "YOLOv5 'u' models are trained with https://github.com/ultralytics/ultralytics and feature improved performance vs standard YOLOv5 models trained with https://github.com/ultralytics/yolov5.\n",
      "\n",
      "Downloading https://github.com/ultralytics/assets/releases/download/v8.3.0/yolov5su.pt to 'yolov5su.pt'...\n"
     ]
    },
    {
     "output_type": "stream",
     "name": "stderr",
     "text": [
      "100%|██████████| 17.7M/17.7M [00:00<00:00, 128MB/s] \n",
      "/usr/local/lib/python3.11/dist-packages/huggingface_hub/utils/_auth.py:94: UserWarning: \n",
      "The secret `HF_TOKEN` does not exist in your Colab secrets.\n",
      "To authenticate with the Hugging Face Hub, create a token in your settings tab (https://huggingface.co/settings/tokens), set it as secret in your Google Colab and restart your session.\n",
      "You will be able to reuse this secret in all of your notebooks.\n",
      "Please note that authentication is recommended but still optional to access public models or datasets.\n",
      "  warnings.warn(\n"
     ]
    },
    {
     "output_type": "display_data",
     "data": {
      "text/plain": [
       "modules.json:   0%|          | 0.00/349 [00:00<?, ?B/s]"
      ],
      "application/vnd.jupyter.widget-view+json": {
       "version_major": 2,
       "version_minor": 0,
       "model_id": "4aa5299795fd44a9bba3dc0ad6782826"
      }
     },
     "metadata": {}
    },
    {
     "output_type": "display_data",
     "data": {
      "text/plain": [
       "config_sentence_transformers.json:   0%|          | 0.00/116 [00:00<?, ?B/s]"
      ],
      "application/vnd.jupyter.widget-view+json": {
       "version_major": 2,
       "version_minor": 0,
       "model_id": "6b737d7abab04db7a71d7a6193f5d212"
      }
     },
     "metadata": {}
    },
    {
     "output_type": "display_data",
     "data": {
      "text/plain": [
       "README.md:   0%|          | 0.00/10.5k [00:00<?, ?B/s]"
      ],
      "application/vnd.jupyter.widget-view+json": {
       "version_major": 2,
       "version_minor": 0,
       "model_id": "05d636e4250e45c3b5839598330f978a"
      }
     },
     "metadata": {}
    },
    {
     "output_type": "display_data",
     "data": {
      "text/plain": [
       "sentence_bert_config.json:   0%|          | 0.00/53.0 [00:00<?, ?B/s]"
      ],
      "application/vnd.jupyter.widget-view+json": {
       "version_major": 2,
       "version_minor": 0,
       "model_id": "50b276136a2d4539a17b86d9dc80f2a6"
      }
     },
     "metadata": {}
    },
    {
     "output_type": "display_data",
     "data": {
      "text/plain": [
       "config.json:   0%|          | 0.00/612 [00:00<?, ?B/s]"
      ],
      "application/vnd.jupyter.widget-view+json": {
       "version_major": 2,
       "version_minor": 0,
       "model_id": "ee8151a5165d4d90921cbab059f1ee44"
      }
     },
     "metadata": {}
    },
    {
     "output_type": "stream",
     "name": "stderr",
     "text": [
      "Xet Storage is enabled for this repo, but the 'hf_xet' package is not installed. Falling back to regular HTTP download. For better performance, install the package with: `pip install huggingface_hub[hf_xet]` or `pip install hf_xet`\n",
      "WARNING:huggingface_hub.file_download:Xet Storage is enabled for this repo, but the 'hf_xet' package is not installed. Falling back to regular HTTP download. For better performance, install the package with: `pip install huggingface_hub[hf_xet]` or `pip install hf_xet`\n"
     ]
    },
    {
     "output_type": "display_data",
     "data": {
      "text/plain": [
       "model.safetensors:   0%|          | 0.00/90.9M [00:00<?, ?B/s]"
      ],
      "application/vnd.jupyter.widget-view+json": {
       "version_major": 2,
       "version_minor": 0,
       "model_id": "0c15e6b2e6204b3f885396a9d08b29a4"
      }
     },
     "metadata": {}
    },
    {
     "output_type": "display_data",
     "data": {
      "text/plain": [
       "tokenizer_config.json:   0%|          | 0.00/350 [00:00<?, ?B/s]"
      ],
      "application/vnd.jupyter.widget-view+json": {
       "version_major": 2,
       "version_minor": 0,
       "model_id": "20741939473a41cab139ea1be21a2203"
      }
     },
     "metadata": {}
    },
    {
     "output_type": "display_data",
     "data": {
      "text/plain": [
       "vocab.txt:   0%|          | 0.00/232k [00:00<?, ?B/s]"
      ],
      "application/vnd.jupyter.widget-view+json": {
       "version_major": 2,
       "version_minor": 0,
       "model_id": "d1691c58b6ca4246a4e45592a24a9b5a"
      }
     },
     "metadata": {}
    },
    {
     "output_type": "display_data",
     "data": {
      "text/plain": [
       "tokenizer.json:   0%|          | 0.00/466k [00:00<?, ?B/s]"
      ],
      "application/vnd.jupyter.widget-view+json": {
       "version_major": 2,
       "version_minor": 0,
       "model_id": "108f566a6f574523a562777f308c90c9"
      }
     },
     "metadata": {}
    },
    {
     "output_type": "display_data",
     "data": {
      "text/plain": [
       "special_tokens_map.json:   0%|          | 0.00/112 [00:00<?, ?B/s]"
      ],
      "application/vnd.jupyter.widget-view+json": {
       "version_major": 2,
       "version_minor": 0,
       "model_id": "8c60788a3b20455abab611554c55f872"
      }
     },
     "metadata": {}
    },
    {
     "output_type": "display_data",
     "data": {
      "text/plain": [
       "config.json:   0%|          | 0.00/190 [00:00<?, ?B/s]"
      ],
      "application/vnd.jupyter.widget-view+json": {
       "version_major": 2,
       "version_minor": 0,
       "model_id": "d0b582f77d424ccf911a4fe59c43835a"
      }
     },
     "metadata": {}
    },
    {
     "output_type": "stream",
     "name": "stderr",
     "text": [
      "/usr/local/lib/python3.11/dist-packages/torch/nn/modules/transformer.py:382: UserWarning: enable_nested_tensor is True, but self.use_nested_tensor is False because encoder_layer.self_attn.batch_first was not True(use batch_first for better inference performance)\n",
      "  warnings.warn(\n"
     ]
    }
   ]
  },
  {
   "cell_type": "code",
   "source": [
    "print(model)"
   ],
   "metadata": {
    "colab": {
     "base_uri": "https://localhost:8080/"
    },
    "collapsed": true,
    "id": "TP8Ltm9-8OkW",
    "outputId": "129a2c4b-42fe-4d7c-ec90-aed086279a6f"
   },
   "execution_count": 15,
   "outputs": [
    {
     "output_type": "stream",
     "name": "stdout",
     "text": [
      "YOLOTaskSaliencyModel(\n",
      "  (backbone): YOLOBackbone(\n",
      "    (yolo_model): YOLO(\n",
      "      (model): DetectionModel(\n",
      "        (model): Sequential(\n",
      "          (0): Conv(\n",
      "            (conv): Conv2d(3, 32, kernel_size=(6, 6), stride=(2, 2), padding=(2, 2), bias=False)\n",
      "            (bn): BatchNorm2d(32, eps=0.001, momentum=0.03, affine=True, track_running_stats=True)\n",
      "            (act): SiLU(inplace=True)\n",
      "          )\n",
      "          (1): Conv(\n",
      "            (conv): Conv2d(32, 64, kernel_size=(3, 3), stride=(2, 2), padding=(1, 1), bias=False)\n",
      "            (bn): BatchNorm2d(64, eps=0.001, momentum=0.03, affine=True, track_running_stats=True)\n",
      "            (act): SiLU(inplace=True)\n",
      "          )\n",
      "          (2): C3(\n",
      "            (cv1): Conv(\n",
      "              (conv): Conv2d(64, 32, kernel_size=(1, 1), stride=(1, 1), bias=False)\n",
      "              (bn): BatchNorm2d(32, eps=0.001, momentum=0.03, affine=True, track_running_stats=True)\n",
      "              (act): SiLU(inplace=True)\n",
      "            )\n",
      "            (cv2): Conv(\n",
      "              (conv): Conv2d(64, 32, kernel_size=(1, 1), stride=(1, 1), bias=False)\n",
      "              (bn): BatchNorm2d(32, eps=0.001, momentum=0.03, affine=True, track_running_stats=True)\n",
      "              (act): SiLU(inplace=True)\n",
      "            )\n",
      "            (cv3): Conv(\n",
      "              (conv): Conv2d(64, 64, kernel_size=(1, 1), stride=(1, 1), bias=False)\n",
      "              (bn): BatchNorm2d(64, eps=0.001, momentum=0.03, affine=True, track_running_stats=True)\n",
      "              (act): SiLU(inplace=True)\n",
      "            )\n",
      "            (m): Sequential(\n",
      "              (0): Bottleneck(\n",
      "                (cv1): Conv(\n",
      "                  (conv): Conv2d(32, 32, kernel_size=(1, 1), stride=(1, 1), bias=False)\n",
      "                  (bn): BatchNorm2d(32, eps=0.001, momentum=0.03, affine=True, track_running_stats=True)\n",
      "                  (act): SiLU(inplace=True)\n",
      "                )\n",
      "                (cv2): Conv(\n",
      "                  (conv): Conv2d(32, 32, kernel_size=(3, 3), stride=(1, 1), padding=(1, 1), bias=False)\n",
      "                  (bn): BatchNorm2d(32, eps=0.001, momentum=0.03, affine=True, track_running_stats=True)\n",
      "                  (act): SiLU(inplace=True)\n",
      "                )\n",
      "              )\n",
      "            )\n",
      "          )\n",
      "          (3): Conv(\n",
      "            (conv): Conv2d(64, 128, kernel_size=(3, 3), stride=(2, 2), padding=(1, 1), bias=False)\n",
      "            (bn): BatchNorm2d(128, eps=0.001, momentum=0.03, affine=True, track_running_stats=True)\n",
      "            (act): SiLU(inplace=True)\n",
      "          )\n",
      "          (4): C3(\n",
      "            (cv1): Conv(\n",
      "              (conv): Conv2d(128, 64, kernel_size=(1, 1), stride=(1, 1), bias=False)\n",
      "              (bn): BatchNorm2d(64, eps=0.001, momentum=0.03, affine=True, track_running_stats=True)\n",
      "              (act): SiLU(inplace=True)\n",
      "            )\n",
      "            (cv2): Conv(\n",
      "              (conv): Conv2d(128, 64, kernel_size=(1, 1), stride=(1, 1), bias=False)\n",
      "              (bn): BatchNorm2d(64, eps=0.001, momentum=0.03, affine=True, track_running_stats=True)\n",
      "              (act): SiLU(inplace=True)\n",
      "            )\n",
      "            (cv3): Conv(\n",
      "              (conv): Conv2d(128, 128, kernel_size=(1, 1), stride=(1, 1), bias=False)\n",
      "              (bn): BatchNorm2d(128, eps=0.001, momentum=0.03, affine=True, track_running_stats=True)\n",
      "              (act): SiLU(inplace=True)\n",
      "            )\n",
      "            (m): Sequential(\n",
      "              (0): Bottleneck(\n",
      "                (cv1): Conv(\n",
      "                  (conv): Conv2d(64, 64, kernel_size=(1, 1), stride=(1, 1), bias=False)\n",
      "                  (bn): BatchNorm2d(64, eps=0.001, momentum=0.03, affine=True, track_running_stats=True)\n",
      "                  (act): SiLU(inplace=True)\n",
      "                )\n",
      "                (cv2): Conv(\n",
      "                  (conv): Conv2d(64, 64, kernel_size=(3, 3), stride=(1, 1), padding=(1, 1), bias=False)\n",
      "                  (bn): BatchNorm2d(64, eps=0.001, momentum=0.03, affine=True, track_running_stats=True)\n",
      "                  (act): SiLU(inplace=True)\n",
      "                )\n",
      "              )\n",
      "              (1): Bottleneck(\n",
      "                (cv1): Conv(\n",
      "                  (conv): Conv2d(64, 64, kernel_size=(1, 1), stride=(1, 1), bias=False)\n",
      "                  (bn): BatchNorm2d(64, eps=0.001, momentum=0.03, affine=True, track_running_stats=True)\n",
      "                  (act): SiLU(inplace=True)\n",
      "                )\n",
      "                (cv2): Conv(\n",
      "                  (conv): Conv2d(64, 64, kernel_size=(3, 3), stride=(1, 1), padding=(1, 1), bias=False)\n",
      "                  (bn): BatchNorm2d(64, eps=0.001, momentum=0.03, affine=True, track_running_stats=True)\n",
      "                  (act): SiLU(inplace=True)\n",
      "                )\n",
      "              )\n",
      "            )\n",
      "          )\n",
      "          (5): Conv(\n",
      "            (conv): Conv2d(128, 256, kernel_size=(3, 3), stride=(2, 2), padding=(1, 1), bias=False)\n",
      "            (bn): BatchNorm2d(256, eps=0.001, momentum=0.03, affine=True, track_running_stats=True)\n",
      "            (act): SiLU(inplace=True)\n",
      "          )\n",
      "          (6): C3(\n",
      "            (cv1): Conv(\n",
      "              (conv): Conv2d(256, 128, kernel_size=(1, 1), stride=(1, 1), bias=False)\n",
      "              (bn): BatchNorm2d(128, eps=0.001, momentum=0.03, affine=True, track_running_stats=True)\n",
      "              (act): SiLU(inplace=True)\n",
      "            )\n",
      "            (cv2): Conv(\n",
      "              (conv): Conv2d(256, 128, kernel_size=(1, 1), stride=(1, 1), bias=False)\n",
      "              (bn): BatchNorm2d(128, eps=0.001, momentum=0.03, affine=True, track_running_stats=True)\n",
      "              (act): SiLU(inplace=True)\n",
      "            )\n",
      "            (cv3): Conv(\n",
      "              (conv): Conv2d(256, 256, kernel_size=(1, 1), stride=(1, 1), bias=False)\n",
      "              (bn): BatchNorm2d(256, eps=0.001, momentum=0.03, affine=True, track_running_stats=True)\n",
      "              (act): SiLU(inplace=True)\n",
      "            )\n",
      "            (m): Sequential(\n",
      "              (0): Bottleneck(\n",
      "                (cv1): Conv(\n",
      "                  (conv): Conv2d(128, 128, kernel_size=(1, 1), stride=(1, 1), bias=False)\n",
      "                  (bn): BatchNorm2d(128, eps=0.001, momentum=0.03, affine=True, track_running_stats=True)\n",
      "                  (act): SiLU(inplace=True)\n",
      "                )\n",
      "                (cv2): Conv(\n",
      "                  (conv): Conv2d(128, 128, kernel_size=(3, 3), stride=(1, 1), padding=(1, 1), bias=False)\n",
      "                  (bn): BatchNorm2d(128, eps=0.001, momentum=0.03, affine=True, track_running_stats=True)\n",
      "                  (act): SiLU(inplace=True)\n",
      "                )\n",
      "              )\n",
      "              (1): Bottleneck(\n",
      "                (cv1): Conv(\n",
      "                  (conv): Conv2d(128, 128, kernel_size=(1, 1), stride=(1, 1), bias=False)\n",
      "                  (bn): BatchNorm2d(128, eps=0.001, momentum=0.03, affine=True, track_running_stats=True)\n",
      "                  (act): SiLU(inplace=True)\n",
      "                )\n",
      "                (cv2): Conv(\n",
      "                  (conv): Conv2d(128, 128, kernel_size=(3, 3), stride=(1, 1), padding=(1, 1), bias=False)\n",
      "                  (bn): BatchNorm2d(128, eps=0.001, momentum=0.03, affine=True, track_running_stats=True)\n",
      "                  (act): SiLU(inplace=True)\n",
      "                )\n",
      "              )\n",
      "              (2): Bottleneck(\n",
      "                (cv1): Conv(\n",
      "                  (conv): Conv2d(128, 128, kernel_size=(1, 1), stride=(1, 1), bias=False)\n",
      "                  (bn): BatchNorm2d(128, eps=0.001, momentum=0.03, affine=True, track_running_stats=True)\n",
      "                  (act): SiLU(inplace=True)\n",
      "                )\n",
      "                (cv2): Conv(\n",
      "                  (conv): Conv2d(128, 128, kernel_size=(3, 3), stride=(1, 1), padding=(1, 1), bias=False)\n",
      "                  (bn): BatchNorm2d(128, eps=0.001, momentum=0.03, affine=True, track_running_stats=True)\n",
      "                  (act): SiLU(inplace=True)\n",
      "                )\n",
      "              )\n",
      "            )\n",
      "          )\n",
      "          (7): Conv(\n",
      "            (conv): Conv2d(256, 512, kernel_size=(3, 3), stride=(2, 2), padding=(1, 1), bias=False)\n",
      "            (bn): BatchNorm2d(512, eps=0.001, momentum=0.03, affine=True, track_running_stats=True)\n",
      "            (act): SiLU(inplace=True)\n",
      "          )\n",
      "          (8): C3(\n",
      "            (cv1): Conv(\n",
      "              (conv): Conv2d(512, 256, kernel_size=(1, 1), stride=(1, 1), bias=False)\n",
      "              (bn): BatchNorm2d(256, eps=0.001, momentum=0.03, affine=True, track_running_stats=True)\n",
      "              (act): SiLU(inplace=True)\n",
      "            )\n",
      "            (cv2): Conv(\n",
      "              (conv): Conv2d(512, 256, kernel_size=(1, 1), stride=(1, 1), bias=False)\n",
      "              (bn): BatchNorm2d(256, eps=0.001, momentum=0.03, affine=True, track_running_stats=True)\n",
      "              (act): SiLU(inplace=True)\n",
      "            )\n",
      "            (cv3): Conv(\n",
      "              (conv): Conv2d(512, 512, kernel_size=(1, 1), stride=(1, 1), bias=False)\n",
      "              (bn): BatchNorm2d(512, eps=0.001, momentum=0.03, affine=True, track_running_stats=True)\n",
      "              (act): SiLU(inplace=True)\n",
      "            )\n",
      "            (m): Sequential(\n",
      "              (0): Bottleneck(\n",
      "                (cv1): Conv(\n",
      "                  (conv): Conv2d(256, 256, kernel_size=(1, 1), stride=(1, 1), bias=False)\n",
      "                  (bn): BatchNorm2d(256, eps=0.001, momentum=0.03, affine=True, track_running_stats=True)\n",
      "                  (act): SiLU(inplace=True)\n",
      "                )\n",
      "                (cv2): Conv(\n",
      "                  (conv): Conv2d(256, 256, kernel_size=(3, 3), stride=(1, 1), padding=(1, 1), bias=False)\n",
      "                  (bn): BatchNorm2d(256, eps=0.001, momentum=0.03, affine=True, track_running_stats=True)\n",
      "                  (act): SiLU(inplace=True)\n",
      "                )\n",
      "              )\n",
      "            )\n",
      "          )\n",
      "          (9): SPPF(\n",
      "            (cv1): Conv(\n",
      "              (conv): Conv2d(512, 256, kernel_size=(1, 1), stride=(1, 1), bias=False)\n",
      "              (bn): BatchNorm2d(256, eps=0.001, momentum=0.03, affine=True, track_running_stats=True)\n",
      "              (act): SiLU(inplace=True)\n",
      "            )\n",
      "            (cv2): Conv(\n",
      "              (conv): Conv2d(1024, 512, kernel_size=(1, 1), stride=(1, 1), bias=False)\n",
      "              (bn): BatchNorm2d(512, eps=0.001, momentum=0.03, affine=True, track_running_stats=True)\n",
      "              (act): SiLU(inplace=True)\n",
      "            )\n",
      "            (m): MaxPool2d(kernel_size=5, stride=1, padding=2, dilation=1, ceil_mode=False)\n",
      "          )\n",
      "          (10): Conv(\n",
      "            (conv): Conv2d(512, 256, kernel_size=(1, 1), stride=(1, 1), bias=False)\n",
      "            (bn): BatchNorm2d(256, eps=0.001, momentum=0.03, affine=True, track_running_stats=True)\n",
      "            (act): SiLU(inplace=True)\n",
      "          )\n",
      "          (11): Upsample(scale_factor=2.0, mode='nearest')\n",
      "          (12): Concat()\n",
      "          (13): C3(\n",
      "            (cv1): Conv(\n",
      "              (conv): Conv2d(512, 128, kernel_size=(1, 1), stride=(1, 1), bias=False)\n",
      "              (bn): BatchNorm2d(128, eps=0.001, momentum=0.03, affine=True, track_running_stats=True)\n",
      "              (act): SiLU(inplace=True)\n",
      "            )\n",
      "            (cv2): Conv(\n",
      "              (conv): Conv2d(512, 128, kernel_size=(1, 1), stride=(1, 1), bias=False)\n",
      "              (bn): BatchNorm2d(128, eps=0.001, momentum=0.03, affine=True, track_running_stats=True)\n",
      "              (act): SiLU(inplace=True)\n",
      "            )\n",
      "            (cv3): Conv(\n",
      "              (conv): Conv2d(256, 256, kernel_size=(1, 1), stride=(1, 1), bias=False)\n",
      "              (bn): BatchNorm2d(256, eps=0.001, momentum=0.03, affine=True, track_running_stats=True)\n",
      "              (act): SiLU(inplace=True)\n",
      "            )\n",
      "            (m): Sequential(\n",
      "              (0): Bottleneck(\n",
      "                (cv1): Conv(\n",
      "                  (conv): Conv2d(128, 128, kernel_size=(1, 1), stride=(1, 1), bias=False)\n",
      "                  (bn): BatchNorm2d(128, eps=0.001, momentum=0.03, affine=True, track_running_stats=True)\n",
      "                  (act): SiLU(inplace=True)\n",
      "                )\n",
      "                (cv2): Conv(\n",
      "                  (conv): Conv2d(128, 128, kernel_size=(3, 3), stride=(1, 1), padding=(1, 1), bias=False)\n",
      "                  (bn): BatchNorm2d(128, eps=0.001, momentum=0.03, affine=True, track_running_stats=True)\n",
      "                  (act): SiLU(inplace=True)\n",
      "                )\n",
      "              )\n",
      "            )\n",
      "          )\n",
      "          (14): Conv(\n",
      "            (conv): Conv2d(256, 128, kernel_size=(1, 1), stride=(1, 1), bias=False)\n",
      "            (bn): BatchNorm2d(128, eps=0.001, momentum=0.03, affine=True, track_running_stats=True)\n",
      "            (act): SiLU(inplace=True)\n",
      "          )\n",
      "          (15): Upsample(scale_factor=2.0, mode='nearest')\n",
      "          (16): Concat()\n",
      "          (17): C3(\n",
      "            (cv1): Conv(\n",
      "              (conv): Conv2d(256, 64, kernel_size=(1, 1), stride=(1, 1), bias=False)\n",
      "              (bn): BatchNorm2d(64, eps=0.001, momentum=0.03, affine=True, track_running_stats=True)\n",
      "              (act): SiLU(inplace=True)\n",
      "            )\n",
      "            (cv2): Conv(\n",
      "              (conv): Conv2d(256, 64, kernel_size=(1, 1), stride=(1, 1), bias=False)\n",
      "              (bn): BatchNorm2d(64, eps=0.001, momentum=0.03, affine=True, track_running_stats=True)\n",
      "              (act): SiLU(inplace=True)\n",
      "            )\n",
      "            (cv3): Conv(\n",
      "              (conv): Conv2d(128, 128, kernel_size=(1, 1), stride=(1, 1), bias=False)\n",
      "              (bn): BatchNorm2d(128, eps=0.001, momentum=0.03, affine=True, track_running_stats=True)\n",
      "              (act): SiLU(inplace=True)\n",
      "            )\n",
      "            (m): Sequential(\n",
      "              (0): Bottleneck(\n",
      "                (cv1): Conv(\n",
      "                  (conv): Conv2d(64, 64, kernel_size=(1, 1), stride=(1, 1), bias=False)\n",
      "                  (bn): BatchNorm2d(64, eps=0.001, momentum=0.03, affine=True, track_running_stats=True)\n",
      "                  (act): SiLU(inplace=True)\n",
      "                )\n",
      "                (cv2): Conv(\n",
      "                  (conv): Conv2d(64, 64, kernel_size=(3, 3), stride=(1, 1), padding=(1, 1), bias=False)\n",
      "                  (bn): BatchNorm2d(64, eps=0.001, momentum=0.03, affine=True, track_running_stats=True)\n",
      "                  (act): SiLU(inplace=True)\n",
      "                )\n",
      "              )\n",
      "            )\n",
      "          )\n",
      "          (18): Conv(\n",
      "            (conv): Conv2d(128, 128, kernel_size=(3, 3), stride=(2, 2), padding=(1, 1), bias=False)\n",
      "            (bn): BatchNorm2d(128, eps=0.001, momentum=0.03, affine=True, track_running_stats=True)\n",
      "            (act): SiLU(inplace=True)\n",
      "          )\n",
      "          (19): Concat()\n",
      "          (20): C3(\n",
      "            (cv1): Conv(\n",
      "              (conv): Conv2d(256, 128, kernel_size=(1, 1), stride=(1, 1), bias=False)\n",
      "              (bn): BatchNorm2d(128, eps=0.001, momentum=0.03, affine=True, track_running_stats=True)\n",
      "              (act): SiLU(inplace=True)\n",
      "            )\n",
      "            (cv2): Conv(\n",
      "              (conv): Conv2d(256, 128, kernel_size=(1, 1), stride=(1, 1), bias=False)\n",
      "              (bn): BatchNorm2d(128, eps=0.001, momentum=0.03, affine=True, track_running_stats=True)\n",
      "              (act): SiLU(inplace=True)\n",
      "            )\n",
      "            (cv3): Conv(\n",
      "              (conv): Conv2d(256, 256, kernel_size=(1, 1), stride=(1, 1), bias=False)\n",
      "              (bn): BatchNorm2d(256, eps=0.001, momentum=0.03, affine=True, track_running_stats=True)\n",
      "              (act): SiLU(inplace=True)\n",
      "            )\n",
      "            (m): Sequential(\n",
      "              (0): Bottleneck(\n",
      "                (cv1): Conv(\n",
      "                  (conv): Conv2d(128, 128, kernel_size=(1, 1), stride=(1, 1), bias=False)\n",
      "                  (bn): BatchNorm2d(128, eps=0.001, momentum=0.03, affine=True, track_running_stats=True)\n",
      "                  (act): SiLU(inplace=True)\n",
      "                )\n",
      "                (cv2): Conv(\n",
      "                  (conv): Conv2d(128, 128, kernel_size=(3, 3), stride=(1, 1), padding=(1, 1), bias=False)\n",
      "                  (bn): BatchNorm2d(128, eps=0.001, momentum=0.03, affine=True, track_running_stats=True)\n",
      "                  (act): SiLU(inplace=True)\n",
      "                )\n",
      "              )\n",
      "            )\n",
      "          )\n",
      "          (21): Conv(\n",
      "            (conv): Conv2d(256, 256, kernel_size=(3, 3), stride=(2, 2), padding=(1, 1), bias=False)\n",
      "            (bn): BatchNorm2d(256, eps=0.001, momentum=0.03, affine=True, track_running_stats=True)\n",
      "            (act): SiLU(inplace=True)\n",
      "          )\n",
      "          (22): Concat()\n",
      "          (23): C3(\n",
      "            (cv1): Conv(\n",
      "              (conv): Conv2d(512, 256, kernel_size=(1, 1), stride=(1, 1), bias=False)\n",
      "              (bn): BatchNorm2d(256, eps=0.001, momentum=0.03, affine=True, track_running_stats=True)\n",
      "              (act): SiLU(inplace=True)\n",
      "            )\n",
      "            (cv2): Conv(\n",
      "              (conv): Conv2d(512, 256, kernel_size=(1, 1), stride=(1, 1), bias=False)\n",
      "              (bn): BatchNorm2d(256, eps=0.001, momentum=0.03, affine=True, track_running_stats=True)\n",
      "              (act): SiLU(inplace=True)\n",
      "            )\n",
      "            (cv3): Conv(\n",
      "              (conv): Conv2d(512, 512, kernel_size=(1, 1), stride=(1, 1), bias=False)\n",
      "              (bn): BatchNorm2d(512, eps=0.001, momentum=0.03, affine=True, track_running_stats=True)\n",
      "              (act): SiLU(inplace=True)\n",
      "            )\n",
      "            (m): Sequential(\n",
      "              (0): Bottleneck(\n",
      "                (cv1): Conv(\n",
      "                  (conv): Conv2d(256, 256, kernel_size=(1, 1), stride=(1, 1), bias=False)\n",
      "                  (bn): BatchNorm2d(256, eps=0.001, momentum=0.03, affine=True, track_running_stats=True)\n",
      "                  (act): SiLU(inplace=True)\n",
      "                )\n",
      "                (cv2): Conv(\n",
      "                  (conv): Conv2d(256, 256, kernel_size=(3, 3), stride=(1, 1), padding=(1, 1), bias=False)\n",
      "                  (bn): BatchNorm2d(256, eps=0.001, momentum=0.03, affine=True, track_running_stats=True)\n",
      "                  (act): SiLU(inplace=True)\n",
      "                )\n",
      "              )\n",
      "            )\n",
      "          )\n",
      "          (24): Detect(\n",
      "            (cv2): ModuleList(\n",
      "              (0): Sequential(\n",
      "                (0): Conv(\n",
      "                  (conv): Conv2d(128, 64, kernel_size=(3, 3), stride=(1, 1), padding=(1, 1), bias=False)\n",
      "                  (bn): BatchNorm2d(64, eps=0.001, momentum=0.03, affine=True, track_running_stats=True)\n",
      "                  (act): SiLU(inplace=True)\n",
      "                )\n",
      "                (1): Conv(\n",
      "                  (conv): Conv2d(64, 64, kernel_size=(3, 3), stride=(1, 1), padding=(1, 1), bias=False)\n",
      "                  (bn): BatchNorm2d(64, eps=0.001, momentum=0.03, affine=True, track_running_stats=True)\n",
      "                  (act): SiLU(inplace=True)\n",
      "                )\n",
      "                (2): Conv2d(64, 64, kernel_size=(1, 1), stride=(1, 1))\n",
      "              )\n",
      "              (1): Sequential(\n",
      "                (0): Conv(\n",
      "                  (conv): Conv2d(256, 64, kernel_size=(3, 3), stride=(1, 1), padding=(1, 1), bias=False)\n",
      "                  (bn): BatchNorm2d(64, eps=0.001, momentum=0.03, affine=True, track_running_stats=True)\n",
      "                  (act): SiLU(inplace=True)\n",
      "                )\n",
      "                (1): Conv(\n",
      "                  (conv): Conv2d(64, 64, kernel_size=(3, 3), stride=(1, 1), padding=(1, 1), bias=False)\n",
      "                  (bn): BatchNorm2d(64, eps=0.001, momentum=0.03, affine=True, track_running_stats=True)\n",
      "                  (act): SiLU(inplace=True)\n",
      "                )\n",
      "                (2): Conv2d(64, 64, kernel_size=(1, 1), stride=(1, 1))\n",
      "              )\n",
      "              (2): Sequential(\n",
      "                (0): Conv(\n",
      "                  (conv): Conv2d(512, 64, kernel_size=(3, 3), stride=(1, 1), padding=(1, 1), bias=False)\n",
      "                  (bn): BatchNorm2d(64, eps=0.001, momentum=0.03, affine=True, track_running_stats=True)\n",
      "                  (act): SiLU(inplace=True)\n",
      "                )\n",
      "                (1): Conv(\n",
      "                  (conv): Conv2d(64, 64, kernel_size=(3, 3), stride=(1, 1), padding=(1, 1), bias=False)\n",
      "                  (bn): BatchNorm2d(64, eps=0.001, momentum=0.03, affine=True, track_running_stats=True)\n",
      "                  (act): SiLU(inplace=True)\n",
      "                )\n",
      "                (2): Conv2d(64, 64, kernel_size=(1, 1), stride=(1, 1))\n",
      "              )\n",
      "            )\n",
      "            (cv3): ModuleList(\n",
      "              (0): Sequential(\n",
      "                (0): Conv(\n",
      "                  (conv): Conv2d(128, 128, kernel_size=(3, 3), stride=(1, 1), padding=(1, 1), bias=False)\n",
      "                  (bn): BatchNorm2d(128, eps=0.001, momentum=0.03, affine=True, track_running_stats=True)\n",
      "                  (act): SiLU(inplace=True)\n",
      "                )\n",
      "                (1): Conv(\n",
      "                  (conv): Conv2d(128, 128, kernel_size=(3, 3), stride=(1, 1), padding=(1, 1), bias=False)\n",
      "                  (bn): BatchNorm2d(128, eps=0.001, momentum=0.03, affine=True, track_running_stats=True)\n",
      "                  (act): SiLU(inplace=True)\n",
      "                )\n",
      "                (2): Conv2d(128, 80, kernel_size=(1, 1), stride=(1, 1))\n",
      "              )\n",
      "              (1): Sequential(\n",
      "                (0): Conv(\n",
      "                  (conv): Conv2d(256, 128, kernel_size=(3, 3), stride=(1, 1), padding=(1, 1), bias=False)\n",
      "                  (bn): BatchNorm2d(128, eps=0.001, momentum=0.03, affine=True, track_running_stats=True)\n",
      "                  (act): SiLU(inplace=True)\n",
      "                )\n",
      "                (1): Conv(\n",
      "                  (conv): Conv2d(128, 128, kernel_size=(3, 3), stride=(1, 1), padding=(1, 1), bias=False)\n",
      "                  (bn): BatchNorm2d(128, eps=0.001, momentum=0.03, affine=True, track_running_stats=True)\n",
      "                  (act): SiLU(inplace=True)\n",
      "                )\n",
      "                (2): Conv2d(128, 80, kernel_size=(1, 1), stride=(1, 1))\n",
      "              )\n",
      "              (2): Sequential(\n",
      "                (0): Conv(\n",
      "                  (conv): Conv2d(512, 128, kernel_size=(3, 3), stride=(1, 1), padding=(1, 1), bias=False)\n",
      "                  (bn): BatchNorm2d(128, eps=0.001, momentum=0.03, affine=True, track_running_stats=True)\n",
      "                  (act): SiLU(inplace=True)\n",
      "                )\n",
      "                (1): Conv(\n",
      "                  (conv): Conv2d(128, 128, kernel_size=(3, 3), stride=(1, 1), padding=(1, 1), bias=False)\n",
      "                  (bn): BatchNorm2d(128, eps=0.001, momentum=0.03, affine=True, track_running_stats=True)\n",
      "                  (act): SiLU(inplace=True)\n",
      "                )\n",
      "                (2): Conv2d(128, 80, kernel_size=(1, 1), stride=(1, 1))\n",
      "              )\n",
      "            )\n",
      "            (dfl): DFL(\n",
      "              (conv): Conv2d(16, 1, kernel_size=(1, 1), stride=(1, 1), bias=False)\n",
      "            )\n",
      "          )\n",
      "        )\n",
      "      )\n",
      "    )\n",
      "    (feature_extractor): Sequential(\n",
      "      (0): Conv(\n",
      "        (conv): Conv2d(3, 32, kernel_size=(6, 6), stride=(2, 2), padding=(2, 2), bias=False)\n",
      "        (bn): BatchNorm2d(32, eps=0.001, momentum=0.03, affine=True, track_running_stats=True)\n",
      "        (act): SiLU(inplace=True)\n",
      "      )\n",
      "      (1): Conv(\n",
      "        (conv): Conv2d(32, 64, kernel_size=(3, 3), stride=(2, 2), padding=(1, 1), bias=False)\n",
      "        (bn): BatchNorm2d(64, eps=0.001, momentum=0.03, affine=True, track_running_stats=True)\n",
      "        (act): SiLU(inplace=True)\n",
      "      )\n",
      "      (2): C3(\n",
      "        (cv1): Conv(\n",
      "          (conv): Conv2d(64, 32, kernel_size=(1, 1), stride=(1, 1), bias=False)\n",
      "          (bn): BatchNorm2d(32, eps=0.001, momentum=0.03, affine=True, track_running_stats=True)\n",
      "          (act): SiLU(inplace=True)\n",
      "        )\n",
      "        (cv2): Conv(\n",
      "          (conv): Conv2d(64, 32, kernel_size=(1, 1), stride=(1, 1), bias=False)\n",
      "          (bn): BatchNorm2d(32, eps=0.001, momentum=0.03, affine=True, track_running_stats=True)\n",
      "          (act): SiLU(inplace=True)\n",
      "        )\n",
      "        (cv3): Conv(\n",
      "          (conv): Conv2d(64, 64, kernel_size=(1, 1), stride=(1, 1), bias=False)\n",
      "          (bn): BatchNorm2d(64, eps=0.001, momentum=0.03, affine=True, track_running_stats=True)\n",
      "          (act): SiLU(inplace=True)\n",
      "        )\n",
      "        (m): Sequential(\n",
      "          (0): Bottleneck(\n",
      "            (cv1): Conv(\n",
      "              (conv): Conv2d(32, 32, kernel_size=(1, 1), stride=(1, 1), bias=False)\n",
      "              (bn): BatchNorm2d(32, eps=0.001, momentum=0.03, affine=True, track_running_stats=True)\n",
      "              (act): SiLU(inplace=True)\n",
      "            )\n",
      "            (cv2): Conv(\n",
      "              (conv): Conv2d(32, 32, kernel_size=(3, 3), stride=(1, 1), padding=(1, 1), bias=False)\n",
      "              (bn): BatchNorm2d(32, eps=0.001, momentum=0.03, affine=True, track_running_stats=True)\n",
      "              (act): SiLU(inplace=True)\n",
      "            )\n",
      "          )\n",
      "        )\n",
      "      )\n",
      "      (3): Conv(\n",
      "        (conv): Conv2d(64, 128, kernel_size=(3, 3), stride=(2, 2), padding=(1, 1), bias=False)\n",
      "        (bn): BatchNorm2d(128, eps=0.001, momentum=0.03, affine=True, track_running_stats=True)\n",
      "        (act): SiLU(inplace=True)\n",
      "      )\n",
      "      (4): C3(\n",
      "        (cv1): Conv(\n",
      "          (conv): Conv2d(128, 64, kernel_size=(1, 1), stride=(1, 1), bias=False)\n",
      "          (bn): BatchNorm2d(64, eps=0.001, momentum=0.03, affine=True, track_running_stats=True)\n",
      "          (act): SiLU(inplace=True)\n",
      "        )\n",
      "        (cv2): Conv(\n",
      "          (conv): Conv2d(128, 64, kernel_size=(1, 1), stride=(1, 1), bias=False)\n",
      "          (bn): BatchNorm2d(64, eps=0.001, momentum=0.03, affine=True, track_running_stats=True)\n",
      "          (act): SiLU(inplace=True)\n",
      "        )\n",
      "        (cv3): Conv(\n",
      "          (conv): Conv2d(128, 128, kernel_size=(1, 1), stride=(1, 1), bias=False)\n",
      "          (bn): BatchNorm2d(128, eps=0.001, momentum=0.03, affine=True, track_running_stats=True)\n",
      "          (act): SiLU(inplace=True)\n",
      "        )\n",
      "        (m): Sequential(\n",
      "          (0): Bottleneck(\n",
      "            (cv1): Conv(\n",
      "              (conv): Conv2d(64, 64, kernel_size=(1, 1), stride=(1, 1), bias=False)\n",
      "              (bn): BatchNorm2d(64, eps=0.001, momentum=0.03, affine=True, track_running_stats=True)\n",
      "              (act): SiLU(inplace=True)\n",
      "            )\n",
      "            (cv2): Conv(\n",
      "              (conv): Conv2d(64, 64, kernel_size=(3, 3), stride=(1, 1), padding=(1, 1), bias=False)\n",
      "              (bn): BatchNorm2d(64, eps=0.001, momentum=0.03, affine=True, track_running_stats=True)\n",
      "              (act): SiLU(inplace=True)\n",
      "            )\n",
      "          )\n",
      "          (1): Bottleneck(\n",
      "            (cv1): Conv(\n",
      "              (conv): Conv2d(64, 64, kernel_size=(1, 1), stride=(1, 1), bias=False)\n",
      "              (bn): BatchNorm2d(64, eps=0.001, momentum=0.03, affine=True, track_running_stats=True)\n",
      "              (act): SiLU(inplace=True)\n",
      "            )\n",
      "            (cv2): Conv(\n",
      "              (conv): Conv2d(64, 64, kernel_size=(3, 3), stride=(1, 1), padding=(1, 1), bias=False)\n",
      "              (bn): BatchNorm2d(64, eps=0.001, momentum=0.03, affine=True, track_running_stats=True)\n",
      "              (act): SiLU(inplace=True)\n",
      "            )\n",
      "          )\n",
      "        )\n",
      "      )\n",
      "      (5): Conv(\n",
      "        (conv): Conv2d(128, 256, kernel_size=(3, 3), stride=(2, 2), padding=(1, 1), bias=False)\n",
      "        (bn): BatchNorm2d(256, eps=0.001, momentum=0.03, affine=True, track_running_stats=True)\n",
      "        (act): SiLU(inplace=True)\n",
      "      )\n",
      "      (6): C3(\n",
      "        (cv1): Conv(\n",
      "          (conv): Conv2d(256, 128, kernel_size=(1, 1), stride=(1, 1), bias=False)\n",
      "          (bn): BatchNorm2d(128, eps=0.001, momentum=0.03, affine=True, track_running_stats=True)\n",
      "          (act): SiLU(inplace=True)\n",
      "        )\n",
      "        (cv2): Conv(\n",
      "          (conv): Conv2d(256, 128, kernel_size=(1, 1), stride=(1, 1), bias=False)\n",
      "          (bn): BatchNorm2d(128, eps=0.001, momentum=0.03, affine=True, track_running_stats=True)\n",
      "          (act): SiLU(inplace=True)\n",
      "        )\n",
      "        (cv3): Conv(\n",
      "          (conv): Conv2d(256, 256, kernel_size=(1, 1), stride=(1, 1), bias=False)\n",
      "          (bn): BatchNorm2d(256, eps=0.001, momentum=0.03, affine=True, track_running_stats=True)\n",
      "          (act): SiLU(inplace=True)\n",
      "        )\n",
      "        (m): Sequential(\n",
      "          (0): Bottleneck(\n",
      "            (cv1): Conv(\n",
      "              (conv): Conv2d(128, 128, kernel_size=(1, 1), stride=(1, 1), bias=False)\n",
      "              (bn): BatchNorm2d(128, eps=0.001, momentum=0.03, affine=True, track_running_stats=True)\n",
      "              (act): SiLU(inplace=True)\n",
      "            )\n",
      "            (cv2): Conv(\n",
      "              (conv): Conv2d(128, 128, kernel_size=(3, 3), stride=(1, 1), padding=(1, 1), bias=False)\n",
      "              (bn): BatchNorm2d(128, eps=0.001, momentum=0.03, affine=True, track_running_stats=True)\n",
      "              (act): SiLU(inplace=True)\n",
      "            )\n",
      "          )\n",
      "          (1): Bottleneck(\n",
      "            (cv1): Conv(\n",
      "              (conv): Conv2d(128, 128, kernel_size=(1, 1), stride=(1, 1), bias=False)\n",
      "              (bn): BatchNorm2d(128, eps=0.001, momentum=0.03, affine=True, track_running_stats=True)\n",
      "              (act): SiLU(inplace=True)\n",
      "            )\n",
      "            (cv2): Conv(\n",
      "              (conv): Conv2d(128, 128, kernel_size=(3, 3), stride=(1, 1), padding=(1, 1), bias=False)\n",
      "              (bn): BatchNorm2d(128, eps=0.001, momentum=0.03, affine=True, track_running_stats=True)\n",
      "              (act): SiLU(inplace=True)\n",
      "            )\n",
      "          )\n",
      "          (2): Bottleneck(\n",
      "            (cv1): Conv(\n",
      "              (conv): Conv2d(128, 128, kernel_size=(1, 1), stride=(1, 1), bias=False)\n",
      "              (bn): BatchNorm2d(128, eps=0.001, momentum=0.03, affine=True, track_running_stats=True)\n",
      "              (act): SiLU(inplace=True)\n",
      "            )\n",
      "            (cv2): Conv(\n",
      "              (conv): Conv2d(128, 128, kernel_size=(3, 3), stride=(1, 1), padding=(1, 1), bias=False)\n",
      "              (bn): BatchNorm2d(128, eps=0.001, momentum=0.03, affine=True, track_running_stats=True)\n",
      "              (act): SiLU(inplace=True)\n",
      "            )\n",
      "          )\n",
      "        )\n",
      "      )\n",
      "      (7): Conv(\n",
      "        (conv): Conv2d(256, 512, kernel_size=(3, 3), stride=(2, 2), padding=(1, 1), bias=False)\n",
      "        (bn): BatchNorm2d(512, eps=0.001, momentum=0.03, affine=True, track_running_stats=True)\n",
      "        (act): SiLU(inplace=True)\n",
      "      )\n",
      "      (8): C3(\n",
      "        (cv1): Conv(\n",
      "          (conv): Conv2d(512, 256, kernel_size=(1, 1), stride=(1, 1), bias=False)\n",
      "          (bn): BatchNorm2d(256, eps=0.001, momentum=0.03, affine=True, track_running_stats=True)\n",
      "          (act): SiLU(inplace=True)\n",
      "        )\n",
      "        (cv2): Conv(\n",
      "          (conv): Conv2d(512, 256, kernel_size=(1, 1), stride=(1, 1), bias=False)\n",
      "          (bn): BatchNorm2d(256, eps=0.001, momentum=0.03, affine=True, track_running_stats=True)\n",
      "          (act): SiLU(inplace=True)\n",
      "        )\n",
      "        (cv3): Conv(\n",
      "          (conv): Conv2d(512, 512, kernel_size=(1, 1), stride=(1, 1), bias=False)\n",
      "          (bn): BatchNorm2d(512, eps=0.001, momentum=0.03, affine=True, track_running_stats=True)\n",
      "          (act): SiLU(inplace=True)\n",
      "        )\n",
      "        (m): Sequential(\n",
      "          (0): Bottleneck(\n",
      "            (cv1): Conv(\n",
      "              (conv): Conv2d(256, 256, kernel_size=(1, 1), stride=(1, 1), bias=False)\n",
      "              (bn): BatchNorm2d(256, eps=0.001, momentum=0.03, affine=True, track_running_stats=True)\n",
      "              (act): SiLU(inplace=True)\n",
      "            )\n",
      "            (cv2): Conv(\n",
      "              (conv): Conv2d(256, 256, kernel_size=(3, 3), stride=(1, 1), padding=(1, 1), bias=False)\n",
      "              (bn): BatchNorm2d(256, eps=0.001, momentum=0.03, affine=True, track_running_stats=True)\n",
      "              (act): SiLU(inplace=True)\n",
      "            )\n",
      "          )\n",
      "        )\n",
      "      )\n",
      "      (9): SPPF(\n",
      "        (cv1): Conv(\n",
      "          (conv): Conv2d(512, 256, kernel_size=(1, 1), stride=(1, 1), bias=False)\n",
      "          (bn): BatchNorm2d(256, eps=0.001, momentum=0.03, affine=True, track_running_stats=True)\n",
      "          (act): SiLU(inplace=True)\n",
      "        )\n",
      "        (cv2): Conv(\n",
      "          (conv): Conv2d(1024, 512, kernel_size=(1, 1), stride=(1, 1), bias=False)\n",
      "          (bn): BatchNorm2d(512, eps=0.001, momentum=0.03, affine=True, track_running_stats=True)\n",
      "          (act): SiLU(inplace=True)\n",
      "        )\n",
      "        (m): MaxPool2d(kernel_size=5, stride=1, padding=2, dilation=1, ceil_mode=False)\n",
      "      )\n",
      "    )\n",
      "  )\n",
      "  (fpn): SimpleFPN(\n",
      "    (conv_out): Conv2d(512, 128, kernel_size=(1, 1), stride=(1, 1))\n",
      "  )\n",
      "  (task_encoder): TaskEncoder(\n",
      "    (text_encoder): SentenceTransformer(\n",
      "      (0): Transformer({'max_seq_length': 256, 'do_lower_case': False}) with Transformer model: BertModel \n",
      "      (1): Pooling({'word_embedding_dimension': 384, 'pooling_mode_cls_token': False, 'pooling_mode_mean_tokens': True, 'pooling_mode_max_tokens': False, 'pooling_mode_mean_sqrt_len_tokens': False, 'pooling_mode_weightedmean_tokens': False, 'pooling_mode_lasttoken': False, 'include_prompt': True})\n",
      "      (2): Normalize()\n",
      "    )\n",
      "    (linear): Linear(in_features=384, out_features=64, bias=True)\n",
      "  )\n",
      "  (transformer_fusion): TransformerFusion(\n",
      "    (query_proj): Linear(in_features=64, out_features=128, bias=True)\n",
      "    (transformer_encoder): TransformerEncoder(\n",
      "      (layers): ModuleList(\n",
      "        (0): TransformerEncoderLayer(\n",
      "          (self_attn): MultiheadAttention(\n",
      "            (out_proj): NonDynamicallyQuantizableLinear(in_features=128, out_features=128, bias=True)\n",
      "          )\n",
      "          (linear1): Linear(in_features=128, out_features=2048, bias=True)\n",
      "          (dropout): Dropout(p=0.1, inplace=False)\n",
      "          (linear2): Linear(in_features=2048, out_features=128, bias=True)\n",
      "          (norm1): LayerNorm((128,), eps=1e-05, elementwise_affine=True)\n",
      "          (norm2): LayerNorm((128,), eps=1e-05, elementwise_affine=True)\n",
      "          (dropout1): Dropout(p=0.1, inplace=False)\n",
      "          (dropout2): Dropout(p=0.1, inplace=False)\n",
      "        )\n",
      "      )\n",
      "    )\n",
      "  )\n",
      "  (saliency_decoder): SaliencyDecoder(\n",
      "    (conv1): Conv2d(128, 64, kernel_size=(3, 3), stride=(1, 1), padding=(1, 1))\n",
      "    (deconv1): ConvTranspose2d(64, 32, kernel_size=(4, 4), stride=(2, 2), padding=(1, 1))\n",
      "    (deconv2): ConvTranspose2d(32, 1, kernel_size=(4, 4), stride=(2, 2), padding=(1, 1))\n",
      "  )\n",
      ")\n"
     ]
    }
   ]
  },
  {
   "cell_type": "code",
   "source": [
    "print(\"Batch size:\", train_loader.batch_size)"
   ],
   "metadata": {
    "id": "_JwWwMJR9_FH",
    "colab": {
     "base_uri": "https://localhost:8080/"
    },
    "outputId": "d52c0f8b-ad5a-4ac8-ea6a-f395d7aeb134"
   },
   "execution_count": 16,
   "outputs": [
    {
     "output_type": "stream",
     "name": "stdout",
     "text": [
      "Batch size: 8\n"
     ]
    }
   ]
  },
  {
   "cell_type": "code",
   "source": [
    "for epoch in range(num_epochs):\n",
    "    model.train()\n",
    "    running_loss = 0.0\n",
    "    for batch_idx, batch_data in enumerate(train_loader):\n",
    "        images = batch_data[\"stimuli\"].to(device)   # [B, 3, H, W]\n",
    "        fdm = batch_data[\"fdm\"].to(device)           # [B, 1, H, W]\n",
    "        # Task descriptions are returned as a list of strings\n",
    "        task_descs = batch_data[\"task_description\"]\n",
    "\n",
    "        optimizer.zero_grad()\n",
    "        pred_saliency = model(images, task_descs)    # Forward pass using task descriptions\n",
    "        pred_small = F.interpolate(\n",
    "            pred_saliency,\n",
    "            size=fdm.shape[-2:],          # (48, 48)\n",
    "            mode='bilinear',\n",
    "            align_corners=False\n",
    "        )\n",
    "        loss = criterion(pred_small, fdm)\n",
    "        loss.backward()\n",
    "        optimizer.step()\n",
    "\n",
    "        running_loss += loss.item()\n",
    "        if (batch_idx + 1) % 30 == 0:\n",
    "            print(f\"Epoch [{epoch+1}/{num_epochs}], Batch [{batch_idx+1}/{len(train_loader)}] Loss: {loss.item():.4f}\", flush=True)\n",
    "    epoch_loss = running_loss / len(train_loader)\n",
    "    print(f\"Epoch [{epoch+1}/{num_epochs}] Average Loss: {epoch_loss:.4f}\", flush=True)\n"
   ],
   "metadata": {
    "id": "VMLl6KIagnqR",
    "colab": {
     "base_uri": "https://localhost:8080/"
    },
    "outputId": "9fa06d4f-4d83-4d9f-82f9-162dbf6b5ebe",
    "collapsed": true
   },
   "execution_count": 17,
   "outputs": [
    {
     "output_type": "stream",
     "name": "stdout",
     "text": [
      "Epoch [1/10], Batch [30/173] Loss: 2.4930\n",
      "Epoch [1/10], Batch [60/173] Loss: 2.2115\n",
      "Epoch [1/10], Batch [90/173] Loss: 2.2630\n",
      "Epoch [1/10], Batch [120/173] Loss: 1.8057\n",
      "Epoch [1/10], Batch [150/173] Loss: 1.5473\n",
      "Epoch [1/10] Average Loss: 2.2526\n",
      "Epoch [2/10], Batch [30/173] Loss: 1.4717\n",
      "Epoch [2/10], Batch [60/173] Loss: 1.7233\n",
      "Epoch [2/10], Batch [90/173] Loss: 1.8422\n",
      "Epoch [2/10], Batch [120/173] Loss: 1.6973\n",
      "Epoch [2/10], Batch [150/173] Loss: 1.6525\n",
      "Epoch [2/10] Average Loss: 1.7021\n",
      "Epoch [3/10], Batch [30/173] Loss: 1.6211\n",
      "Epoch [3/10], Batch [60/173] Loss: 1.5138\n",
      "Epoch [3/10], Batch [90/173] Loss: 1.6462\n",
      "Epoch [3/10], Batch [120/173] Loss: 1.5330\n",
      "Epoch [3/10], Batch [150/173] Loss: 1.4598\n",
      "Epoch [3/10] Average Loss: 1.6005\n",
      "Epoch [4/10], Batch [30/173] Loss: 1.5602\n",
      "Epoch [4/10], Batch [60/173] Loss: 1.7659\n",
      "Epoch [4/10], Batch [90/173] Loss: 1.5155\n",
      "Epoch [4/10], Batch [120/173] Loss: 1.5142\n",
      "Epoch [4/10], Batch [150/173] Loss: 1.3656\n",
      "Epoch [4/10] Average Loss: 1.5587\n",
      "Epoch [5/10], Batch [30/173] Loss: 1.8236\n",
      "Epoch [5/10], Batch [60/173] Loss: 1.5223\n",
      "Epoch [5/10], Batch [90/173] Loss: 1.4401\n",
      "Epoch [5/10], Batch [120/173] Loss: 1.3977\n",
      "Epoch [5/10], Batch [150/173] Loss: 1.8858\n",
      "Epoch [5/10] Average Loss: 1.5261\n",
      "Epoch [6/10], Batch [30/173] Loss: 1.5027\n",
      "Epoch [6/10], Batch [60/173] Loss: 1.7579\n",
      "Epoch [6/10], Batch [90/173] Loss: 1.4302\n",
      "Epoch [6/10], Batch [120/173] Loss: 1.2992\n",
      "Epoch [6/10], Batch [150/173] Loss: 1.2943\n",
      "Epoch [6/10] Average Loss: 1.5027\n",
      "Epoch [7/10], Batch [30/173] Loss: 1.4782\n",
      "Epoch [7/10], Batch [60/173] Loss: 1.4588\n",
      "Epoch [7/10], Batch [90/173] Loss: 1.5554\n",
      "Epoch [7/10], Batch [120/173] Loss: 1.5076\n",
      "Epoch [7/10], Batch [150/173] Loss: 1.6723\n",
      "Epoch [7/10] Average Loss: 1.4822\n",
      "Epoch [8/10], Batch [30/173] Loss: 1.4005\n",
      "Epoch [8/10], Batch [60/173] Loss: 1.6411\n",
      "Epoch [8/10], Batch [90/173] Loss: 1.6010\n",
      "Epoch [8/10], Batch [120/173] Loss: 1.5227\n",
      "Epoch [8/10], Batch [150/173] Loss: 1.7142\n",
      "Epoch [8/10] Average Loss: 1.4570\n",
      "Epoch [9/10], Batch [30/173] Loss: 1.6237\n",
      "Epoch [9/10], Batch [60/173] Loss: 1.5455\n",
      "Epoch [9/10], Batch [90/173] Loss: 1.4376\n",
      "Epoch [9/10], Batch [120/173] Loss: 1.5074\n",
      "Epoch [9/10], Batch [150/173] Loss: 1.3678\n",
      "Epoch [9/10] Average Loss: 1.4437\n",
      "Epoch [10/10], Batch [30/173] Loss: 1.4618\n",
      "Epoch [10/10], Batch [60/173] Loss: 1.4806\n",
      "Epoch [10/10], Batch [90/173] Loss: 1.8007\n",
      "Epoch [10/10], Batch [120/173] Loss: 1.4090\n",
      "Epoch [10/10], Batch [150/173] Loss: 1.3236\n",
      "Epoch [10/10] Average Loss: 1.4160\n"
     ]
    }
   ]
  },
  {
   "cell_type": "code",
   "source": [
    "# Full Dataset (Test Set) Evaluation Cell\n",
    "\n",
    "import torch\n",
    "import torch.nn.functional as F\n",
    "\n",
    "# Make sure your model is in evaluation mode\n",
    "model.eval()\n",
    "\n",
    "# Lists to accumulate predictions and ground truths\n",
    "all_preds = []\n",
    "all_gts   = []\n",
    "\n",
    "# Iterate through the test_loader and move predictions and ground truths to CPU\n",
    "with torch.no_grad():\n",
    "    for batch_data in test_loader:\n",
    "        images    = batch_data[\"stimuli\"].to(device)          # [B, 3, H, W]\n",
    "        gts       = batch_data[\"fdm\"].to(device)              # [B, 1, H, W]\n",
    "        task_desc = batch_data[\"task_description\"]            # list of strings\n",
    "\n",
    "        # Forward pass through the model\n",
    "        preds = model(images, task_desc)                      # [B, 1, h’, w’]\n",
    "\n",
    "        # Resize predictions to match ground‐truth resolution\n",
    "        preds = F.interpolate(\n",
    "            preds,\n",
    "            size=gts.shape[-2:],                              # (H, W)\n",
    "            mode='bilinear',\n",
    "            align_corners=False\n",
    "        )\n",
    "\n",
    "        # Move to CPU and store\n",
    "        all_preds.append(preds.cpu())\n",
    "        all_gts.append(gts.cpu())\n",
    "\n",
    "# Concatenate all batches\n",
    "full_preds = torch.cat(all_preds, dim=0)  # [N, 1, H, W]\n",
    "full_gts   = torch.cat(all_gts,   dim=0)  # [N, 1, H, W]\n",
    "\n",
    "# Compute loss over the entire test set\n",
    "full_loss = criterion(full_preds.to(device), full_gts.to(device))\n",
    "print(f\"Test Set Loss: {full_loss.item():.4f}\")"
   ],
   "metadata": {
    "colab": {
     "base_uri": "https://localhost:8080/"
    },
    "id": "_JZR-zGUCled",
    "outputId": "9150ea39-1d6c-4f47-cd43-27e794d7c05c"
   },
   "execution_count": null,
   "outputs": [
    {
     "output_type": "stream",
     "name": "stdout",
     "text": [
      "Full Dataset Loss: 1.7164\n"
     ]
    }
   ]
  },
  {
   "cell_type": "markdown",
   "source": [
    "### Save the model"
   ],
   "metadata": {
    "id": "xnFCh-mOYk9v"
   }
  },
  {
   "cell_type": "code",
   "source": [
    "import os\n",
    "\n",
    "# Path to your models folder inside TDSP\n",
    "models_dir = \"/content/drive/MyDrive/TDSP/models\"\n",
    "# Create the folder if it doesn't exist\n",
    "os.makedirs(models_dir, exist_ok=True)\n",
    "\n",
    "# Full path where you want to save your model\n",
    "save_path = os.path.join(models_dir, \"train_test_splitted_10epoch.pth\")\n",
    "\n",
    "# Save the model state dictionary\n",
    "torch.save(model.state_dict(), save_path)\n",
    "print(f\"Model saved to {save_path}\")"
   ],
   "metadata": {
    "colab": {
     "base_uri": "https://localhost:8080/"
    },
    "id": "LnB1NffpUF-s",
    "outputId": "70c977d4-e02d-4eed-82c7-e3221ec71905"
   },
   "execution_count": 18,
   "outputs": [
    {
     "output_type": "stream",
     "name": "stdout",
     "text": [
      "Model saved to /content/drive/MyDrive/TDSP/models/train_test_splitted_10epoch.pth\n"
     ]
    }
   ]
  },
  {
   "cell_type": "markdown",
   "source": [
    "## Inference\n"
   ],
   "metadata": {
    "id": "BF5nOw9Nttft"
   }
  },
  {
   "cell_type": "markdown",
   "source": [
    "Inference of the most recent model on the test dataset."
   ],
   "metadata": {
    "id": "1zn55NYM__4Y"
   }
  },
  {
   "cell_type": "code",
   "source": [
    "import random, os\n",
    "import torch\n",
    "import torch.nn.functional as F\n",
    "import matplotlib.pyplot as plt\n",
    "\n",
    "def visualize_random_test_sample(model_path: str):\n",
    "    \"\"\"\n",
    "    Loads YOLOTaskSaliencyModel from model_path, picks a random image from test_ds,\n",
    "    runs it through the model for all 4 tasks, and plots predictions vs GT.\n",
    "    \"\"\"\n",
    "    device = torch.device(\"cuda\" if torch.cuda.is_available() else \"cpu\")\n",
    "    # 1) Load model\n",
    "    model = YOLOTaskSaliencyModel().to(device)\n",
    "    model.load_state_dict(torch.load(model_path, map_location=device))\n",
    "    model.eval()\n",
    "\n",
    "    # 2) Pick a random test‐split sample and get its base filename\n",
    "    rand_subset_idx = random.randint(0, len(test_ds) - 1)\n",
    "    orig_idx        = test_ds.indices[rand_subset_idx]\n",
    "    _, fdm_path, _  = dataset.samples[orig_idx]\n",
    "    base_name       = os.path.splitext(os.path.basename(fdm_path))[0]\n",
    "\n",
    "    # 3) Find all four views of that image in the full dataset\n",
    "    matched_idxs = [\n",
    "        i\n",
    "        for i, (_, fdm_p, _) in enumerate(dataset.samples)\n",
    "        if os.path.splitext(os.path.basename(fdm_p))[0] == base_name\n",
    "    ]\n",
    "    assert len(matched_idxs) == 4, f\"Expected 4 views for {base_name}, got {len(matched_idxs)}\"\n",
    "\n",
    "    # 4) Build a mini‐batch\n",
    "    samples      = [dataset[i] for i in matched_idxs]\n",
    "    images_batch = torch.stack([s[\"stimuli\"]          for s in samples], dim=0).to(device)  # [4,3,H,W]\n",
    "    fdm_batch    = torch.stack([s[\"fdm\"]              for s in samples], dim=0)          # [4,1,H,W]\n",
    "    descs        = [s[\"task_description\"] for s in samples]                              # 4 strings\n",
    "\n",
    "    # 5) Inference + resize\n",
    "    with torch.no_grad():\n",
    "        preds = model(images_batch, descs)\n",
    "        preds = F.interpolate(\n",
    "            preds,\n",
    "            size=fdm_batch.shape[-2:],\n",
    "            mode=\"bilinear\",\n",
    "            align_corners=False\n",
    "        )\n",
    "\n",
    "    # 6) To NumPy & plot\n",
    "    pred_np = preds.cpu().numpy()  # [4,1,H,W]\n",
    "    gt_np   = fdm_batch.numpy()    # [4,1,H,W]\n",
    "\n",
    "    fig, axes = plt.subplots(2, 4, figsize=(16, 6))\n",
    "    for i in range(4):\n",
    "        axes[0,i].imshow(pred_np[i,0], cmap=\"gray\")\n",
    "        axes[0,i].set_title(f\"Predicted\\n{descs[i]}\")\n",
    "        axes[0,i].axis(\"off\")\n",
    "\n",
    "        axes[1,i].imshow(gt_np[i,0], cmap=\"gray\")\n",
    "        axes[1,i].set_title(\"Ground Truth\")\n",
    "        axes[1,i].axis(\"off\")\n",
    "\n",
    "    fig.suptitle(f\"Random test image: {base_name}\\nModel: {os.path.basename(model_path)}\", y=1.02)\n",
    "    plt.tight_layout()\n",
    "    plt.show()"
   ],
   "metadata": {
    "id": "Abnq7dyIHiip"
   },
   "execution_count": 49,
   "outputs": []
  },
  {
   "cell_type": "code",
   "source": [
    "model_path = \"/content/drive/MyDrive/TDSP/models/train_test_splitted_10epoch.pth\"\n",
    "visualize_random_test_sample(model_path)"
   ],
   "metadata": {
    "colab": {
     "base_uri": "https://localhost:8080/",
     "height": 691
    },
    "id": "8_c8zXVGHvS_",
    "outputId": "ef42f167-3a80-411b-8d23-6145ec2a4456"
   },
   "execution_count": 57,
   "outputs": [
    {
     "output_type": "stream",
     "name": "stdout",
     "text": [
      "PRO TIP 💡 Replace 'model=yolov5s.pt' with new 'model=yolov5su.pt'.\n",
      "YOLOv5 'u' models are trained with https://github.com/ultralytics/ultralytics and feature improved performance vs standard YOLOv5 models trained with https://github.com/ultralytics/yolov5.\n",
      "\n"
     ]
    },
    {
     "output_type": "display_data",
     "data": {
      "text/plain": [
       "<Figure size 1600x600 with 8 Axes>"
      ],
      "image/png": "[encoded data removed]"
     },
     "metadata": {}
    }
   ]
  },
  {
   "cell_type": "markdown",
   "source": [
    "Evaluate model performance"
   ],
   "metadata": {
    "id": "buITmXRFRjPp"
   }
  },
  {
   "cell_type": "code",
   "source": [
    "import torch\n",
    "import torch.nn.functional as F\n",
    "\n",
    "def correlation_coefficient(pred: torch.Tensor, gt: torch.Tensor, eps: float = 1e-12) -> torch.Tensor:\n",
    "    \"\"\"\n",
    "    Pearson’s correlation between two maps of shape [H, W].\n",
    "    \"\"\"\n",
    "    p = pred.view(-1)\n",
    "    g = gt.view(-1)\n",
    "    p_mean = p.mean()\n",
    "    g_mean = g.mean()\n",
    "    num = ((p - p_mean) * (g - g_mean)).sum()\n",
    "    den = torch.sqrt(((p - p_mean)**2).sum() * ((g - g_mean)**2).sum()).clamp(min=eps)\n",
    "    return num / den\n",
    "\n",
    "def kl_divergence(pred: torch.Tensor, gt: torch.Tensor, eps: float = 1e-12) -> torch.Tensor:\n",
    "    \"\"\"\n",
    "    KL divergence treating each map as a discrete PDF over H×W.\n",
    "    \"\"\"\n",
    "    # normalize\n",
    "    p = pred.clamp(min=0)  # ensure non-negative\n",
    "    p = p / (p.sum() + eps)\n",
    "    g = gt / (gt.sum() + eps)\n",
    "    return (g * torch.log((g + eps) / (p + eps))).sum()\n"
   ],
   "metadata": {
    "id": "sW_Vcg8qqBf8"
   },
   "execution_count": 42,
   "outputs": []
  },
  {
   "cell_type": "code",
   "source": [
    "def evaluate_saliency_model(model, loader, device):\n",
    "    \"\"\"\n",
    "    Runs the model on every batch in `loader`, computes CC & KLD per-sample,\n",
    "    and returns their averages.\n",
    "    \"\"\"\n",
    "    model.to(device).eval()\n",
    "    cc_list, kld_list = [], []\n",
    "\n",
    "    with torch.no_grad():\n",
    "        for batch in loader:\n",
    "            imgs = batch[\"stimuli\"].to(device)   # [B,3,H,W]\n",
    "            gts  = batch[\"fdm\"].to(device)       # [B,1,H,W]\n",
    "            descs = batch[\"task_description\"]\n",
    "\n",
    "            # forward + resize\n",
    "            preds = model(imgs, descs)           # [B,1,h',w']\n",
    "            preds = F.interpolate(preds,\n",
    "                                  size=gts.shape[-2:],\n",
    "                                  mode=\"bilinear\",\n",
    "                                  align_corners=False)\n",
    "\n",
    "            B = preds.size(0)\n",
    "            for i in range(B):\n",
    "                cc_list.append(correlation_coefficient(preds[i,0], gts[i,0]).item())\n",
    "                kld_list.append(kl_divergence(preds[i,0],    gts[i,0]).item())\n",
    "\n",
    "    avg_cc  = sum(cc_list)  / len(cc_list)  if cc_list  else float(\"nan\")\n",
    "    avg_kld = sum(kld_list) / len(kld_list) if kld_list else float(\"nan\")\n",
    "\n",
    "    print(f\"Average CC:  {avg_cc:.4f}\")\n",
    "    print(f\"Average KLD: {avg_kld:.4f}\")\n",
    "    return avg_cc, avg_kld"
   ],
   "metadata": {
    "id": "u2DYZVgBRlzP"
   },
   "execution_count": 43,
   "outputs": []
  },
  {
   "cell_type": "code",
   "source": [
    "import torch\n",
    "\n",
    "def evaluate_single_model(model_path: str, loader, device):\n",
    "    \"\"\"\n",
    "    Loads YOLOTaskSaliencyModel from `model_path` and runs evaluate_saliency_model\n",
    "    on `loader`. Prints & returns avg CC and KLD.\n",
    "    \"\"\"\n",
    "    # 1) Load model\n",
    "    model = YOLOTaskSaliencyModel().to(device)\n",
    "    model.load_state_dict(torch.load(model_path, map_location=device))\n",
    "    model.eval()\n",
    "\n",
    "    # 2) Evaluate\n",
    "    print(f\"Evaluating: {model_path}\")\n",
    "    avg_cc, avg_kld = evaluate_saliency_model(model, loader, device)\n",
    "    return avg_cc, avg_kld"
   ],
   "metadata": {
    "id": "5XK2eTnAE00C"
   },
   "execution_count": 60,
   "outputs": []
  },
  {
   "cell_type": "code",
   "source": [
    "# ─── Example usage ────────────────────────────────\n",
    "device = torch.device(\"cuda\" if torch.cuda.is_available() else \"cpu\")\n",
    "\n",
    "# Just set the one checkpoint you want to test:\n",
    "model_path = \"/content/drive/MyDrive/TDSP/models/train_test_splitted_10epoch.pth\"\n",
    "\n",
    "# And call:\n",
    "cc, kld = evaluate_single_model(model_path, test_loader, device)"
   ],
   "metadata": {
    "colab": {
     "base_uri": "https://localhost:8080/"
    },
    "id": "ct_qqasWJGic",
    "outputId": "6003d6bc-559c-40af-c985-89dd04180871"
   },
   "execution_count": 61,
   "outputs": [
    {
     "output_type": "stream",
     "name": "stdout",
     "text": [
      "PRO TIP 💡 Replace 'model=yolov5s.pt' with new 'model=yolov5su.pt'.\n",
      "YOLOv5 'u' models are trained with https://github.com/ultralytics/ultralytics and feature improved performance vs standard YOLOv5 models trained with https://github.com/ultralytics/yolov5.\n",
      "\n"
     ]
    },
    {
     "output_type": "stream",
     "name": "stderr",
     "text": [
      "/usr/local/lib/python3.11/dist-packages/torch/nn/modules/transformer.py:382: UserWarning: enable_nested_tensor is True, but self.use_nested_tensor is False because encoder_layer.self_attn.batch_first was not True(use batch_first for better inference performance)\n",
      "  warnings.warn(\n"
     ]
    },
    {
     "output_type": "stream",
     "name": "stdout",
     "text": [
      "Evaluating: /content/drive/MyDrive/TDSP/models/train_test_splitted_10epoch.pth\n",
      "Average CC:  0.5990\n",
      "Average KLD: 1.0239\n"
     ]
    }
   ]
  }
 ]
}